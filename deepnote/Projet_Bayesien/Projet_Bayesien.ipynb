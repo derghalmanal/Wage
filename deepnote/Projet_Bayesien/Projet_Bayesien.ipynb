{
  "cells": [
    {
      "cell_type": "markdown",
      "metadata": {
        "cell_id": "1bf94b03af164d1081ee2b0821cbe832",
        "deepnote_cell_type": "markdown"
      },
      "source": "# Installation de JAGS",
      "block_group": "978debc5e27742af8d8a16c1feef3b64"
    },
    {
      "cell_type": "code",
      "metadata": {
        "source_hash": "8c73e81d",
        "execution_start": 1743171873024,
        "execution_millis": 19771,
        "execution_context_id": "505ef37d-fdf8-402b-95ff-bef62987593d",
        "cell_id": "c23aac4fbb2e47129b7618b62b68fb84",
        "deepnote_cell_type": "code"
      },
      "source": "system(\"apt-get update -y && apt-get install -y jags\")\ninstall.packages('runjags')",
      "block_group": "c23aac4fbb2e47129b7618b62b68fb84",
      "execution_count": 5,
      "outputs": [],
      "outputs_reference": null,
      "content_dependencies": null
    },
    {
      "cell_type": "code",
      "metadata": {
        "source_hash": "3d007eaa",
        "execution_start": 1743171745063,
        "execution_millis": 12,
        "execution_context_id": "505ef37d-fdf8-402b-95ff-bef62987593d",
        "cell_id": "c20d624b7abf460c9522c1b668ba6a18",
        "deepnote_cell_type": "code"
      },
      "source": "# Charger les bibliothèques nécessaires\nlibrary(dplyr)\nlibrary(ggplot2)\nlibrary(tidyverse)\nlibrary(runjags)",
      "block_group": "0ee9e201f09c4741997e1de7e54b1af3",
      "execution_count": 4,
      "outputs": [],
      "outputs_reference": null,
      "content_dependencies": null
    },
    {
      "cell_type": "markdown",
      "metadata": {
        "cell_id": "41f265e078b2435eb03203697e11d9c1",
        "deepnote_cell_type": "markdown"
      },
      "source": "### 1. Introdcution :\n\n\\@ While the gender pay gap is persistent and significant, people of all genders are subject to disparities in pay. Another ongoing discussion in the United States is that of the racial wage gap,[given the disparities in median household income across racial and ethnic groups].Black American households had a median income of 56,490 U.S. dollars in 2023, significantly lower than the median income of white households which stood at 89,050 U.S. dollars in the same year. Wage inequality in the U.S. - statistics & facts. Statistica\n\nA partir d'un échantillon de 534 américains décrits par 11 covariables, nous allons mener une analyse bayésienne de la disparité des revenus de la population aux étas unis.\n\nDans notre analyse, nous nous concentrons principalement sur l'étude des questions suivantes :\n\n-   Comment les salaires horaires diffèrent-ils entre les hommes et les femmes ayant des caractéristiques observées similaires ?\n\n-   Disparités de revenus parmi les ethnicités\n\n-   Disparité des revenues entre les femmes mariées et célibataires\n\n-   Quels facteurs expliquent les disparités de revenus observées ?\n\n## 2. Table de contenus :\n\n-   Bullet 1\n-   Bullet 2\n-   Bullet 3",
      "block_group": "a6b6230b20154b2bba9aaed982009511"
    },
    {
      "cell_type": "markdown",
      "metadata": {
        "cell_id": "228e38e3afcc447190972c9cbb2fab2c",
        "deepnote_cell_type": "markdown"
      },
      "source": "## Slide with R Output",
      "block_group": "0a31fd16739c48d28b871cc471115fb0"
    },
    {
      "cell_type": "code",
      "metadata": {
        "source_hash": "8fbf03fe",
        "execution_start": 1743169706894,
        "execution_millis": 218,
        "execution_context_id": "12b023f8-006a-49bb-8696-a7ea89fe5e6b",
        "cell_id": "5e666becff604bbba6640a2809404be7",
        "deepnote_cell_type": "code"
      },
      "source": "Wage_data = read.csv(\"https://raw.githubusercontent.com/derghalmanal/Wage/refs/heads/main/wage_data.csv\", header=TRUE, sep=\",\")",
      "block_group": "fd257086594b41ef873e3c197d0a5a1b",
      "execution_count": 3,
      "outputs": [],
      "outputs_reference": null,
      "content_dependencies": null
    },
    {
      "cell_type": "markdown",
      "metadata": {
        "cell_id": "c5c5a07345a14fa5b6223d8ce032c2a9",
        "deepnote_cell_type": "markdown"
      },
      "source": "1.  Prétraitement des données",
      "block_group": "648b7ffba3d84c35a496d550931d8751"
    },
    {
      "cell_type": "code",
      "metadata": {
        "source_hash": "85c403fa",
        "execution_start": 1743169714584,
        "execution_millis": 11,
        "execution_context_id": "12b023f8-006a-49bb-8696-a7ea89fe5e6b",
        "cell_id": "04cfe87d943a45e3af95a04372a80d1e",
        "deepnote_cell_type": "code"
      },
      "source": "# check the data\nselected_data1 <- Wage_data %>% select(education, south, female, workexp, unionmember, wages)\nselected_data2 <- Wage_data %>% select(age, ethnicity, occupation, sector, married)\nas.data.frame(head(glimpse(selected_data1), n=5))\nas.data.frame(head(glimpse(selected_data2), n=5))",
      "block_group": "8c7c4d4454ed49048c14cb8db8ac7946",
      "execution_count": 4,
      "outputs": [],
      "outputs_reference": null,
      "content_dependencies": null
    },
    {
      "cell_type": "markdown",
      "metadata": {
        "cell_id": "3fc7169d6bed446793cb3581276c1204",
        "deepnote_cell_type": "markdown"
      },
      "source": "Notre jeu de données Wage_data contient les variables suivantes : \\* education: Années d'études \\* south: Indicateur de la région sud \\* female: Indicateur de genre (0 = Homme, 1 = Femme) \\* workexp: Années d'expérience professionnelle \\* unionmember: Indicateur de membre du syndicat \\* wages: Salaire horaire \\* age: Âge \\* ethnicity: Ethnicité (White, Hispanic, Other) \\* occupation: Occupation (Management, Sales, Clerical, Professional, Service, Other) \\* sector: Secteur d'activité (Manufactoring, Construction, Other) \\* married: Indicateur de statut marital",
      "block_group": "c895154b1c1f4ab3b3148e15f3720afe"
    },
    {
      "cell_type": "code",
      "metadata": {
        "source_hash": "90bc09fa",
        "execution_start": 1743169721607,
        "execution_millis": 15,
        "execution_context_id": "12b023f8-006a-49bb-8696-a7ea89fe5e6b",
        "cell_id": "0966e2db020d4e11b798a11c498e58a1",
        "deepnote_cell_type": "code"
      },
      "source": "# copy <- Wage_data\nage_bins <- c(18, 25, 39, 54, Inf)\nage_labels <- c(\"Y18-25\", \"Y26-39\", \"Y40-54\", \"Y55\")\n\n# Transformer la variable age en catégories\nWage_data$age <- cut(Wage_data$age, breaks = age_bins, labels = age_labels, right = FALSE)\n\n# Convertir en factors\nWage_data[c(\"south\", \"female\", \"unionmember\", \"ethnicity\", \"occupation\", \"sector\",\"married\")] <- lapply(Wage_data[c(\"south\", \"female\", \"unionmember\", \"ethnicity\", \"occupation\", \"sector\",\"married\")], factor)",
      "block_group": "0dd03676bd1d4164956220ec8e8cedd1",
      "execution_count": 5,
      "outputs": [],
      "outputs_reference": null,
      "content_dependencies": null
    },
    {
      "cell_type": "code",
      "metadata": {
        "source_hash": "2383c10e",
        "execution_start": 1743169729120,
        "execution_millis": 31,
        "execution_context_id": "12b023f8-006a-49bb-8696-a7ea89fe5e6b",
        "cell_id": "48f0f0aabc0947b0bfc75efa32e9baa7",
        "deepnote_cell_type": "code"
      },
      "source": "min(Wage_data$education) # 2\nmax(Wage_data$education) # 18\nmin(Wage_data$workexp) # 0\nmax(Wage_data$workexp)  # 55",
      "block_group": "f2b7344d3a7b4b16a5c5621ac2bbb939",
      "execution_count": 6,
      "outputs": [],
      "outputs_reference": null,
      "content_dependencies": null
    },
    {
      "cell_type": "markdown",
      "metadata": {
        "cell_id": "84e4e23e7ff844609873889eaa67217e",
        "deepnote_cell_type": "markdown"
      },
      "source": "2.  Analyse descriptive et visualisation",
      "block_group": "f082919c541b4c79ae1d4558110c65d0"
    },
    {
      "cell_type": "code",
      "metadata": {
        "source_hash": "201547fe",
        "execution_start": 1743169734510,
        "execution_millis": 16,
        "execution_context_id": "12b023f8-006a-49bb-8696-a7ea89fe5e6b",
        "cell_id": "219a2eb840254e228be089cb8255ffae",
        "deepnote_cell_type": "code"
      },
      "source": "plot_credible_intervals <- function(fit) {\n  # Extract the MCMC samples and the names of the parameters\n  samples <- as.data.frame(fit$mcmc %>% lapply(as_tibble) %>% bind_rows())\n  params <- names(samples)\n\n  # Calculate the 50% and 95% credible intervals for each parameter\n  intervals <- data.frame(param = character(), lower = numeric(), upper = numeric())\n  for (param in params) {\n    est_mean <- mean(samples[[param]])\n    est_median <- median(samples[[param]])\n    ci_50_infCI <- quantile(samples[[param]], probs = 0.25)\n    ci_50_supCI <- quantile(samples[[param]], probs = 0.75)\n    ci_95_infCI <- quantile(samples[[param]], probs = 0.025)\n    ci_95_supCI <- quantile(samples[[param]], probs = 0.975)\n    intervals <- rbind(intervals, data.frame(param = param, est_mean = est_mean, est_median = est_median, ci_50_infCI = ci_50_infCI, ci_50_supCI = ci_50_supCI, ci_95_infCI = ci_95_infCI, ci_95_supCI = ci_95_supCI))\n  }\n\n  # Create a ggplot object\n  p <- ggplot(intervals, aes(y = param)) +\n    theme_classic() +\n    geom_segment(aes(y = param, yend = param, x = ci_95_infCI, xend = ci_95_supCI),\n      color = \"red\", size = 0.5\n    ) +\n    geom_segment(aes(y = param, yend = param, x = ci_50_infCI, xend = ci_50_supCI),\n      color = \"red\", size = 1.5\n    ) +\n    geom_point(aes(x = est_mean), size = 3) +\n    labs(title = \"Posterior credible intervals\") +\n    xlab(\"\") +\n    ylab(\"\")\n\n  # Print the plot\n  print(p)\n}",
      "block_group": "c3fdaea05eb4450ba9e632fc22520b93",
      "execution_count": 7,
      "outputs": [],
      "outputs_reference": null,
      "content_dependencies": null
    },
    {
      "cell_type": "markdown",
      "metadata": {
        "cell_id": "99c810bcefd149dd98677dc3477ce7a9",
        "deepnote_cell_type": "markdown"
      },
      "source": "##### Modélisation bayésienne des disparités de salaires par ethnicité\n",
      "block_group": "f667496508554e47833a8b3b3da86f7f"
    },
    {
      "cell_type": "code",
      "metadata": {
        "source_hash": "b1c01c61",
        "execution_start": 1743169741169,
        "execution_millis": 3066,
        "execution_context_id": "12b023f8-006a-49bb-8696-a7ea89fe5e6b",
        "cell_id": "68eb2a72a6164685b16b9f5132c0719a",
        "deepnote_cell_type": "code"
      },
      "source": "model_string_ethnicity <- \"\nmodel {\n  for (i in 1:N) {\n    wages[i] ~ dnorm(mu_ethnic[ethnicity[i]], tau)\n  }\n  for (j in 1:K) {\n    mu_ethnic[j] ~ dnorm(0,10)\n  }\n  tau <- pow(sigma, -2)\n  sigma ~ dunif(0, 100)\n}\n\"\n\ndata_jags <- list(\n  wages = Wage_data$wages,\n  ethnicity = as.numeric(factor(Wage_data$ethnicity)),\n  N = nrow(Wage_data),\n  K = length(unique(Wage_data$ethnicity))\n)\n\ninits <- function() {\n  list(mu_ethnic = rnorm(length(unique(Wage_data$ethnicity))), sigma = runif(1))\n}\n\nparameters <- c(\"mu_ethnic\", \"sigma\")\n\nresults <- run.jags(model = model_string_ethnicity, data = data_jags, inits = inits, n.chains = 3, burnin = 1000, sample = 5000, monitor = parameters)\n\ncat(\"Résultats du modèle JAGS pour la variable ethnicity:\\n\")\nas.data.frame(summary(results))",
      "block_group": "79a086520a234730af1ab006b67bbafc",
      "execution_count": 8,
      "outputs": [],
      "outputs_reference": null,
      "content_dependencies": null
    },
    {
      "cell_type": "markdown",
      "metadata": {
        "cell_id": "c2eb370ebadc42e487e602f3c5bec821",
        "deepnote_cell_type": "markdown"
      },
      "source": "Ces résultats montrent les estimations des moyennes des salaires par ethnicité (mu_ethnic) et l'écart-type (sigma). Les valeurs de mu_ethnic[3], l'ethnicité \"White\" sont nettement plus élevées, ce qui indique une disparité significative des salaires pour cette ethnicité par rapport aux autres.",
      "block_group": "6288fa6d2f3440c98b6f5283cda61695"
    },
    {
      "cell_type": "code",
      "metadata": {
        "source_hash": "7cbef16e",
        "execution_start": 1743169752464,
        "execution_millis": 941,
        "execution_context_id": "12b023f8-006a-49bb-8696-a7ea89fe5e6b",
        "cell_id": "5fee19be4b144a228b95dbb88f7e85fa",
        "deepnote_cell_type": "code"
      },
      "source": "plot_credible_intervals(results)",
      "block_group": "7550c57973c54dbf8f6a580fa4bed38e",
      "execution_count": 9,
      "outputs": [],
      "outputs_reference": null,
      "content_dependencies": null
    },
    {
      "cell_type": "markdown",
      "metadata": {
        "cell_id": "f54408dd6463409ba560485cef8a2f0f",
        "deepnote_cell_type": "markdown"
      },
      "source": "##### Diagnostic MCMC",
      "block_group": "280e9562536b46eaa0e178c8fff6bd76"
    },
    {
      "cell_type": "markdown",
      "metadata": {
        "cell_id": "0f07a91b6ce04bda99c31424bb514cf0",
        "deepnote_cell_type": "markdown"
      },
      "source": "##### Modélisation bayésienne des disparités de salaires par genre",
      "block_group": "503084eb0e3e4c2292aaa2a4d4c66528"
    },
    {
      "cell_type": "code",
      "metadata": {
        "source_hash": "e3a1b4c4",
        "execution_start": 1743169763522,
        "execution_millis": 4699,
        "execution_context_id": "12b023f8-006a-49bb-8696-a7ea89fe5e6b",
        "cell_id": "c62d0af345d241208ac7fc2a0a5622d3",
        "deepnote_cell_type": "code"
      },
      "source": "library(runjags)\n\nmodel_string <- \"\nmodel {\n  for (i in 1:N) {\n    wages[i] ~ dnorm(mu_sex[sex[i]], tau)\n  }\n  for (j in 1:2) {\n    mu_sex[j] ~ dnorm(0, 10)\n  }\n  tau <- pow(sigma, -2)\n  sigma ~ dunif(0, 100)\n}\n\"\n\ndata_jags <- list(\n  wages = Wage_data$wages,\n  sex = as.numeric(factor(Wage_data$female)),\n  N = nrow(Wage_data),\n  K = 2\n)\n\ninits <- function() {\n  list(mu_sex = rnorm(2), sigma = runif(1))\n}\n\nparameters <- c(\"mu_sex\", \"sigma\")\n\nresults_sex <- run.jags(model = model_string, data = data_jags, inits = inits, n.chains = 3, burnin = 1000, sample = 5000, monitor = parameters)\n\ncat(\"Résultats du modèle JAGS pour la variable sex:\\n\")\nas.data.frame(summary(results))",
      "block_group": "a09c2b1f1d2b48d0907ad4a64bce5804",
      "execution_count": 10,
      "outputs": [],
      "outputs_reference": null,
      "content_dependencies": null
    },
    {
      "cell_type": "code",
      "metadata": {
        "source_hash": "f7e9d6c",
        "execution_start": 1743169774754,
        "execution_millis": 222,
        "execution_context_id": "12b023f8-006a-49bb-8696-a7ea89fe5e6b",
        "cell_id": "20b45f629e0f42219b6b385074f21950",
        "deepnote_cell_type": "code"
      },
      "source": "plot_credible_intervals(results_sex)",
      "block_group": "100175e3bf154b4799ce2893794bda01",
      "execution_count": 11,
      "outputs": [],
      "outputs_reference": null,
      "content_dependencies": null
    },
    {
      "cell_type": "markdown",
      "metadata": {
        "cell_id": "14588cfe053141d99bcebf5dbe7deb79",
        "deepnote_cell_type": "markdown"
      },
      "source": "## Régression bayésienne",
      "block_group": "bcb55443e9d2477e87712499ed4585d4"
    },
    {
      "cell_type": "code",
      "metadata": {
        "source_hash": "411b934d",
        "execution_start": 1743169780575,
        "execution_millis": 15,
        "execution_context_id": "12b023f8-006a-49bb-8696-a7ea89fe5e6b",
        "cell_id": "a8b5430555094291bb3073f8e69069a7",
        "deepnote_cell_type": "code"
      },
      "source": "model_string_regression <- \"\nmodel {\n  for (i in 1:N) {\n    wages[i] ~ dnorm(mu[i], tau)\n    mu[i] <- beta0 + beta1 * education[i] + beta2 * south[i] + beta3 * female[i] + beta4 * workexp[i] + beta5 * unionmember[i] + beta6 * age[i] + beta7 * ethnicity[i] + beta8 * occupation[i] + beta9 * sector[i] + beta10 * married[i]\n  }\n  beta0 ~ dnorm(0, 0.0001)\n  beta1 ~ dnorm(0, 0.0001)\n  beta2 ~ dnorm(0, 0.0001)\n  beta3 ~ dnorm(0, 0.0001)\n  beta4 ~ dnorm(0, 0.0001)\n  beta5 ~ dnorm(0, 0.0001)\n  beta6 ~ dnorm(0, 0.0001)\n  beta7 ~ dnorm(0, 0.0001)\n  beta8 ~ dnorm(0, 0.0001)\n  beta9 ~ dnorm(0, 0.0001)\n  beta10 ~ dnorm(0, 0.0001)\n  tau <- pow(sigma, -2)\n  sigma ~ dunif(0, 100)\n}\n\"\n\ndata_jags_regression <- list(\n  wages = data$wages,\n  education = data$education,\n  south = as.numeric(data$south),\n  female = as.numeric(data$female),\n  workexp = data$workexp,\n  unionmember = as.numeric(data$unionmember),\n  age = as.numeric(data$age),\n  ethnicity = as.numeric(factor(data$ethnicity)),\n  occupation = as.numeric(factor(data$occupation)),\n  sector = as.numeric(factor(data$sector)),\n  married = as.numeric(data$married),\n  N = nrow(data)\n)\n\ninits_regression <- function() {\n  list(beta0 = rnorm(1), beta1 = rnorm(1), beta2 = rnorm(1), beta3 = rnorm(1), beta4 = rnorm(1), beta5 = rnorm(1), beta6 = rnorm(1), beta7 = rnorm(1), beta8 = rnorm(1), beta9 = rnorm(1), beta10 = rnorm(1), sigma = runif(1))\n}\n\nparameters_regression <- c(\"beta0\", \"beta1\", \"beta2\", \"beta3\", \"beta4\", \"beta5\", \"beta6\", \"beta7\", \"beta8\", \"beta9\", \"beta10\", \"sigma\")\n\nresults_regression <- run.jags(model = model_string_regression, data = data_jags_regression, inits = inits_regression, n.chains = 3, burnin = 1000, sample = 5000, monitor = parameters_regression)\n\nsummary(results_regression)",
      "block_group": "8f91e3426ba045e4b157c536d8ca5c46",
      "execution_count": 12,
      "outputs": [],
      "outputs_reference": null,
      "content_dependencies": null
    },
    {
      "cell_type": "code",
      "metadata": {
        "cell_id": "65e79de565dd49919fe15ff7ee8721a4",
        "deepnote_cell_type": "code"
      },
      "source": "",
      "block_group": "b475424cd807433bb58e72ace85159b4",
      "execution_count": null,
      "outputs": [],
      "outputs_reference": null,
      "content_dependencies": null
    },
    {
      "cell_type": "markdown",
      "source": "<a style='text-decoration:none;line-height:16px;display:flex;color:#5B5B62;padding:10px;justify-content:end;' href='https://deepnote.com?utm_source=created-in-deepnote-cell&projectId=650b0311-43bb-4704-b320-0c62dbd2dedc' target=\"_blank\">\n<img alt='Created in deepnote.com' style='display:inline;max-height:16px;margin:0px;margin-right:7.5px;' src='data:image/svg+xml;base64,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' > </img>\nCreated in <span style='font-weight:600;margin-left:4px;'>Deepnote</span></a>",
      "metadata": {
        "created_in_deepnote_cell": true,
        "deepnote_cell_type": "markdown"
      }
    }
  ],
  "nbformat": 4,
  "nbformat_minor": 0,
  "metadata": {
    "deepnote_notebook_id": "d6cd1e1b653b4793b56b2f6d4e865fb4"
  }
}