{
  "cells": [
    {
      "cell_type": "markdown",
      "metadata": {
        "cell_id": "1bf94b03af164d1081ee2b0821cbe832",
        "deepnote_cell_type": "markdown"
      },
      "source": "## Installation de JAGS et importation des données",
      "block_group": "978debc5e27742af8d8a16c1feef3b64"
    },
    {
      "cell_type": "code",
      "metadata": {
        "source_hash": "8c73e81d",
        "execution_start": 1743257483905,
        "execution_millis": 47788,
        "is_output_hidden": true,
        "execution_context_id": "d805f68c-cd4f-4650-adee-db19c002e5a3",
        "deepnote_app_is_output_hidden": true,
        "cell_id": "c23aac4fbb2e47129b7618b62b68fb84",
        "deepnote_cell_type": "code"
      },
      "source": "system(\"apt-get update -y && apt-get install -y jags\")\ninstall.packages('runjags')",
      "block_group": "c23aac4fbb2e47129b7618b62b68fb84",
      "execution_count": 1,
      "outputs": [],
      "outputs_reference": null,
      "content_dependencies": null
    },
    {
      "cell_type": "code",
      "metadata": {
        "source_hash": "3d007eaa",
        "execution_start": 1743257531763,
        "execution_millis": 899,
        "is_output_hidden": true,
        "execution_context_id": "d805f68c-cd4f-4650-adee-db19c002e5a3",
        "deepnote_app_is_output_hidden": true,
        "cell_id": "c20d624b7abf460c9522c1b668ba6a18",
        "deepnote_cell_type": "code"
      },
      "source": "# Charger les bibliothèques nécessaires\nlibrary(dplyr)\nlibrary(ggplot2)\nlibrary(tidyverse)\nlibrary(runjags)",
      "block_group": "0ee9e201f09c4741997e1de7e54b1af3",
      "execution_count": 2,
      "outputs": [],
      "outputs_reference": null,
      "content_dependencies": null
    },
    {
      "cell_type": "markdown",
      "metadata": {
        "cell_id": "41f265e078b2435eb03203697e11d9c1",
        "deepnote_cell_type": "markdown"
      },
      "source": "# Modèle génératif et espace des paramètres\n\nOn veut construire un modèle prédictif pour le salaire des individus pour lesquels on connait 11 variables applicatives (âge, éducation, experience professionnelle, etc.), 434 individus dans un jeu de données d'entraînement et 100 individus dans le jeu de données de test.\n\nOn note $Y_i \\in \\mathbb{R}$ le salaire de l'individu $i$ et $X_i \\in \\mathbb{R}^{11}$ les variables explicatives de l'individu $i$.\n\nRégression linéaire:\n$Y_i = \\beta_0 + \\beta_1 X_{1i} + \\beta_2 X_{2i} + \\cdots + \\beta_{10} X_{10i} + \\beta_{11} X_{11i} + \\sigma \\epsilon_i$\n12 paramètres $\\beta = (\\beta_0, \\beta_1, \\beta_2, \\cdots, \\beta_{10}, \\beta_{11})$  $\\epsilon_i \\sim \\mathcal{N}(0, 1)$ et $\\sigma \\in \\mathbb{R^+}$\n\nCertaines variables peuvent avoir peu ou pas d'effet sur le salaire, ie des $\\beta_i = 0$.\n\n## Distribution à postériori\n\nA partir de $y=(y_1, y_2, \\cdots, y_{434})$ et $ X=(X_1, X_2, \\cdots, X_{434})$, on peut calculer $P(\\beta | y, X)$ et regarder $P(\\beta_j \\neq 0 | y, X)$ pour chaque coefficient.\n\n## Performances prédictives\n\nUn manière d'évaluer la performance prédictive $\\hat{\\beta}_{bayes} = E(\\beta | y, X)$\n$X_{test}$ matrice 100x11\n$y_{test}$ les observations\n$y_{test,Bayes} = X_{test} \\hat{\\beta}_{bayes}$\n\n# Degrès de croyance\n\nQue croit-on sur l'effet de chaque variable explicative sur le salaire?\n\nNous pouvons formuler des hypothèse à priori sur l'impact des différentes variables :\n\n- Éducation : On s’attend à une relation positive entre le niveau d’éducation et le salaire.\n\n- Expérience professionnelle (workexp) : Plus d’expérience est généralement associée à un salaire plus élevé.\n\n- Sexe (female) : Il est bien documenté qu’un écart salarial entre hommes et femmes existe (gender pay gap).\n\n- Région (south) : Il peut y avoir des différences salariales régionales.\n\n- Appartenance syndicale (unionmember) : Être syndiqué peut influencer le salaire.\n\n- Âge (age) : En général, l’âge est corrélé à l’expérience professionnelle, mais il pourrait aussi capturer d’autres dynamiques comme la discrimination liée à l’âge.\n\n- Ethnicité (ethnicity) : Certaines inégalités salariales peuvent exister selon l’origine ethnique.\n\n- Occupation et secteur (occupation, sector) : Le type d’emploi et le secteur d’activité influencent fortement le salaire.\n\n- Statut matrimonial (married) : Certaines études suggèrent que les personnes mariées ont des salaires plus élevés, en particulier les hommes.\n\n\n### Estimation d'un paramètre $\\theta$ avec des données\n\nAyant obtenu {$Y=y$} , $P(\\theta | y) = \\frac{P(\\theta , y)}{P(y)} = \\frac{P(\\theta) P(y | \\theta)}{P(y)}$\n\nDonc $posterior \\propto prior \\times likelihood$\n\n$prior = P(\\theta)$ : croyance initial avant d'observer les données\n$likelihood = P(y | \\theta)$ : Probabilité d'observer les données en fonction des paramètres du modèle\n$posterior = P(\\theta | y)$ : La Distribution à posteriori après avoir observé les données\n\n",
      "block_group": "a6b6230b20154b2bba9aaed982009511"
    },
    {
      "cell_type": "markdown",
      "metadata": {
        "cell_id": "228e38e3afcc447190972c9cbb2fab2c",
        "deepnote_cell_type": "markdown"
      },
      "source": "# 2. Observation",
      "block_group": "0a31fd16739c48d28b871cc471115fb0"
    },
    {
      "cell_type": "markdown",
      "metadata": {
        "cell_id": "f3ba62db2e23434abc64dfed76678b2c",
        "deepnote_cell_type": "markdown"
      },
      "source": "Nous allons commencer par importer les données.",
      "block_group": "1779be761ffb4757ae5909183f9ec25d"
    },
    {
      "cell_type": "code",
      "metadata": {
        "source_hash": "95319de9",
        "execution_start": 1743257532713,
        "execution_millis": 232,
        "execution_context_id": "d805f68c-cd4f-4650-adee-db19c002e5a3",
        "cell_id": "5e666becff604bbba6640a2809404be7",
        "deepnote_cell_type": "code"
      },
      "source": "wage_data = read.csv(\"https://raw.githubusercontent.com/derghalmanal/Wage/refs/heads/main/wage_data.csv\", header=TRUE, sep=\",\")",
      "block_group": "fd257086594b41ef873e3c197d0a5a1b",
      "execution_count": 3,
      "outputs": [],
      "outputs_reference": null,
      "content_dependencies": null
    },
    {
      "cell_type": "markdown",
      "metadata": {
        "cell_id": "c636ee1765bc4ca987712bfc4df27225",
        "deepnote_cell_type": "markdown"
      },
      "source": "Notre jeu de données comprend 534 individus. Chaque individu a 11 variables : education, south, female, workexp, unionmember, wages, age, ethnicity, occupation, sector, married.",
      "block_group": "5ccf368e2f444bf6a3338593a8780d48"
    },
    {
      "cell_type": "code",
      "metadata": {
        "source_hash": "72571706",
        "execution_start": 1743257532996,
        "execution_millis": 1,
        "execution_context_id": "d805f68c-cd4f-4650-adee-db19c002e5a3",
        "cell_id": "608abae99589435ca95395d7759b0e67",
        "deepnote_cell_type": "code"
      },
      "source": "#shape of the data\ndim(wage_data)",
      "block_group": "56b2b4fe7db54684802359ab8940d9f6",
      "execution_count": 4,
      "outputs": [],
      "outputs_reference": null,
      "content_dependencies": null
    },
    {
      "cell_type": "markdown",
      "metadata": {
        "cell_id": "65c2b39bf4b248929bc9963fe1e9604c",
        "deepnote_cell_type": "markdown"
      },
      "source": "- Variables quantitatives:\n    > **education**: Années d'études\n    >**workexp**: Années d'expêrience professionnelle\n    >**wages**: Salaire en dollars horaires\n    >**age**: âge\n\n- Variables qualitatives:\n    >**south**: Vit dans le sud ou non\n    >**female**: Indicateur de genre (0 = Homme, 1 = Femme)\n    >**unionmember**: Indicateur de membre du syndicat (0 = Non, 1 = Oui)\n    >**married**: Indicateur de statut marital. Marié(e) ou non.\n\n- Variables categorielles:\n    >**ethnicity**: Ethnicité (White, Hispanic, Other)\n    >**occupation**: Occupation (Management, Sales, Clerical, Professional, Service, Other)\n    >**sector**: Secteur d'activité (Manufactoring, Construction, Other)\n",
      "block_group": "714167f543ea447baeff62c52e95f7dd"
    },
    {
      "cell_type": "code",
      "metadata": {
        "source_hash": "69df3669",
        "execution_start": 1743257533053,
        "execution_millis": 0,
        "execution_context_id": "d805f68c-cd4f-4650-adee-db19c002e5a3",
        "cell_id": "3e04606e97ab47ca9d5a8d5a1a7fe6cc",
        "deepnote_cell_type": "code"
      },
      "source": "head(wage_data, 5)",
      "block_group": "28ec6b53c45740d1a17829c74a704819",
      "execution_count": 5,
      "outputs": [],
      "outputs_reference": null,
      "content_dependencies": null
    },
    {
      "cell_type": "code",
      "metadata": {
        "source_hash": "dda84e9",
        "execution_start": 1743257533104,
        "execution_millis": 2,
        "execution_context_id": "d805f68c-cd4f-4650-adee-db19c002e5a3",
        "cell_id": "1a9e9a39c12f4f79a243352b645f1abc",
        "deepnote_cell_type": "code"
      },
      "source": "str(wage_data)",
      "block_group": "5d1ea260d56e4004a534d82e9efa4b20",
      "execution_count": 6,
      "outputs": [],
      "outputs_reference": null,
      "content_dependencies": null
    },
    {
      "cell_type": "markdown",
      "metadata": {
        "cell_id": "de6b55655a444e9a9655e071d4892dd2",
        "deepnote_cell_type": "markdown"
      },
      "source": "## Visualisation",
      "block_group": "5d9c31ea83c14574bf5f01528d51aa56"
    },
    {
      "cell_type": "markdown",
      "metadata": {
        "cell_id": "5ad59300cec04a6da32d3dc096e74d4a",
        "deepnote_cell_type": "markdown"
      },
      "source": "Distribution des salaires",
      "block_group": "5998fef5519c449199ffbb501c575bef"
    },
    {
      "cell_type": "code",
      "metadata": {
        "source_hash": "4f9e6649",
        "execution_start": 1743257533178,
        "execution_millis": 1209,
        "execution_context_id": "d805f68c-cd4f-4650-adee-db19c002e5a3",
        "cell_id": "87118172c9674b30aae7599c70d95836",
        "deepnote_cell_type": "code"
      },
      "source": "# Histogramme des salaires\nggplot(wage_data, aes(x=wages)) +\n  geom_histogram(binwidth = 1, fill=\"skyblue\", color=\"black\", alpha=0.7) +\n  labs(title=\"Distribution des Salaires\", x=\"Salaire\", y=\"Fréquence\")",
      "block_group": "75736af4f107461bade10b1e8cd6a024",
      "execution_count": 7,
      "outputs": [],
      "outputs_reference": null,
      "content_dependencies": null
    },
    {
      "cell_type": "markdown",
      "metadata": {
        "cell_id": "10737c8d66264ebcad8345d745f3dcf6",
        "deepnote_cell_type": "markdown"
      },
      "source": "Salaire par sexe (female)",
      "block_group": "5b53723b3fa84810a27c4ae72ae66585"
    },
    {
      "cell_type": "code",
      "metadata": {
        "source_hash": "669fa277",
        "execution_start": 1743257534445,
        "execution_millis": 349,
        "execution_context_id": "d805f68c-cd4f-4650-adee-db19c002e5a3",
        "cell_id": "4648e1fee3494b9b8acae58490afa8cf",
        "deepnote_cell_type": "code"
      },
      "source": "# Boxplot des salaires par sexe\nggplot(wage_data, aes(x=factor(female), y=wages, fill=factor(female))) +\n  geom_boxplot() +\n  labs(title=\"Salaires par Sexe\", x=\"Sexe (0 = Homme, 1 = Femme)\", y=\"Salaire\") +\n  scale_fill_manual(values=c(\"lightblue\", \"lightcoral\"))\n",
      "block_group": "6f640b2d867a4f85a688508e087731be",
      "execution_count": 8,
      "outputs": [],
      "outputs_reference": null,
      "content_dependencies": null
    },
    {
      "cell_type": "markdown",
      "metadata": {
        "cell_id": "22b9abfb920c49c7b300b910d0220046",
        "deepnote_cell_type": "markdown"
      },
      "source": "Salaire par ethnie",
      "block_group": "45927ccc77414476a814957c0f38ccea"
    },
    {
      "cell_type": "code",
      "metadata": {
        "source_hash": "2e99b08d",
        "execution_start": 1743257534854,
        "execution_millis": 422,
        "execution_context_id": "d805f68c-cd4f-4650-adee-db19c002e5a3",
        "cell_id": "62c693b6be8443ef882e3746455c3ef8",
        "deepnote_cell_type": "code"
      },
      "source": "# Boxplot des salaires par ethnie\nggplot(wage_data, aes(x=ethnicity, y=wages, fill=ethnicity)) +\n  geom_boxplot() +\n  labs(title=\"Salaires par Ethnie\", x=\"Ethnie\", y=\"Salaire\") +\n  theme(axis.text.x = element_text(angle = 45, hjust = 1))",
      "block_group": "5c4f65972d3b482fb9d49afeefbf0226",
      "execution_count": 9,
      "outputs": [],
      "outputs_reference": null,
      "content_dependencies": null
    },
    {
      "cell_type": "markdown",
      "metadata": {
        "cell_id": "9fc3e0cb12574364bf43f2fc1ed4cb1e",
        "deepnote_cell_type": "markdown"
      },
      "source": "Relation entre experience professionnelle et salaires",
      "block_group": "fa86bb6bd66c4f97944b1a543ef9ce1f"
    },
    {
      "cell_type": "code",
      "metadata": {
        "source_hash": "ee1b72c6",
        "execution_start": 1743257535355,
        "execution_millis": 205,
        "execution_context_id": "d805f68c-cd4f-4650-adee-db19c002e5a3",
        "cell_id": "2248ab6888ab4602bb460625a2bf126b",
        "deepnote_cell_type": "code"
      },
      "source": "# Nuage de points (scatter plot) entre expérience et salaire\nggplot(wage_data, aes(x=workexp, y=wages)) +\n  geom_point(alpha=0.5, color=\"darkblue\") +\n  labs(title=\"Relation entre Expérience et Salaire\", x=\"Expérience (années)\", y=\"Salaire\")",
      "block_group": "1c5a2c01e28f4c79bf713175c6c8821b",
      "execution_count": 10,
      "outputs": [],
      "outputs_reference": null,
      "content_dependencies": null
    },
    {
      "cell_type": "markdown",
      "metadata": {
        "cell_id": "304940adec474b38afae480b51f5c568",
        "deepnote_cell_type": "markdown"
      },
      "source": "Salaire par secteur",
      "block_group": "367b8101445745619a1ef32a4178e558"
    },
    {
      "cell_type": "code",
      "metadata": {
        "source_hash": "de904e33",
        "execution_start": 1743257535614,
        "execution_millis": 277,
        "execution_context_id": "d805f68c-cd4f-4650-adee-db19c002e5a3",
        "cell_id": "b1ccbb48be3e465ab58fa9b97966fc04",
        "deepnote_cell_type": "code"
      },
      "source": "# Boxplot des salaires par secteur\nggplot(wage_data, aes(x=sector, y=wages, fill=sector)) +\n  geom_boxplot() +\n  labs(title=\"Salaires par Secteur\", x=\"Secteur\", y=\"Salaire\") +\n  theme(axis.text.x = element_text(angle = 45, hjust = 1))",
      "block_group": "dbbd6dffc8fc4230a08986c73ccd8b78",
      "execution_count": 11,
      "outputs": [],
      "outputs_reference": null,
      "content_dependencies": null
    },
    {
      "cell_type": "markdown",
      "metadata": {
        "cell_id": "df1e716d72d04526813d1ba52f7b3ded",
        "deepnote_cell_type": "markdown"
      },
      "source": "Relation entre éducation et salaire (education vs wages)\nOn observe que plus l'éducation est élevée, plus le salaire est haut",
      "block_group": "175a25c4b8704bea8567dfa1a6509b9a"
    },
    {
      "cell_type": "code",
      "metadata": {
        "source_hash": "a1fa357e",
        "execution_start": 1743257535957,
        "execution_millis": 185,
        "execution_context_id": "d805f68c-cd4f-4650-adee-db19c002e5a3",
        "cell_id": "ad5a3b12488d41908d89ab74bf4717e5",
        "deepnote_cell_type": "code"
      },
      "source": "# Nuage de points entre éducation et salaire\nggplot(wage_data, aes(x=education, y=wages)) +\n  geom_point(alpha=0.5, color=\"purple\") +\n  labs(title=\"Relation entre Éducation et Salaire\", x=\"Niveau d'Éducation\", y=\"Salaire\")",
      "block_group": "2ef8e2f4d29443bf85c11b41ca393202",
      "execution_count": 12,
      "outputs": [],
      "outputs_reference": null,
      "content_dependencies": null
    },
    {
      "cell_type": "markdown",
      "metadata": {
        "cell_id": "e0c248101f074ad395d02fdb1c03fc3b",
        "deepnote_cell_type": "markdown"
      },
      "source": " Répartition des salaires selon le mariage (married).\n Ici on observe que les personnes mariées ont un salaire plus haut",
      "block_group": "ac56ed42c7ad4c169e164e3d0b7f5b32"
    },
    {
      "cell_type": "code",
      "metadata": {
        "source_hash": "eefb694c",
        "execution_start": 1743257536194,
        "execution_millis": 285,
        "execution_context_id": "d805f68c-cd4f-4650-adee-db19c002e5a3",
        "cell_id": "e68642a36b66461b8dd76be9cd124df3",
        "deepnote_cell_type": "code"
      },
      "source": "# Boxplot des salaires selon le statut marital\nggplot(wage_data, aes(x=factor(married), y=wages, fill=factor(married))) +\n  geom_boxplot() +\n  labs(title=\"Salaires par Statut Marital\", x=\"Statut Marital (0 = Non Marié, 1 = Marié)\", y=\"Salaire\") +\n  scale_fill_manual(values=c(\"lightgreen\", \"lightpink\"))",
      "block_group": "c4904ad016d845e79f08b79298cb3d9d",
      "execution_count": 13,
      "outputs": [],
      "outputs_reference": null,
      "content_dependencies": null
    },
    {
      "cell_type": "markdown",
      "metadata": {
        "cell_id": "9e2c1e09a4ae46889f3d4e3df0368aae",
        "deepnote_cell_type": "markdown"
      },
      "source": "Matrice de corrélation (pour les variables numériques)\nIci on observe les correlations entre les variables. Il y a une forte corrélation entre l'age et l'experience professionnelle. Il existe une corrélation également entre le salaire et le niveau d'éducation.\nIl y a également une corrélation négative entre le niveau d'éducation et l'experience professionnelle",
      "block_group": "a7dcb6d7f98f4199bbbb3a0c5a00da3b"
    },
    {
      "cell_type": "code",
      "metadata": {
        "source_hash": "4a737b5a",
        "execution_start": 1743257536533,
        "execution_millis": 5256,
        "execution_context_id": "d805f68c-cd4f-4650-adee-db19c002e5a3",
        "cell_id": "ab4b63105a654d55b9a250d970b724ad",
        "deepnote_cell_type": "code"
      },
      "source": "# Matrice de corrélation\ninstall.packages(\"corrplot\")\nlibrary(corrplot)\ncor_matrix <- cor(wage_data[, c(\"education\", \"workexp\", \"wages\", \"age\")], use=\"complete.obs\")\ncorrplot(cor_matrix, method=\"circle\", type=\"lower\", tl.cex=0.8)",
      "block_group": "9617d73289f04c80af8418529b218ca7",
      "execution_count": 14,
      "outputs": [],
      "outputs_reference": null,
      "content_dependencies": null
    },
    {
      "cell_type": "markdown",
      "metadata": {
        "cell_id": "5a5e3a7166744e12ad49fd647f8a0354",
        "deepnote_cell_type": "markdown"
      },
      "source": "Relation entre l'age et l'experience professionnelle\nOn observe que l'age des individus est fortement correle avec l'experience professionnelle, ce qui fait sens puisque plus l'age est grand, plus l'experience professionnelle est longue.",
      "block_group": "be99fa5266384fe3b2fc37d295142fe7"
    },
    {
      "cell_type": "code",
      "metadata": {
        "source_hash": "cd494c11",
        "execution_start": 1743257541843,
        "execution_millis": 204,
        "execution_context_id": "d805f68c-cd4f-4650-adee-db19c002e5a3",
        "cell_id": "697e86e1a44c43c3909f4997fa6edfde",
        "deepnote_cell_type": "code"
      },
      "source": "# Nuage de points entre éducation et salaire\nggplot(wage_data, aes(x=age, y=workexp)) +\n  geom_point(alpha=0.5, color=\"purple\") +\n  labs(title=\"Relation entre Age et Expérience Professionnelle\", x=\"Age\", y=\"Expérieence Professionnelle\")",
      "block_group": "54ccc50fe270453da0500bce60df0d4d",
      "execution_count": 15,
      "outputs": [],
      "outputs_reference": null,
      "content_dependencies": null
    },
    {
      "cell_type": "code",
      "metadata": {
        "source_hash": "eb6a5853",
        "execution_start": 1743257542104,
        "execution_millis": 2739,
        "execution_context_id": "d805f68c-cd4f-4650-adee-db19c002e5a3",
        "cell_id": "2c08fe192f5743ac9279a87b3c44260b",
        "deepnote_cell_type": "code"
      },
      "source": "# Pairplot avec GGally\nlibrary(GGally)\nggpairs(wage_data[, c(\"education\", \"workexp\", \"wages\", \"age\")])",
      "block_group": "7165e54409884ab48867521717528c18",
      "execution_count": 16,
      "outputs": [],
      "outputs_reference": null,
      "content_dependencies": null
    },
    {
      "cell_type": "markdown",
      "metadata": {
        "cell_id": "4007214431864ead8c4475832c0e47bc",
        "deepnote_cell_type": "markdown"
      },
      "source": "On réalise un histogramme pour chaque variable.",
      "block_group": "071d75061ad44ccc95b029a24ad82cfe"
    },
    {
      "cell_type": "code",
      "metadata": {
        "source_hash": "e8437e1",
        "execution_start": 1743257544903,
        "execution_millis": 16,
        "execution_context_id": "d805f68c-cd4f-4650-adee-db19c002e5a3",
        "cell_id": "5f7b3247bad84b509ca01f47a9d79897",
        "deepnote_cell_type": "code"
      },
      "source": "numeric_columns <- sapply(wage_data, is.numeric) # Identifier les colonnes numériques\nnumeric_data <- wage_data[, numeric_columns] # Extraire les colonnes numériques\n\n# Créer les histogrammes pour chaque colonne numérique\npar(mfrow=c(3,3)) \nfor (col in colnames(numeric_data)) {\n  hist(numeric_data[[col]], \n       main=paste(\"Histogramme de\", col), \n       xlab=col, \n       col=\"skyblue\", \n       border=\"black\", \n       breaks=60)\n}\n\npar(mfrow=c(1,1))\n",
      "block_group": "293b023e72d446298f4faec68aaaf2e4",
      "execution_count": 17,
      "outputs": [],
      "outputs_reference": null,
      "content_dependencies": null
    },
    {
      "cell_type": "markdown",
      "metadata": {
        "formattedRanges": [],
        "cell_id": "1bb6d0681a28419aaca27ca40429474b",
        "deepnote_cell_type": "text-cell-p"
      },
      "source": "",
      "block_group": "1842586d94ab4da4804a3ff01775bb43"
    },
    {
      "cell_type": "markdown",
      "source": "<a style='text-decoration:none;line-height:16px;display:flex;color:#5B5B62;padding:10px;justify-content:end;' href='https://deepnote.com?utm_source=created-in-deepnote-cell&projectId=650b0311-43bb-4704-b320-0c62dbd2dedc' target=\"_blank\">\n<img alt='Created in deepnote.com' style='display:inline;max-height:16px;margin:0px;margin-right:7.5px;' src='data:image/svg+xml;base64,PD94bWwgdmVyc2lvbj0iMS4wIiBlbmNvZGluZz0iVVRGLTgiPz4KPHN2ZyB3aWR0aD0iODBweCIgaGVpZ2h0PSI4MHB4IiB2aWV3Qm94PSIwIDAgODAgODAiIHZlcnNpb249IjEuMSIgeG1sbnM9Imh0dHA6Ly93d3cudzMub3JnLzIwMDAvc3ZnIiB4bWxuczp4bGluaz0iaHR0cDovL3d3dy53My5vcmcvMTk5OS94bGluayI+CiAgICA8IS0tIEdlbmVyYXRvcjogU2tldGNoIDU0LjEgKDc2NDkwKSAtIGh0dHBzOi8vc2tldGNoYXBwLmNvbSAtLT4KICAgIDx0aXRsZT5Hcm91cCAzPC90aXRsZT4KICAgIDxkZXNjPkNyZWF0ZWQgd2l0aCBTa2V0Y2guPC9kZXNjPgogICAgPGcgaWQ9IkxhbmRpbmciIHN0cm9rZT0ibm9uZSIgc3Ryb2tlLXdpZHRoPSIxIiBmaWxsPSJub25lIiBmaWxsLXJ1bGU9ImV2ZW5vZGQiPgogICAgICAgIDxnIGlkPSJBcnRib2FyZCIgdHJhbnNmb3JtPSJ0cmFuc2xhdGUoLTEyMzUuMDAwMDAwLCAtNzkuMDAwMDAwKSI+CiAgICAgICAgICAgIDxnIGlkPSJHcm91cC0zIiB0cmFuc2Zvcm09InRyYW5zbGF0ZSgxMjM1LjAwMDAwMCwgNzkuMDAwMDAwKSI+CiAgICAgICAgICAgICAgICA8cG9seWdvbiBpZD0iUGF0aC0yMCIgZmlsbD0iIzAyNjVCNCIgcG9pbnRzPSIyLjM3NjIzNzYyIDgwIDM4LjA0NzY2NjcgODAgNTcuODIxNzgyMiA3My44MDU3NTkyIDU3LjgyMTc4MjIgMzIuNzU5MjczOSAzOS4xNDAyMjc4IDMxLjY4MzE2ODMiPjwvcG9seWdvbj4KICAgICAgICAgICAgICAgIDxwYXRoIGQ9Ik0zNS4wMDc3MTgsODAgQzQyLjkwNjIwMDcsNzYuNDU0OTM1OCA0Ny41NjQ5MTY3LDcxLjU0MjI2NzEgNDguOTgzODY2LDY1LjI2MTk5MzkgQzUxLjExMjI4OTksNTUuODQxNTg0MiA0MS42NzcxNzk1LDQ5LjIxMjIyODQgMjUuNjIzOTg0Niw0OS4yMTIyMjg0IEMyNS40ODQ5Mjg5LDQ5LjEyNjg0NDggMjkuODI2MTI5Niw0My4yODM4MjQ4IDM4LjY0NzU4NjksMzEuNjgzMTY4MyBMNzIuODcxMjg3MSwzMi41NTQ0MjUgTDY1LjI4MDk3Myw2Ny42NzYzNDIxIEw1MS4xMTIyODk5LDc3LjM3NjE0NCBMMzUuMDA3NzE4LDgwIFoiIGlkPSJQYXRoLTIyIiBmaWxsPSIjMDAyODY4Ij48L3BhdGg+CiAgICAgICAgICAgICAgICA8cGF0aCBkPSJNMCwzNy43MzA0NDA1IEwyNy4xMTQ1MzcsMC4yNTcxMTE0MzYgQzYyLjM3MTUxMjMsLTEuOTkwNzE3MDEgODAsMTAuNTAwMzkyNyA4MCwzNy43MzA0NDA1IEM4MCw2NC45NjA0ODgyIDY0Ljc3NjUwMzgsNzkuMDUwMzQxNCAzNC4zMjk1MTEzLDgwIEM0Ny4wNTUzNDg5LDc3LjU2NzA4MDggNTMuNDE4MjY3Nyw3MC4zMTM2MTAzIDUzLjQxODI2NzcsNTguMjM5NTg4NSBDNTMuNDE4MjY3Nyw0MC4xMjg1NTU3IDM2LjMwMzk1NDQsMzcuNzMwNDQwNSAyNS4yMjc0MTcsMzcuNzMwNDQwNSBDMTcuODQzMDU4NiwzNy43MzA0NDA1IDkuNDMzOTE5NjYsMzcuNzMwNDQwNSAwLDM3LjczMDQ0MDUgWiIgaWQ9IlBhdGgtMTkiIGZpbGw9IiMzNzkzRUYiPjwvcGF0aD4KICAgICAgICAgICAgPC9nPgogICAgICAgIDwvZz4KICAgIDwvZz4KPC9zdmc+' > </img>\nCreated in <span style='font-weight:600;margin-left:4px;'>Deepnote</span></a>",
      "metadata": {
        "created_in_deepnote_cell": true,
        "deepnote_cell_type": "markdown"
      }
    }
  ],
  "nbformat": 4,
  "nbformat_minor": 0,
  "metadata": {
    "deepnote_notebook_id": "d6cd1e1b653b4793b56b2f6d4e865fb4"
  }
}