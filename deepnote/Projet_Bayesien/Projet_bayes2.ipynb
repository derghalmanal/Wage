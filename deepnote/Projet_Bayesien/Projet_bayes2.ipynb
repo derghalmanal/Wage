{
  "cells": [
    {
      "cell_type": "code",
      "metadata": {
        "source_hash": "f0cb7e6d",
        "is_code_hidden": false,
        "execution_start": 1743348716513,
        "execution_millis": 28519,
        "is_output_hidden": false,
        "execution_context_id": "b3f17c08-8bd4-4ad6-95c3-0d3455773ef6",
        "deepnote_app_is_code_hidden": true,
        "deepnote_app_is_output_hidden": true,
        "cell_id": "4088a60d917447a7b8e25711fe8e1e6e",
        "deepnote_cell_type": "code"
      },
      "source": "system(\"sudo apt-get update -y && sudo apt-get install -y jags && sudo apt-get install -y r-cran-rjags\")\ninstall.packages('runjags')\ninstall.packages('rjags')",
      "block_group": "26181a3dcabd4e70b72ee09e9e5f95e5",
      "execution_count": 15,
      "outputs": [],
      "outputs_reference": null,
      "content_dependencies": null
    },
    {
      "cell_type": "code",
      "metadata": {
        "source_hash": "d1c12e05",
        "execution_start": 1743348749155,
        "execution_millis": 21,
        "execution_context_id": "b3f17c08-8bd4-4ad6-95c3-0d3455773ef6",
        "cell_id": "b4dced4004e94c1f99066ba6da4e4607",
        "deepnote_cell_type": "code"
      },
      "source": "# Charger les bibliothèques nécessaires\nlibrary(dplyr)\nlibrary(ggplot2)\nlibrary(tidyverse)\nlibrary(runjags)\nlibrary(rjags)",
      "block_group": "488a1db03a3440548deb2a2ac457a495",
      "execution_count": 16,
      "outputs": [],
      "outputs_reference": null,
      "content_dependencies": null
    },
    {
      "cell_type": "markdown",
      "metadata": {
        "cell_id": "099536a2971341eba62ae7e8686d57cd",
        "deepnote_cell_type": "markdown"
      },
      "source": "# Introduction\nL’étude des disparités salariales est un sujet central en économie du travail et en sciences sociales. Malgré les avancées vers l’égalité des chances, des différences de salaires persistent entre divers groupes sociaux, notamment en fonction du genre, de l’ethnicité, du niveau d’éducation et de l’expérience professionnelle. Aux États-Unis, des études ont montré que les écarts salariaux sont significatifs : les femmes gagnent en moyenne moins que les hommes, et certaines minorités ethniques, comme les Afro-Américains et les Latino-Américains, perçoivent des salaires inférieurs à ceux des Américains blancs et asiatiques.\n\nNotre projet vise à identifier les principaux facteurs influençant les salaires horaires en utilisant des modèles bayésiens. Plus précisément, nous cherchons à quantifier l’impact de variables telles que le genre, l’expérience professionnelle, le niveau d’éducation, l’appartenance syndicale et la localisation géographique sur les salaires.\n\nPour ce faire, nous utiliserons des méthodes bayésiennes de régression mises en œuvre avec JAGS, permettant une estimation robuste et une meilleure quantification des incertitudes. Notre approche inclura l’exploration des données, la spécification des modèles avec des choix de lois a priori justifiées, ainsi que des évaluations rigoureuses des performances des modèles à travers des diagnostics de convergence et des simulations de données fictives (fake data check).\n\nCe rapport est structuré comme suit : après une présentation des données et de leur exploration, nous décrirons les modèles bayésiens retenus et justifierons les choix de lois a priori. Nous présenterons ensuite les résultats de l’ajustement des modèles, suivis des diagnostics de convergence et de l’évaluation de leur performance. Enfin, nous discuterons des conclusions et des implications de nos résultats dans le contexte des disparités salariales aux États-Unis.",
      "block_group": "d16faf61b4834075ac640501cb96544e"
    },
    {
      "cell_type": "markdown",
      "metadata": {
        "cell_id": "3af9d78359d9408d9e66f104249ee93f",
        "deepnote_cell_type": "markdown"
      },
      "source": "# Modèle génératif et espace des paramètres\n\nOn veut construire un modèle prédictif pour le salaire des individus pour lesquels on connait 10 variables explicatives (âge, éducation, experience professionnelle, etc.), 434 individus dans un jeu de données d'entraînement et 100 individus dans le jeu de données de test.\n\nOn note $Y_i \\in \\mathbb{R}$ le salaire de l'individu $i$ et $X_i \\in \\mathbb{R}^{10}$ les variables explicatives de l'individu $i$.\n\nRégression linéaire:\n$Y_i = \\beta_0 + \\beta_1 X_{1i} + \\beta_2 X_{2i} + \\cdots + \\beta_{10} X_{10i} + \\sigma \\epsilon_i$\n11 paramètres $\\beta = (\\beta_0, \\beta_1, \\beta_2, \\cdots, \\beta_{10})$  $\\epsilon_i \\sim \\mathcal{N}(0, 1)$ et $\\sigma \\in \\mathbb{R^+}$\n\nCertaines variables peuvent avoir peu ou pas d'effet sur le salaire, ie des $\\beta_i = 0$.\n\n## Distribution à postériori\n\nA partir de $y=(y_1, y_2, \\cdots, y_{434})$ et $ X=(X_1, X_2, \\cdots, X_{434})$, on peut calculer $P(\\beta | y, X)$ et regarder $P(\\beta_j \\neq 0 | y, X)$ pour chaque coefficient.\n\n## Performances prédictives\n\nUn manière d'évaluer la performance prédictive $\\hat{\\beta}_{bayes} = E(\\beta | y, X)$\n$X_{test}$ matrice 100x10\n$y_{test}$ les observations\n$y_{test,Bayes} = X_{test} \\hat{\\beta}_{bayes}$\n\n# Degrès de croyance\n\nQue croit-on sur l'effet de chaque variable explicative sur le salaire?\n\nNous pouvons formuler des hypothèse à priori sur l'impact des différentes variables :\n\n- Éducation : On s’attend à une relation positive entre le niveau d’éducation et le salaire.\n\n- Expérience professionnelle (workexp) : Plus d’expérience est généralement associée à un salaire plus élevé.\n\n- Sexe (female) : Il est bien documenté qu’un écart salarial entre hommes et femmes existe (gender pay gap).\n\n- Région (south) : Il peut y avoir des différences salariales régionales.\n\n- Appartenance syndicale (unionmember) : Être syndiqué peut influencer le salaire.\n\n- Âge (age) : En général, l’âge est corrélé à l’expérience professionnelle, mais il pourrait aussi capturer d’autres dynamiques comme la discrimination liée à l’âge.\n\n- Ethnicité (ethnicity) : Certaines inégalités salariales peuvent exister selon l’origine ethnique.\n\n- Occupation et secteur (occupation, sector) : Le type d’emploi et le secteur d’activité influencent fortement le salaire.\n\n- Statut matrimonial (married) : Certaines études suggèrent que les personnes mariées ont des salaires plus élevés, en particulier les hommes.\n\n\n### Estimation d'un paramètre $\\beta$ avec des données\n\nAyant obtenu {$Y=y$} , $P(\\beta | y,X) = \\frac{P(\\beta) P(y,X | \\beta)}{P(y,X)}$\n\nDonc $posterior \\propto prior \\times likelihood$\n\n$prior = P(\\beta)$ : Croyance des effets des variables sur le salaire avant d'avoir les données.\n$likelihood = P(y | \\beta)$ : Probabilité d'observer les données en fonction des paramètres du modèle\n$posterior = P(\\beta | y)$ : La Distribution à posteriori après avoir observé les données\n\nOn peut le voir ainsi :\n\n$P(Model | New Data)  = \\frac{P(Model) P(New Data | Model)}{P(New Data)}$\n\n",
      "block_group": "98471d7c6e304c45b6a6979c6e2489e3"
    },
    {
      "cell_type": "markdown",
      "metadata": {
        "cell_id": "9733bc9a734f44a78fe736b8178c914a",
        "deepnote_cell_type": "markdown"
      },
      "source": "# Nos données",
      "block_group": "b50b07a8cac94dd5bdebdc7182e841a7"
    },
    {
      "cell_type": "markdown",
      "metadata": {
        "cell_id": "f902c145183f4c3b9adfe86e9ada0cc2",
        "deepnote_cell_type": "markdown"
      },
      "source": "Notre jeu de données comprend 534 individus. Chaque individu a 10 variables : education, south, female, workexp, unionmember, wages, age, ethnicity, occupation, sector, married.\n\n- Variables quantitatives:\n    > **education**: Années d'études\n    >**workexp**: Années d'expêrience professionnelle\n    >**age**: âge\n\n- Variables qualitatives:\n    >**south**: Vit dans le sud ou non\n    >**female**: Indicateur de genre (0 = Homme, 1 = Femme)\n    >**unionmember**: Indicateur de membre du syndicat (0 = Non, 1 = Oui)\n    >**married**: Indicateur de statut marital. Marié(e) ou non.\n\n- Variables categorielles:\n    >**ethnicity**: Ethnicité (White, Hispanic, Other)\n    >**occupation**: Occupation (Management, Sales, Clerical, Professional, Service, Other)\n    >**sector**: Secteur d'activité (Manufactoring, Construction, Other)\n\n\n",
      "block_group": "5588fa021c6d4679ad4f4a6b80fc6de7"
    },
    {
      "cell_type": "markdown",
      "metadata": {
        "cell_id": "69e048aa8b694ae5b0108268accf11e7",
        "deepnote_cell_type": "markdown"
      },
      "source": "On ajoute une colonne pour calculer la moyenne de la variable wage avec 0 pour les salaires inférieurs à la moyenne et 1 pour les salaires supérieurs à la moyenne.",
      "block_group": "f177ad60311a41ab86532c451b867503"
    },
    {
      "cell_type": "code",
      "metadata": {
        "source_hash": "59886a6d",
        "is_code_hidden": false,
        "execution_start": 1743348608903,
        "execution_millis": 200,
        "execution_context_id": "b3f17c08-8bd4-4ad6-95c3-0d3455773ef6",
        "deepnote_app_is_code_hidden": true,
        "cell_id": "6a6a96da7db74c7e9602a4eb5601b44e",
        "deepnote_cell_type": "code"
      },
      "source": "# Charger les données\nwage_data <- read.csv(\"https://raw.githubusercontent.com/derghalmanal/Wage/refs/heads/main/wage_data.csv\", header=TRUE, sep=\",\")\n\n# Calculer la moyenne de la colonne wage\nmean_wage <- mean(wage_data$wage, na.rm=TRUE)\n\n# Ajouter la colonne wage_moyenne\nwage_data$wage_level <- ifelse(wage_data$wage < mean_wage, 0, 1)\n\n# Transformer la colonne wage_moyenne en facteur\nwage_data$wage_level <- as.factor(wage_data$wage_level)\n\n# Vérifier le résultat\nhead(wage_data)",
      "block_group": "85b789f622e14424b8e7b21333d27c41",
      "execution_count": 3,
      "outputs": [],
      "outputs_reference": null,
      "content_dependencies": null
    },
    {
      "cell_type": "code",
      "metadata": {
        "source_hash": "dda84e9",
        "is_code_hidden": true,
        "execution_start": 1743348609153,
        "execution_millis": 67,
        "execution_context_id": "b3f17c08-8bd4-4ad6-95c3-0d3455773ef6",
        "deepnote_app_is_code_hidden": true,
        "cell_id": "76bd208e1b0e473483bb1873cfe89b17",
        "deepnote_cell_type": "code"
      },
      "source": "str(wage_data)",
      "block_group": "802d824360ac47b3b5ff54592a55476a",
      "execution_count": 4,
      "outputs": [],
      "outputs_reference": null,
      "content_dependencies": null
    },
    {
      "cell_type": "markdown",
      "metadata": {
        "cell_id": "3c5cca272ba7426493c1afe08d926a60",
        "deepnote_cell_type": "markdown"
      },
      "source": "",
      "block_group": "3c8156a9e13747cd8fe835425752725f"
    },
    {
      "cell_type": "markdown",
      "metadata": {
        "cell_id": "89fd447405f44084ac261927fae8cae8",
        "deepnote_cell_type": "markdown"
      },
      "source": "Analysons la contribution de chaque variable aux salaires\n\nDans toute la suite du rapport l = lower pour signifier que le salaire est inférieur à la moyenne et h = higher pour signifier que le salaire est supérieur à la moyenne.\n\nOn cherchera la loi de la vraisemblance $X_{i,s}|\\beta$ pour chaque individu $i$ et chaque variable $s \\in \\{l,h\\}$.",
      "block_group": "ee8ca6bbe25a40168b528cc61c0e42d9"
    },
    {
      "cell_type": "code",
      "metadata": {
        "source_hash": "e1badca2",
        "is_code_hidden": true,
        "execution_start": 1743348609273,
        "execution_millis": 0,
        "execution_context_id": "b3f17c08-8bd4-4ad6-95c3-0d3455773ef6",
        "deepnote_app_is_code_hidden": true,
        "cell_id": "73060e82a97a4f1b91dae36e26e8cb35",
        "deepnote_cell_type": "code"
      },
      "source": "plot_credible_intervals <- function(fit) {\n  # Extract the MCMC samples and the names of the parameters\n  samples <- as.data.frame(jags_samples$mcmc %>% lapply(as_tibble) %>% bind_rows())\n  params <- names(samples)\n\n  # Calculate the 50% and 95% credible intervals for each parameter\n  intervals <- data.frame(param = character(), lower = numeric(), upper = numeric())\n  for (param in params) {\n    est_mean <- mean(samples[[param]])\n    est_median <- median(samples[[param]])\n    ci_50_infCI <- quantile(samples[[param]], probs = 0.25)\n    ci_50_supCI <- quantile(samples[[param]], probs = 0.75)\n    ci_95_infCI <- quantile(samples[[param]], probs = 0.025)\n    ci_95_supCI <- quantile(samples[[param]], probs = 0.975)\n    intervals <- rbind(intervals, data.frame(param = param, est_mean = est_mean, est_median = est_median, ci_50_infCI = ci_50_infCI, ci_50_supCI = ci_50_supCI, ci_95_infCI = ci_95_infCI, ci_95_supCI = ci_95_supCI))\n  }\n\n  # Create a ggplot object\n  p <- ggplot(intervals, aes(y = param)) +\n    theme_classic() +\n    geom_segment(aes(y = param, yend = param, x = ci_95_infCI, xend = ci_95_supCI),\n      color = \"red\", size = 0.5\n    ) +\n    geom_segment(aes(y = param, yend = param, x = ci_50_infCI, xend = ci_50_supCI),\n      color = \"red\", size = 1.5\n    ) +\n    geom_point(aes(x = est_mean), size = 3) +\n    labs(title = \"Posterior credible intervals\") +\n    xlab(\"\") +\n    ylab(\"\")\n\n  # Print the plot\n  print(p)\n}",
      "block_group": "d0e0588ccd11455d8f2dd3b9d3f1490f",
      "execution_count": 5,
      "outputs": [],
      "outputs_reference": null,
      "content_dependencies": null
    },
    {
      "cell_type": "markdown",
      "metadata": {
        "cell_id": "fc98de3e5d684324a37ac31c8042fc12",
        "deepnote_cell_type": "markdown"
      },
      "source": "# Histogramme des variables",
      "block_group": "5f7a9fbabf2a47f9a28bd664a58595a4"
    },
    {
      "cell_type": "code",
      "metadata": {
        "source_hash": "65e33c94",
        "execution_start": 1743348609323,
        "execution_millis": 1977,
        "execution_context_id": "b3f17c08-8bd4-4ad6-95c3-0d3455773ef6",
        "cell_id": "d9eedc50376c49babc3f7ece474c81c2",
        "deepnote_cell_type": "code"
      },
      "source": "numeric_vars <- c(\"education\", \"workexp\")\nwage_data[numeric_vars] <- lapply(wage_data[numeric_vars], function(x) as.numeric(as.character(x)))\n\nfor (var in numeric_vars){\n    print(ggplot(data = wage_data, aes_string(x = var, fill = \"wage_level\" )) +\n      geom_bar( position = \"identity\", alpha = 0.7) +\n      labs(title = paste0(\"Histogramme de la variable \", var , \" en fonction du salaire moyen\"),\n           x = var, y = \"Fréquence\") +\n      scale_fill_manual(values = c(\"blue\", \"red\")) +  # Couleurs des labels\n      theme_minimal())\n}\n\nwage_data$south        <- factor(wage_data$south, labels = c(\"Non-South\", \"South\"))\nwage_data$female       <- factor(wage_data$female, labels = c(\"Male\", \"Female\"))\nwage_data$unionmember  <- factor(wage_data$unionmember, labels = c(\"Non-Member\", \"Member\"))\nwage_data$married      <- factor(wage_data$married, labels = c(\"Single\", \"Married\"))\n\n# Now binary_vars are factors with clear labels\nbinary_vars <- c(\"south\", \"female\", \"unionmember\", \"married\")\n\n# Plot\nfor (var in binary_vars){\n  print(\n    ggplot(data = wage_data, aes_string(x = var, fill = \"wage_level\")) +\n      geom_bar(position = \"dodge\", alpha = 0.7) +\n      labs(title = paste(\"Histogramme de la variable\", var, \"en fonction du niveau de salaire\"),\n           x = var, y = \"Fréquence\") +\n      scale_fill_manual(values = c(\"blue\", \"red\"), \n                        labels = c(\"Salaire < Moyenne\", \"Salaire ≥ Moyenne\")) +\n      theme_minimal()\n  )\n}\ncategorial_vars <- c(\"ethnicity\", \"sector\",\"occupation\")\nwage_data[categorial_vars] <- lapply(wage_data[categorial_vars], function(x) as.factor(as.character(x)))\n\nfor (var in categorial_vars){\n    print(ggplot(data = wage_data, aes_string(x = var, fill = \"wage_level\" )) +\n      geom_bar( position = \"identity\", alpha = 0.7) +\n      labs(title = paste0(\"Histogramme de la variable \", var , \" en fonction du salaire moyen\"),\n           x = var, y = \"Fréquence\") +\n      scale_fill_manual(values = c(\"blue\", \"red\")) +  # Couleurs des labels\n      theme_minimal())\n}",
      "block_group": "3c1d804a23904e90a7e8a92784c9dee5",
      "execution_count": 6,
      "outputs": [],
      "outputs_reference": null,
      "content_dependencies": null
    },
    {
      "cell_type": "markdown",
      "metadata": {
        "cell_id": "e413c680d5ff44a7aa4a03b50e361ad9",
        "deepnote_cell_type": "markdown"
      },
      "source": "Choix de la vraisemblance :\n\nUne distribution normale semble appropriée pour modéliser les années d'expérience au travail, car les données suivent une forme de cloche.\n\n$y_{s},X | \\beta_{workexp,s} \\sim \\mathcal{Normal}(\\beta_{workexp,s})$\n\nAvec $\\beta_{workexp,s} = (\\mu_s, \\sigma_s)$ et $ s \\in \\{l,h\\}$\n",
      "block_group": "7f7be584b32948389e316aed8c9e2093"
    },
    {
      "cell_type": "markdown",
      "metadata": {
        "cell_id": "1602f7ce1e2648a7985a3caf4b78136a",
        "deepnote_cell_type": "markdown"
      },
      "source": "# Variable South",
      "block_group": "d2b12815126a407cafb2d6635e8ffed6"
    },
    {
      "cell_type": "markdown",
      "metadata": {
        "cell_id": "d25991b99dd94cce95e7f29c40f5a471",
        "deepnote_cell_type": "markdown"
      },
      "source": "",
      "block_group": "415d63b12a2e4076848c90d67e017abc"
    },
    {
      "cell_type": "markdown",
      "metadata": {
        "deepnote_img_src": "image-20250330-164413.png",
        "cell_id": "058c3f08a40f4d7c859f2f4638f70eff",
        "deepnote_cell_type": "image"
      },
      "source": "<img src=\"image-20250330-164413.png\" width=\"\" align=\"\" />",
      "block_group": "39105e2b09824b09a0dd1d0f3cc72819"
    },
    {
      "cell_type": "markdown",
      "metadata": {
        "cell_id": "bdae9535b6cb4cf68c663fe03db24285",
        "deepnote_cell_type": "markdown"
      },
      "source": "## Vraisemblance",
      "block_group": "64c739e45228425cb19b43cb9f767bf3"
    },
    {
      "cell_type": "markdown",
      "metadata": {
        "cell_id": "545b2d7b9d794eb1a6465f6f8639a10a",
        "deepnote_cell_type": "markdown"
      },
      "source": "Étant donné que \"south\" est une variable binaire (Non-South, South), une distribution de Bernoulli est appropriée pour modéliser cette variable. La fonction de vraisemblance pour une variable de Bernoulli est donnée par : \n$$\nL(\\theta \\mid x) = \\theta^x (1 - \\theta)^{1 - x}\n$$",
      "block_group": "a1219de489334275b56a10ae8691d440"
    },
    {
      "cell_type": "markdown",
      "metadata": {
        "cell_id": "f3bd309584ed4a838dd1b1d94bc2e566",
        "deepnote_cell_type": "markdown"
      },
      "source": "## Prior approprié",
      "block_group": "19e1dcf1915147c0a3cff1225751d6f3"
    },
    {
      "cell_type": "markdown",
      "metadata": {
        "cell_id": "f30b2bb530cc4e69805bb0867b4e8c25",
        "deepnote_cell_type": "markdown"
      },
      "source": "Pour le prior, une distribution Beta est souvent utilisée comme conjugate prior pour une distribution de Bernoulli. La distribution Beta est définie par :\n\n$$\nP(\\theta_{\\text{s}} \\mid \\alpha_{\\text{s}} , \\beta_{\\text{s}}) = \\frac{\\theta_{\\text{s}}^{\\alpha_{\\text{s}} - 1} (1 - \\theta_{\\text{s}})^{\\beta_{\\text{s}} - 1}}{B(\\alpha_{\\text{s}}, \\beta_{\\text{s}})}\n$$\nou  $$ B(\\alpha, \\beta) $$ est la fonction Beta de normalisation, et $$\\alpha_{\\text{s}}  et  \\beta_{\\text{s}}$$ sont les paramètres de forme de la distribution avec \n$$\\alpha_{\\text{s}} = \\beta_{\\text{s}} = 1 pour s \\in \\{l, h\\}$$\n\nChoix des paramètres du prior :  \n",
      "block_group": "bfc0eba852db491fb58cfbcb042b4dda"
    },
    {
      "cell_type": "markdown",
      "metadata": {
        "cell_id": "99b03dc657d44fe2ab0accf63df2b8b0",
        "deepnote_cell_type": "markdown"
      },
      "source": "## Implémentation en Jags",
      "block_group": "581961c4cb7741afa1c7b1abe2e81859"
    },
    {
      "cell_type": "code",
      "metadata": {
        "source_hash": "b623e53d",
        "execution_start": 1743348611353,
        "execution_millis": 0,
        "execution_context_id": "b3f17c08-8bd4-4ad6-95c3-0d3455773ef6",
        "cell_id": "01e25038e620487a8188c55a910b72a3",
        "deepnote_cell_type": "code"
      },
      "source": "",
      "block_group": "941b0d356a8946c29000539ff1991645",
      "execution_count": 7,
      "outputs": [],
      "outputs_reference": null,
      "content_dependencies": null
    },
    {
      "cell_type": "markdown",
      "metadata": {
        "cell_id": "b97fac94fdbc40fe9b49eaeb4d88f0f4",
        "deepnote_cell_type": "markdown"
      },
      "source": "## MCMC ",
      "block_group": "07d11ba5c5634dee8e166155e2f53391"
    },
    {
      "cell_type": "code",
      "metadata": {
        "source_hash": "b623e53d",
        "execution_start": 1743348611403,
        "execution_millis": 0,
        "execution_context_id": "b3f17c08-8bd4-4ad6-95c3-0d3455773ef6",
        "cell_id": "2a90db5dcab84752901b1aaa9fe0e8aa",
        "deepnote_cell_type": "code"
      },
      "source": "",
      "block_group": "2611e10f689b469882883d639b2fc462",
      "execution_count": 8,
      "outputs": [],
      "outputs_reference": null,
      "content_dependencies": null
    },
    {
      "cell_type": "markdown",
      "metadata": {
        "cell_id": "8076222a787049349567a66a09c972dc",
        "deepnote_cell_type": "markdown"
      },
      "source": "## Fake data check",
      "block_group": "5996e5224f9e4e88b334a4897413a40f"
    },
    {
      "cell_type": "code",
      "metadata": {
        "source_hash": "b623e53d",
        "execution_start": 1743348611463,
        "execution_millis": 0,
        "execution_context_id": "b3f17c08-8bd4-4ad6-95c3-0d3455773ef6",
        "cell_id": "444867b1750d4dac81e5fc216c7ee576",
        "deepnote_cell_type": "code"
      },
      "source": "",
      "block_group": "f64bf4e547f14d22bd577689dbd17483",
      "execution_count": 9,
      "outputs": [],
      "outputs_reference": null,
      "content_dependencies": null
    },
    {
      "cell_type": "markdown",
      "metadata": {
        "cell_id": "3e455704ea544ad9a47da183161ac64a",
        "deepnote_cell_type": "markdown"
      },
      "source": "## Conclusion",
      "block_group": "7a0a115156114673be6b42e8a1f9fdaa"
    },
    {
      "cell_type": "markdown",
      "metadata": {
        "cell_id": "cd9e52542c2540f281429952985bd826",
        "deepnote_cell_type": "markdown"
      },
      "source": "",
      "block_group": "0f504e9c9a054271961cebae5fdcc656"
    },
    {
      "cell_type": "markdown",
      "metadata": {
        "cell_id": "9c7a32252c52462d9fc76b4541a0c55f",
        "deepnote_cell_type": "markdown"
      },
      "source": "# Variable Education",
      "block_group": "4e17fc5fe61a4add961717b0303a8260"
    },
    {
      "cell_type": "markdown",
      "metadata": {
        "cell_id": "0917d845b2f74838b2382f51c97093e2",
        "deepnote_cell_type": "markdown"
      },
      "source": "La variable Education représente le nombre d'années d'études.",
      "block_group": "df43372a515e4e50a4b97b8a2f78acbd"
    },
    {
      "cell_type": "markdown",
      "metadata": {
        "deepnote_img_src": "image-20250330-163929.png",
        "cell_id": "0586001a47334f3aa8d3dd8c7f267b1b",
        "deepnote_cell_type": "image"
      },
      "source": "<img src=\"image-20250330-163929.png\" width=\"\" align=\"\" />",
      "block_group": "fd5ea1a01df74ccd8ec166d3b0114ff4"
    },
    {
      "cell_type": "markdown",
      "metadata": {
        "cell_id": "4d344219d4f347c1bab076c71e22acdb",
        "deepnote_cell_type": "markdown"
      },
      "source": "## Vraisemblance",
      "block_group": "c7897a8e8ac04f8b81affea3ee188a6c"
    },
    {
      "cell_type": "markdown",
      "metadata": {
        "cell_id": "baf542fc674f4dbe98b4f358a5c3368a",
        "deepnote_cell_type": "markdown"
      },
      "source": "Choix de la vraisemblance :\n\nÉtant donné la concentration des données à une valeur spécifique, nous avons choisi une distribution de Poisson pour modéliser le nombre d'années d'études. \n\n$y_{s},X | \\beta_{education,s} \\sim \\mathcal{Poisson}(\\beta_{education,s} )$ et $s \\in \\{l,h\\}$",
      "block_group": "fa9d78ce2b60489a8c540ae3c9ad34a5"
    },
    {
      "cell_type": "markdown",
      "metadata": {
        "cell_id": "a8c6aa47642548e0af0b5221457ecc05",
        "deepnote_cell_type": "markdown"
      },
      "source": "## Prior\n\nL'histogramme montre une distribution avec un pic très prononcé à 12 années d'études, indiquant que la plupart des individus ont ce niveau d'éducation.\nIl y a quelques valeurs dispersées autour de ce pic, mais la majorité des données est concentrée à 12 ans.\n\n\n$\\beta_{education} \\sim \\mathcal{Gamma}(\\alpha, \\beta)$\n\nOn souhaite que $E(\\beta_{education,l}) = 12$ et $V(\\beta_{education,l}) = 20$\n\nOn souhaite que $E(\\beta_{education,s}) = 12$ et $V(\\beta_{education,s}) = 20$\n\nPour la loi gamma $E(\\beta) = \\frac{\\alpha}{\\beta}$ et $V(\\beta) = \\frac{\\alpha}{\\beta^2}$\n\ndonc $\\beta_{education} \\sim \\mathcal{Gamma}(7.2, 0.6)$",
      "block_group": "e84adc05f7e54261b2341f9e69b3f07c"
    },
    {
      "cell_type": "markdown",
      "metadata": {
        "cell_id": "cc1549a0ad62423ab94890f2d3024d58",
        "deepnote_cell_type": "markdown"
      },
      "source": "## Implementation en JAGS",
      "block_group": "a40397dd5be34125b0f0cb5131ace0a7"
    },
    {
      "cell_type": "code",
      "metadata": {
        "source_hash": "e844df42",
        "is_code_hidden": false,
        "execution_start": 1743348790035,
        "execution_millis": 551,
        "execution_context_id": "b3f17c08-8bd4-4ad6-95c3-0d3455773ef6",
        "deepnote_app_is_code_hidden": true,
        "cell_id": "69bc216c549846cca8014f2d6896c147",
        "deepnote_cell_type": "code"
      },
      "source": "model_string_education <- \"\nmodel {\n\n  # Priors\n  beta_education_l~ dgamma(7.2, 0.6)\n  beta_education_h ~ dgamma(7.2, 0.6)\n  \n  \n  for (i in 1:n1) {\n    y1[i] ~ dpois(beta_education_l)\n  }\n  \n  for (i in 1:n2) {\n    y2[i] ~ dpois(beta_education_h)\n  }\n}\n\"\neducation_l <- wage_data$education[wage_data$wage_level == 0]\neducation_h <- wage_data$education[wage_data$wage_level == 1]\n\n# Définition des données\ny1 <- education_l\ny2 <- education_h\ndata_list <- list(y1 = y1, y2 = y2, n1 = length(y1), n2 = length(y2))\n\n\n# Compiling and producing posterior samples from the model.\njags_samples_education <- run.jags(model = model_string_education, data = data_list, monitor = c(\"beta_education_l\", \"beta_education_h\"), n.chains = 3, adapt = 1000, burnin = 1000, thin = 1)\n\n# Plotting and summarizing the posterior distribution\njags_samples_education\nplot_credible_intervals(jags_samples_education)",
      "block_group": "35f23539978f4dbeaf5b186344fa4195",
      "execution_count": 17,
      "outputs": [],
      "outputs_reference": null,
      "content_dependencies": null
    },
    {
      "cell_type": "markdown",
      "metadata": {
        "cell_id": "475e3cc6c547441987efc3ff1b8e6ec0",
        "deepnote_cell_type": "markdown"
      },
      "source": "## MCMC",
      "block_group": "f0cff02228d948448897f0c485c603e0"
    },
    {
      "cell_type": "code",
      "metadata": {
        "source_hash": "7ccead7b",
        "is_code_hidden": false,
        "execution_start": 1743347919106,
        "execution_millis": 2695,
        "execution_context_id": "b3f17c08-8bd4-4ad6-95c3-0d3455773ef6",
        "deepnote_to_be_reexecuted": true,
        "deepnote_app_is_code_hidden": true,
        "cell_id": "a2042df85b404bdd996dc953b5135335",
        "deepnote_cell_type": "code"
      },
      "source": "# Fonction pour tracer traceplots et autocorrélogrammes\nplot_mcmc <- function(jags_samples) {\n  \n  # Convertir en objet mcmc\n  mcmc_samples <- as.mcmc.list(jags_samples)\n  \n  # Traceplots (convergence)\n  plot(mcmc_samples, trace = TRUE, density = TRUE)\n  \n  # Tracer l'autocorrélation pour chaque chaîne\n  autocorr.plot(jags_samples)\n}\n\n# Utilisation de la fonction\nplot_mcmc(jags_samples_education)\n\n",
      "block_group": "96287c4a4aeb4ae8b17b730c77ab2adb",
      "execution_count": 30,
      "outputs": [],
      "outputs_reference": null,
      "content_dependencies": null
    },
    {
      "cell_type": "markdown",
      "metadata": {
        "cell_id": "81e9b8a4976d4b5da2f9d7f92e881990",
        "deepnote_cell_type": "markdown"
      },
      "source": "## Fake data check",
      "block_group": "440e81c10ccc4c7f98fa7f773476faa5"
    },
    {
      "cell_type": "code",
      "metadata": {
        "source_hash": "650907ae",
        "execution_start": 1743347951835,
        "execution_millis": 789,
        "execution_context_id": "b3f17c08-8bd4-4ad6-95c3-0d3455773ef6",
        "deepnote_to_be_reexecuted": true,
        "deepnote_app_block_visible": false,
        "cell_id": "6f78d0e8af22482891e6bfad825974a2",
        "deepnote_cell_type": "code"
      },
      "source": "generate_fake_data <- function(n1, n2) {\n  beta_education_l_fake <- 12  \n  beta_education_h_fake <- 13\n  \n  # Générer des données factices à partir de la distribution de Poisson\n  y1_fake <- rpois(n1, beta_education_l_fake)\n  y2_fake <- rpois(n2, beta_education_h_fake)\n  \n  return(list(y1_fake = y1_fake, y2_fake = y2_fake))\n}\n\n# Générer des données factices à partir des échantillons postérieurs\nfake_data <- generate_fake_data(length(education_l), length(education_h))\n\n# Comparer les données factices avec les données réelles\nsummary(fake_data$y1_fake)\nsummary(fake_data$y2_fake)\nsummary(y1)\nsummary(y2)\n\ndata_list <- list(y1 = fake_data$y1_fake, y2 = fake_data$y2_fake, n1 = length(fake_data$y1_fake), n2 = length(fake_data$y2_fake))\n\n\n# Compiling and producing posterior samples from the model.\njags_samples_education <- run.jags(model = model_string_education, data = data_list, monitor = c(\"beta_education_l\", \"beta_education_h\"))\n\n# Plotting and summarizing the posterior distribution\njags_samples_education\nplot_credible_intervals(jags_samples_education)\nsummary(jags_samples_education)",
      "block_group": "11628187da844c15acbfbc13e58e8cda",
      "execution_count": 31,
      "outputs": [],
      "outputs_reference": null,
      "content_dependencies": null
    },
    {
      "cell_type": "markdown",
      "metadata": {
        "cell_id": "efa8ce1275364ec1816e58cb378832a2",
        "deepnote_cell_type": "markdown"
      },
      "source": "## Conclusion",
      "block_group": "43358203f5dd41789fff4fc1aedb8fb5"
    },
    {
      "cell_type": "markdown",
      "metadata": {
        "cell_id": "20fee42704bc409e9f2d07d5a23bbeeb",
        "deepnote_cell_type": "markdown"
      },
      "source": "# Variable Age",
      "block_group": "ffcbd52d665d4dc1bf56744a346a2117"
    },
    {
      "cell_type": "markdown",
      "metadata": {
        "cell_id": "14e25db8d655400baf994d6410ee2a51",
        "deepnote_cell_type": "markdown"
      },
      "source": "On observe que l'age des individus est fortement correle avec l'experience professionnelle, ce qui fait sens puisque plus l'age est grand, plus l'experience professionnelle est longue. Pour éviter une instabilité des estimations, nous supprimons écartons la variable Age.",
      "block_group": "82cd7f65241949789bd0d902145b0891"
    },
    {
      "cell_type": "code",
      "metadata": {
        "source_hash": "5caee88d",
        "execution_start": 1743343584143,
        "execution_millis": 97,
        "execution_context_id": "b3f17c08-8bd4-4ad6-95c3-0d3455773ef6",
        "deepnote_to_be_reexecuted": true,
        "cell_id": "63659ae6cd594b859e89fa380eec3fad",
        "deepnote_cell_type": "code"
      },
      "source": "ggplot(wage_data, aes(x=age, y=workexp)) +\n  geom_point(alpha=0.5, color=\"purple\") +\n  labs(title=\"Relation entre Age et Expérience Professionnelle\", x=\"Age\", y=\"Expérieence Professionnelle\")",
      "block_group": "8f98c0bec7604b8a84ff3ad8d65d94e2",
      "execution_count": 15,
      "outputs": [],
      "outputs_reference": null,
      "content_dependencies": null
    },
    {
      "cell_type": "markdown",
      "metadata": {
        "cell_id": "40b6613553a44770b69ef3e6b684f7d1",
        "deepnote_cell_type": "markdown"
      },
      "source": "# Variable Work experience",
      "block_group": "ca4b47b76dfb408d8443ca9f6120195c"
    },
    {
      "cell_type": "markdown",
      "metadata": {
        "deepnote_img_src": "image-20250330-163826.png",
        "cell_id": "be48c8385fb64e67a37f670f29bc5a13",
        "deepnote_cell_type": "image"
      },
      "source": "<img src=\"image-20250330-163826.png\" width=\"\" align=\"\" />",
      "block_group": "30ee29688664497193f3e7b241b6a62e"
    },
    {
      "cell_type": "markdown",
      "metadata": {
        "cell_id": "deda6e32cb5a4b3ca5dc4e13164d2a32",
        "deepnote_cell_type": "markdown"
      },
      "source": "## Vraisemblance",
      "block_group": "560aa54f8732485694774246fe2e13d6"
    },
    {
      "cell_type": "markdown",
      "metadata": {
        "cell_id": "61ec1221aedf4a4fa094f818c81343f2",
        "deepnote_cell_type": "markdown"
      },
      "source": "Une distribution normale semble appropriée pour modéliser les années d'expérience au travail, car les données suivent une forme de cloche.\n\n$y_{s},X | \\beta_{workexp,s} \\sim \\mathcal{Normal}(\\beta_{workexp,s})$\n\nAvec $\\beta_{workexp,s} = (\\mu_s, \\sigma_s)$ et $ s \\in \\{l,h\\}$",
      "block_group": "cd2eb6b98a8047668b8807ed8d945a9e"
    },
    {
      "cell_type": "markdown",
      "metadata": {
        "cell_id": "18f8ff1f4cc04b6c81a2bb0448701497",
        "deepnote_cell_type": "markdown"
      },
      "source": "## Choix du prior",
      "block_group": "e852aac4b257453eb9bb36c5161f1c6a"
    },
    {
      "cell_type": "markdown",
      "metadata": {
        "cell_id": "ee94c7cfbd5f4a43b8e732ea2e8b9a16",
        "deepnote_cell_type": "markdown"
      },
      "source": "$\\mu_s \\sim \\mathcal{Uniform}(0, 30)$ \n$\\sigma_s \\sim \\mathcal{Uniform}(0, 50)$",
      "block_group": "d4a5bd2ffa594acb8dd1503b08055bbd"
    },
    {
      "cell_type": "markdown",
      "metadata": {
        "cell_id": "ec8200d3ae2b46b2b4affc1641236965",
        "deepnote_cell_type": "markdown"
      },
      "source": "## Implémentation en JAGS",
      "block_group": "3dbc947e8f6d481eb063b547b22ff178"
    },
    {
      "cell_type": "code",
      "metadata": {
        "source_hash": "7af4bb64",
        "execution_start": 1743348682555,
        "execution_millis": 9440,
        "execution_context_id": "b3f17c08-8bd4-4ad6-95c3-0d3455773ef6",
        "cell_id": "57beb57799c2430d87c6bc9a5096da36",
        "deepnote_cell_type": "code"
      },
      "source": "model_string_workexp <- \"\nmodel {\n\n  mu_l ~ dunif(0, 30)\n  sigma_l ~ dunif(0, 50)\n  precision_l <- 1/sigma_l^2\n\n  mu_h ~ dunif(0, 30)\n  sigma_h ~ dunif(0, 50)\n  precision_h <- 1/sigma_h^2\n  \n  for (i in 1:n1) {\n    y1[i] ~ dnorm(mu_l, precision_l)\n  }\n  \n  for (i in 1:n2) {\n    y2[i] ~ dnorm(mu_h, precision_h)\n  }\n\n  \n}\n\"\n\n# Définition des données\ny1 <- wage_data$workexp[wage_data$wage_level == 0]\ny2 <- wage_data$workexp[wage_data$wage_level == 1]\ndata_list <- list(y1 = y1, y2 = y2, n1 = length(y1), n2 = length(y2))\n\n\n\n# Compiling and producing posterior samples from the model.\njags_samples_workexp <- run.jags(model = model_string_workexp, data = data_list, monitor = c(\"mu_l\", \"sigma_l\", \"mu_h\", \"sigma_h\"), n.chains = 3, adapt = 1000, burnin = 1000, thin = 1)\n\n# Plotting and summarizing the posterior distribution\njags_samples_workexp\nplot_credible_intervals(jags_samples_workexp)",
      "block_group": "13ccf7d02c78449990ae291d5679468f",
      "execution_count": 14,
      "outputs": [],
      "outputs_reference": null,
      "content_dependencies": null
    },
    {
      "cell_type": "markdown",
      "metadata": {
        "cell_id": "b080edda887a4c66abae60a0eb2fd017",
        "deepnote_cell_type": "markdown"
      },
      "source": "## MCMC",
      "block_group": "fdbeb741f08344e8ac5f45b897534aad"
    },
    {
      "cell_type": "code",
      "metadata": {
        "source_hash": "ada55597",
        "execution_start": 1743348020303,
        "execution_millis": 1371,
        "execution_context_id": "b3f17c08-8bd4-4ad6-95c3-0d3455773ef6",
        "deepnote_to_be_reexecuted": true,
        "cell_id": "9e7ec225d00d4aed9afee3a81d9194db",
        "deepnote_cell_type": "code"
      },
      "source": "plot_mcmc(jags_samples_workexp)",
      "block_group": "5344d376cc434386958e956ffad2e0bb",
      "execution_count": 33,
      "outputs": [],
      "outputs_reference": null,
      "content_dependencies": null
    },
    {
      "cell_type": "markdown",
      "metadata": {
        "cell_id": "c33643304f1c496c84717a6abeda8e88",
        "deepnote_cell_type": "markdown"
      },
      "source": "",
      "block_group": "f2f0c30a98424054b04a3c868f4e2df9"
    },
    {
      "cell_type": "markdown",
      "metadata": {
        "cell_id": "0e76b31e203044f5a356c88878a237eb",
        "deepnote_cell_type": "markdown"
      },
      "source": "## Fake data check",
      "block_group": "3d0791e0c72d444ba5efe028d7940b40"
    },
    {
      "cell_type": "code",
      "metadata": {
        "source_hash": "9a87786f",
        "execution_start": 1743348671298,
        "execution_millis": 66,
        "execution_context_id": "b3f17c08-8bd4-4ad6-95c3-0d3455773ef6",
        "cell_id": "75cb33a5a5e4444e813e194953f49fca",
        "deepnote_cell_type": "code"
      },
      "source": "generate_fake_data <- function(n1, n2) {\n    mu_l_fake <- 15\n    sigma_l_fake <- 12\n    mu_h_fake <- 17\n    sigma_h_fake <- 10\n  \n  # Générer des données factices à partir de la distribution de Poisson\n  y1_fake <- rnorm(n1, mu_l_fake, sigma_l_fake)\n  y2_fake <- rnorm(n2, mu_h_fake, sigma_h_fake)\n  \n  return(list(y1_fake = y1_fake, y2_fake = y2_fake))\n}\n\n# Générer des données factices à partir des échantillons postérieurs\nfake_data <- generate_fake_data(length(y1), length(y2))\n\n# Comparer les données factices avec les données réelles\nsummary(fake_data$y1_fake)\nsummary(fake_data$y2_fake)\nsummary(y1)\nsummary(y2)\n\ndata_list <- list(y1 = fake_data$y1_fake, y2 = fake_data$y2_fake, n1 = length(fake_data$y1_fake), n2 = length(fake_data$y2_fake))\n\n\n# Compiling and producing posterior samples from the model.\njags_samples_workexp <- run.jags(model = model_string_workexp, data = data_list, monitor = c(\"mu_l\", \"sigma_l\", \"mu_h\", \"sigma_h\"))\n\n# Plotting and summarizing the posterior distribution\njags_samples_workexp\nplot_credible_intervals(jags_samples_workexp)\nsummary(jags_samples_workexp)",
      "block_group": "7da8bd2a106a40158d8da7204932a493",
      "execution_count": 13,
      "outputs": [],
      "outputs_reference": null,
      "content_dependencies": null
    },
    {
      "cell_type": "code",
      "metadata": {
        "deepnote_to_be_reexecuted": true,
        "cell_id": "d1a7704df2f943efaf2619d6f534dd3d",
        "deepnote_cell_type": "code"
      },
      "source": "",
      "block_group": "5992f0a50f96436f964d95cac402f26c",
      "execution_count": null,
      "outputs": [],
      "outputs_reference": null,
      "content_dependencies": null
    },
    {
      "cell_type": "markdown",
      "metadata": {
        "cell_id": "5920de3a1a8b4267a7c29288806d334b",
        "deepnote_cell_type": "markdown"
      },
      "source": "# Variable female",
      "block_group": "7eedf5db0b6f456aa4ffa78295fc9a71"
    },
    {
      "cell_type": "markdown",
      "metadata": {
        "cell_id": "0fdfbced01ce41c7b8027c285d3ffb2a",
        "deepnote_cell_type": "markdown"
      },
      "source": "",
      "block_group": "44c2823d40b442c98d348e07a38234ec"
    },
    {
      "cell_type": "markdown",
      "metadata": {
        "deepnote_img_src": "image-20250330-165243.png",
        "cell_id": "4dd11d88421f4064a422ea55c138ba5b",
        "deepnote_cell_type": "image"
      },
      "source": "<img src=\"image-20250330-165243.png\" width=\"\" align=\"\" />",
      "block_group": "2ebd898c46f44477949ebe6a5ba78682"
    },
    {
      "cell_type": "markdown",
      "metadata": {
        "cell_id": "6efd66de7a8f4ae482c0a7f89fec7155",
        "deepnote_cell_type": "markdown"
      },
      "source": "## Vraisemblance",
      "block_group": "46a99abb74964869a2de647f8beec348"
    },
    {
      "cell_type": "markdown",
      "metadata": {
        "cell_id": "9402de2b28cc4f74ba72ed01066ac499",
        "deepnote_cell_type": "markdown"
      },
      "source": "Chaque observation suit une loi de Bernoulli :\n\n$$\ny_i \\sim \\text{Bernoulli}(p_i)\n$$\navec : \n$$\n\\text{logit}(p_i) = \\log\\left(\\frac{p_i}{1 - p_i}\\right) = \\beta_0 + \\beta_1 \\cdot \\text{female}_i\n$$\n- $y_i = 1$ si le salaire est ≥ à la moyenne, 0 sinon  \n- $\\text{female}_i = 1$ si femme, 0 si homme",
      "block_group": "9765e237f40342d5af88ada99478db68"
    },
    {
      "cell_type": "markdown",
      "metadata": {
        "formattedRanges": [],
        "cell_id": "375c8a6e9aaa429abba0c2e1d04001a8",
        "deepnote_cell_type": "text-cell-h2"
      },
      "source": "## Choix du Prior",
      "block_group": "e83d13132fb24b6489de2ffbe716dfc4"
    },
    {
      "cell_type": "markdown",
      "metadata": {
        "cell_id": "7f3c8884613b4c9fac4aa57639fc6233",
        "deepnote_cell_type": "markdown"
      },
      "source": "- **Effet de base pour un homme ($\\beta_0$)** : \n\n$$\n\\beta_0 \\sim \\mathcal{N}(0, 2.5^2)\n$$\n\n- **Effet d’être une femme ($\\beta_1$)** :\n\n$$\n\\beta_1 \\sim \\mathcal{N}(-0.5, 1^2)\n$$",
      "block_group": "d2bb9604da8a4f059c9813754b7d6b81"
    },
    {
      "cell_type": "markdown",
      "metadata": {
        "cell_id": "c22a55fa670142bf85da191178629e8c",
        "deepnote_cell_type": "markdown"
      },
      "source": "## Implémentation en JAGS",
      "block_group": "5b60456343b14746a574f24724cd41de"
    },
    {
      "cell_type": "code",
      "metadata": {
        "source_hash": "247abfb6",
        "execution_start": 1743348661728,
        "execution_millis": 5503,
        "execution_context_id": "b3f17c08-8bd4-4ad6-95c3-0d3455773ef6",
        "cell_id": "cb21dc9812a846828b2c4a2d97dd9a8d",
        "deepnote_cell_type": "code"
      },
      "source": "# ------------------------------\n# 1. Définir le modèle JAGS\n# ------------------------------\nmodel_string_female <- \"\nmodel {\n\n  # Priors\n  beta0 ~ dnorm(0, 0.16)        # équivaut à N(0, 2.5^2)\n  beta1 ~ dnorm(-0.5, 1.0)      # équivaut à N(-0.5, 1^2)\n\n  # Vraisemblance\n  for (i in 1:N) {\n    logit(p[i]) <- beta0 + beta1 * female[i]\n    y[i] ~ dbern(p[i])\n  }\n\n}\n\"\n\n# ------------------------------\n# 2. Préparer les données\n# ------------------------------\n# Cible binaire : 0 ou 1\ny <- as.numeric(as.character(wage_data$wage_level))  # s'assurer que c'est bien numérique (0/1)\nfemale <- as.numeric(wage_data$female)               # 0 = homme, 1 = femme\n\ndata_list_female <- list(\n  y = y,\n  female = female,\n  N = length(y)\n)\n\n# ------------------------------\n# 3. Exécuter le modèle avec run.jags\n# ------------------------------\nlibrary(runjags)\n\njags_samples_female <- run.jags(\n  model = model_string_female,\n  data = data_list_female,\n  monitor = c(\"beta0\", \"beta1\"),\n  n.chains = 3,\n  adapt = 1000,\n  burnin = 1000,\n  sample = 5000,\n  thin = 1\n)\n\n# ------------------------------\n# 4. Résultats\n# ------------------------------\njags_samples_female\nplot_credible_intervals(jags_samples_female)\n",
      "block_group": "02d2a9f36287440eac4b4795cb3a9e13",
      "execution_count": 12,
      "outputs": [],
      "outputs_reference": null,
      "content_dependencies": null
    },
    {
      "cell_type": "markdown",
      "metadata": {
        "cell_id": "0f2bcec3b2ac427687c7c9a2885596bc",
        "deepnote_cell_type": "markdown"
      },
      "source": "## MCMC",
      "block_group": "c51a920a3b0e484b88eeb8a68ac0da1b"
    },
    {
      "cell_type": "code",
      "metadata": {
        "source_hash": "137a6864",
        "execution_start": 1743348427844,
        "execution_millis": 18,
        "execution_context_id": "b3f17c08-8bd4-4ad6-95c3-0d3455773ef6",
        "deepnote_to_be_reexecuted": true,
        "cell_id": "921cbcd24a28437cbcd69ee05b7c627a",
        "deepnote_cell_type": "code"
      },
      "source": "plot_mcmc(jags_samples_female)",
      "block_group": "17ac41069406484e8ac7924c174be450",
      "execution_count": 11,
      "outputs": [],
      "outputs_reference": null,
      "content_dependencies": null
    },
    {
      "cell_type": "markdown",
      "metadata": {
        "cell_id": "1b917895ebe34294b91e5f018f54f918",
        "deepnote_cell_type": "markdown"
      },
      "source": "## Fake data check",
      "block_group": "28fce22aa4ac40938744f9f9bd03a191"
    },
    {
      "cell_type": "code",
      "metadata": {
        "deepnote_to_be_reexecuted": true,
        "cell_id": "2a4e926c4bdb4f30bdad1f91d14b01ac",
        "deepnote_cell_type": "code"
      },
      "source": "",
      "block_group": "982e2c1a399b49d4be48bd62916b6cff",
      "execution_count": null,
      "outputs": [],
      "outputs_reference": null,
      "content_dependencies": null
    },
    {
      "cell_type": "markdown",
      "metadata": {
        "cell_id": "df6287b237d14728807a9e860c841994",
        "deepnote_cell_type": "markdown"
      },
      "source": "## Conclusion",
      "block_group": "57b68e4d4939499ea50bdd0e646c437e"
    },
    {
      "cell_type": "markdown",
      "metadata": {
        "cell_id": "b3984f06535c4f0db1ec916f5dbbb8af",
        "deepnote_cell_type": "markdown"
      },
      "source": "",
      "block_group": "d26533fcd645451c95fe7e9602d89bc0"
    },
    {
      "cell_type": "markdown",
      "metadata": {
        "formattedRanges": [],
        "cell_id": "c95e9f09f58e41cc908ae6e54e3f40e8",
        "deepnote_cell_type": "text-cell-h1"
      },
      "source": "# Variable Married",
      "block_group": "f2fce76877f8422f8f51776a8c9adc78"
    },
    {
      "cell_type": "markdown",
      "metadata": {
        "cell_id": "93b5c131574843488629269e7c0cd6ac",
        "deepnote_cell_type": "markdown"
      },
      "source": "",
      "block_group": "def391783cfb489684fc22a47e3e4753"
    },
    {
      "cell_type": "markdown",
      "metadata": {
        "deepnote_img_src": "image-20250330-164951.png",
        "cell_id": "ff67979dcc3045918ee35a93d681a68d",
        "deepnote_cell_type": "image"
      },
      "source": "<img src=\"image-20250330-164951.png\" width=\"\" align=\"\" />",
      "block_group": "7d292802d96947d1881f206219876f8d"
    },
    {
      "cell_type": "markdown",
      "metadata": {
        "cell_id": "73957cd33024454cbaa4174cc1cccd04",
        "deepnote_cell_type": "markdown"
      },
      "source": "## Vraisemblance",
      "block_group": "9132c09d1277450ebe0e48ade82bd6b8"
    },
    {
      "cell_type": "markdown",
      "metadata": {
        "cell_id": "0e6560e38fa04dc5bf68ddb84e669f14",
        "deepnote_cell_type": "markdown"
      },
      "source": "\nEtant donné que \"married\" est une variable binaire (Single, Married), une distribution de Bernoulli est appropriée pour modéliser cette variable. La fonction de vraisemblance pour une variable de Bernoulli est donnée par :\n$$\nL(\\theta \\mid x) = \\theta^x (1 - \\theta)^{1 - x}\n$$\noù $$x=1$$ si la personne est mariée, $$0$$ sinon.\net $$\\theta$$ est la probabilité d'être marié.\n",
      "block_group": "8b00edb6060345eaae7aaccee8ddf8fc"
    },
    {
      "cell_type": "markdown",
      "metadata": {
        "formattedRanges": [],
        "cell_id": "1ab39a88398a442dbb2fd68858f970b4",
        "deepnote_cell_type": "text-cell-h2"
      },
      "source": "## Choix du Prior",
      "block_group": "78209463e1ab43c2988871faa6e9dc60"
    },
    {
      "cell_type": "markdown",
      "metadata": {
        "cell_id": "955b0b029db74b2d8e92df4b9acda3d7",
        "deepnote_cell_type": "markdown"
      },
      "source": "En ce qui concerne le choix du prior, la distribution Beta est couramment utilisée comme prior conjugué pour une distribution de Bernoulli. Elle est définie par la fonction de normalisation $$ B(\\alpha, \\beta) $$ avec $$\\alpha $$ et $$\\beta $$ les paramètres de forme de la distribution.  \n$$\nP(\\theta \\mid \\alpha, \\beta) = \\frac{\\theta^{\\alpha - 1} (1 - \\theta)^{\\beta - 1}}{B(\\alpha, \\beta)}\n$$\nPour le choix des paramètres du prior, on considère qu'il n'est pas informatif donc $$\\alpha=1$$, $$\\beta=1$$.\n",
      "block_group": "5e15e30e1c374cd3a268d9a055349dfa"
    },
    {
      "cell_type": "markdown",
      "metadata": {
        "cell_id": "c856e0d636b641fb9271bc4375cedb43",
        "deepnote_cell_type": "markdown"
      },
      "source": "## Implémentation en JAGS",
      "block_group": "1f70ea72b83243309e7e378eb64a9992"
    },
    {
      "cell_type": "code",
      "metadata": {
        "deepnote_to_be_reexecuted": true,
        "cell_id": "ace10d59c411467380d3d619dbf75ba7",
        "deepnote_cell_type": "code"
      },
      "source": "",
      "block_group": "c2e46dae8d824f66bbd8f39441a1e452",
      "execution_count": null,
      "outputs": [],
      "outputs_reference": null,
      "content_dependencies": null
    },
    {
      "cell_type": "markdown",
      "metadata": {
        "cell_id": "1af9f25cf1a94056beb3643e314f5365",
        "deepnote_cell_type": "markdown"
      },
      "source": "## MCMC",
      "block_group": "3c06fc87d2c34a318554528d9e8c3a0b"
    },
    {
      "cell_type": "code",
      "metadata": {
        "deepnote_to_be_reexecuted": true,
        "cell_id": "989250e8035f46f4b76b5097736d206b",
        "deepnote_cell_type": "code"
      },
      "source": "",
      "block_group": "21fcf31535ed41828bf72970f5b5f29b",
      "execution_count": null,
      "outputs": [],
      "outputs_reference": null,
      "content_dependencies": null
    },
    {
      "cell_type": "markdown",
      "metadata": {
        "cell_id": "a5e95e5422e94f639023f0d3f8ad2ee3",
        "deepnote_cell_type": "markdown"
      },
      "source": "## Fake data check",
      "block_group": "64c6a05b80be4ad7a410455f66a92686"
    },
    {
      "cell_type": "code",
      "metadata": {
        "deepnote_to_be_reexecuted": true,
        "cell_id": "bd5e8fe70c3d46748e90ccd8af14422b",
        "deepnote_cell_type": "code"
      },
      "source": "",
      "block_group": "a7a48770d04a47248706ced17d27918b",
      "execution_count": null,
      "outputs": [],
      "outputs_reference": null,
      "content_dependencies": null
    },
    {
      "cell_type": "markdown",
      "metadata": {
        "cell_id": "d992da9fcb3b40c092f59feeaac1ff24",
        "deepnote_cell_type": "markdown"
      },
      "source": "## Conclusion",
      "block_group": "25af353a04c74eee9c591c6266e7886d"
    },
    {
      "cell_type": "markdown",
      "metadata": {
        "cell_id": "895de4843743470ab5e525281b385c0a",
        "deepnote_cell_type": "markdown"
      },
      "source": "",
      "block_group": "fb9d8e93fbde4cea8b2af1ae5924700d"
    },
    {
      "cell_type": "markdown",
      "metadata": {
        "cell_id": "a80bf04895f54720ab1aeb65d89701ae",
        "deepnote_cell_type": "markdown"
      },
      "source": "# Variable unionmember",
      "block_group": "b8733b6c6e94405db3ec5a62809dae2c"
    },
    {
      "cell_type": "markdown",
      "metadata": {
        "cell_id": "7a4602c8a939463896c8f833478995ac",
        "deepnote_cell_type": "markdown"
      },
      "source": "",
      "block_group": "c472b809ae1c440a818721e0e57488d6"
    },
    {
      "cell_type": "markdown",
      "metadata": {
        "deepnote_img_src": "image-20250330-165832.png",
        "cell_id": "648202469bfb4f57b24997dd51bf4928",
        "deepnote_cell_type": "image"
      },
      "source": "<img src=\"image-20250330-165832.png\" width=\"\" align=\"\" />",
      "block_group": "1d43463cdfac4ba78118c09aa0966b8c"
    },
    {
      "cell_type": "markdown",
      "metadata": {
        "cell_id": "345912038dc1469fad76494a0223bf35",
        "deepnote_cell_type": "markdown"
      },
      "source": "## Vraisemblance",
      "block_group": "071288dff7d44304b075a889f01ec6d0"
    },
    {
      "cell_type": "markdown",
      "metadata": {
        "cell_id": "8d394f214f284224996fcf7e6ea29da1",
        "deepnote_cell_type": "markdown"
      },
      "source": "",
      "block_group": "dcb61687643743a29271d1d2c59f744f"
    },
    {
      "cell_type": "markdown",
      "metadata": {
        "cell_id": "b20ceca4e0804297a0e33e4f55092e27",
        "deepnote_cell_type": "markdown"
      },
      "source": "## Choix du prior",
      "block_group": "95395ad1553f40bcb318741bca80285c"
    },
    {
      "cell_type": "markdown",
      "metadata": {
        "cell_id": "ee66b70579b742be9f9ea43f6d0752e6",
        "deepnote_cell_type": "markdown"
      },
      "source": "",
      "block_group": "de5ca3023d86425a818b3e33b2774b95"
    },
    {
      "cell_type": "markdown",
      "metadata": {
        "cell_id": "eaf3269b37734e5dba2379069c9c41fd",
        "deepnote_cell_type": "markdown"
      },
      "source": "## Implémentation en JAGS",
      "block_group": "61c6dc2e24bb4585acd57cf92936a5e5"
    },
    {
      "cell_type": "code",
      "metadata": {
        "deepnote_to_be_reexecuted": true,
        "cell_id": "c9aafda309b344198a1fee627d0604a1",
        "deepnote_cell_type": "code"
      },
      "source": "",
      "block_group": "6ccfb845424b409791d0662d70ac91a3",
      "execution_count": null,
      "outputs": [],
      "outputs_reference": null,
      "content_dependencies": null
    },
    {
      "cell_type": "markdown",
      "metadata": {
        "cell_id": "4de709734ca041e89612e8743ead6083",
        "deepnote_cell_type": "markdown"
      },
      "source": "## MCMC",
      "block_group": "71e2b468f1f14ea186ed7b02a5758386"
    },
    {
      "cell_type": "code",
      "metadata": {
        "deepnote_to_be_reexecuted": true,
        "cell_id": "92a32fa2564f481e8c4e317b7470d7c5",
        "deepnote_cell_type": "code"
      },
      "source": "",
      "block_group": "2b81231f5c9f482fa6a918eb669b064e",
      "execution_count": null,
      "outputs": [],
      "outputs_reference": null,
      "content_dependencies": null
    },
    {
      "cell_type": "markdown",
      "metadata": {
        "cell_id": "da45c8158fad47588693d1513354ca6c",
        "deepnote_cell_type": "markdown"
      },
      "source": "## Fake data check",
      "block_group": "9ca1e0a01d864b8dab692932b71dc5a4"
    },
    {
      "cell_type": "code",
      "metadata": {
        "deepnote_to_be_reexecuted": true,
        "cell_id": "3bcff2ce23c840978ffae21683d07d99",
        "deepnote_cell_type": "code"
      },
      "source": "",
      "block_group": "c79dcfeb8f5e45fcb26115950d08b71d",
      "execution_count": null,
      "outputs": [],
      "outputs_reference": null,
      "content_dependencies": null
    },
    {
      "cell_type": "markdown",
      "metadata": {
        "cell_id": "40e995e9005146e9ac77a3d7af9a82c2",
        "deepnote_cell_type": "markdown"
      },
      "source": "## Conclusion",
      "block_group": "8e8260ad175b4ad18b70f9f95e7851e4"
    },
    {
      "cell_type": "markdown",
      "metadata": {
        "cell_id": "7a35b15a986d42e38024c5631ba2c75e",
        "deepnote_cell_type": "markdown"
      },
      "source": "",
      "block_group": "65aa4be5fc2d40d8b346c584f2d0f10c"
    },
    {
      "cell_type": "markdown",
      "metadata": {
        "cell_id": "e6a1529e8bba48ea82044401cdbe0309",
        "deepnote_cell_type": "markdown"
      },
      "source": "# Variable ethnicity",
      "block_group": "4cacd0711bfa497b87a7733b1616e371"
    },
    {
      "cell_type": "markdown",
      "metadata": {
        "cell_id": "04d8b91248d74276b7f8848007b85d6f",
        "deepnote_cell_type": "markdown"
      },
      "source": "",
      "block_group": "bc5ff837f1664c2aa129dcc305831ab0"
    },
    {
      "cell_type": "markdown",
      "metadata": {
        "deepnote_img_src": "image-20250330-170259.png",
        "cell_id": "b478e180de4648ea825bc89dba5c84cc",
        "deepnote_cell_type": "image"
      },
      "source": "<img src=\"image-20250330-170259.png\" width=\"\" align=\"\" />",
      "block_group": "dd5e40b226c244e1ad6aae42c37dc1fb"
    },
    {
      "cell_type": "markdown",
      "metadata": {
        "cell_id": "168b7c514f5d42a5ba4797cc46e2b62d",
        "deepnote_cell_type": "markdown"
      },
      "source": "## Vraisemblance",
      "block_group": "0532ffc5a6124742962654fac9144baa"
    },
    {
      "cell_type": "markdown",
      "metadata": {
        "cell_id": "7bb3c6ffcde54152b3de380b79e2a3bc",
        "deepnote_cell_type": "markdown"
      },
      "source": "",
      "block_group": "4fc0b67ca87d4d39884a0ebaf82bf508"
    },
    {
      "cell_type": "markdown",
      "metadata": {
        "cell_id": "da1d7bf7b8324cfab368e88c51163015",
        "deepnote_cell_type": "markdown"
      },
      "source": "## Choix du prior",
      "block_group": "b8f1a952eba741d1954e8c14e1752831"
    },
    {
      "cell_type": "markdown",
      "metadata": {
        "cell_id": "b48bedf3c9fe4f4882228dacd525489a",
        "deepnote_cell_type": "markdown"
      },
      "source": "",
      "block_group": "98b391384afd473fb98cc1e76f66f02e"
    },
    {
      "cell_type": "markdown",
      "metadata": {
        "cell_id": "776d889232414bd2aca514bb1fb26b1d",
        "deepnote_cell_type": "markdown"
      },
      "source": "## Implémentation en JAGS",
      "block_group": "f90d2fa9013847dabc4fc13cf2b0929e"
    },
    {
      "cell_type": "code",
      "metadata": {
        "deepnote_to_be_reexecuted": true,
        "cell_id": "2c83b3693e1745bb9837e57cc505ee88",
        "deepnote_cell_type": "code"
      },
      "source": "",
      "block_group": "c72ddaf5bc394897bc645d6d764be67f",
      "execution_count": null,
      "outputs": [],
      "outputs_reference": null,
      "content_dependencies": null
    },
    {
      "cell_type": "markdown",
      "metadata": {
        "cell_id": "87f82944c473434bbe5e5898cd7b3c69",
        "deepnote_cell_type": "markdown"
      },
      "source": "## MCMC",
      "block_group": "24c1f5b0904b459895de40c0ef1eaf5c"
    },
    {
      "cell_type": "code",
      "metadata": {
        "deepnote_to_be_reexecuted": true,
        "cell_id": "72e4ed179f434ed6a29a925a2b18eff7",
        "deepnote_cell_type": "code"
      },
      "source": "",
      "block_group": "3780ff47f3be486490860261786ad265",
      "execution_count": null,
      "outputs": [],
      "outputs_reference": null,
      "content_dependencies": null
    },
    {
      "cell_type": "markdown",
      "metadata": {
        "cell_id": "a32dae4b9a804d649a5348ce03d679bc",
        "deepnote_cell_type": "markdown"
      },
      "source": "## Fake data check",
      "block_group": "36d6474439ac4e219362897a700eca29"
    },
    {
      "cell_type": "code",
      "metadata": {
        "deepnote_to_be_reexecuted": true,
        "cell_id": "611812395ce84389b2439780b7921e75",
        "deepnote_cell_type": "code"
      },
      "source": "",
      "block_group": "f396a6fdfeef4361bd8449caf4547d41",
      "execution_count": null,
      "outputs": [],
      "outputs_reference": null,
      "content_dependencies": null
    },
    {
      "cell_type": "markdown",
      "metadata": {
        "cell_id": "cd0df4b3f16e49eab39910d36a4fa5c6",
        "deepnote_cell_type": "markdown"
      },
      "source": "## Conclusion",
      "block_group": "6bdd9a9c25ec40379e7b00f28c4782dc"
    },
    {
      "cell_type": "markdown",
      "metadata": {
        "cell_id": "4e43419c990a4430a3a7048a008b2f29",
        "deepnote_cell_type": "markdown"
      },
      "source": "",
      "block_group": "bfce3925b27e48dab931a729ee2daa4a"
    },
    {
      "cell_type": "markdown",
      "metadata": {
        "cell_id": "a7d1e3e479f24d67bfc39035cb998fcd",
        "deepnote_cell_type": "markdown"
      },
      "source": "# Variable sector",
      "block_group": "9821e2aba1724f8ab2d6c38ca2a3d297"
    },
    {
      "cell_type": "markdown",
      "metadata": {
        "cell_id": "706c06526f1b4d58a70357eb9aacb456",
        "deepnote_cell_type": "markdown"
      },
      "source": "",
      "block_group": "4d74aa365a814ef1933ee67c0747365f"
    },
    {
      "cell_type": "markdown",
      "metadata": {
        "deepnote_img_src": "image-20250330-170309.png",
        "cell_id": "83ad43a2751545f584023e8119b5b357",
        "deepnote_cell_type": "image"
      },
      "source": "<img src=\"image-20250330-170309.png\" width=\"\" align=\"\" />",
      "block_group": "1dea89630f5a4dc0bfea5017c8f166c7"
    },
    {
      "cell_type": "markdown",
      "metadata": {
        "cell_id": "9f169bddb50140778df3bfd2c3a163f3",
        "deepnote_cell_type": "markdown"
      },
      "source": "## Vraisemblance",
      "block_group": "b8dd026e9b474aef909ec286fa2f4a36"
    },
    {
      "cell_type": "markdown",
      "metadata": {
        "cell_id": "187cbab4969f4eb8878dada48d24c0b8",
        "deepnote_cell_type": "markdown"
      },
      "source": "",
      "block_group": "8456c728f8c14edda800232469fbee49"
    },
    {
      "cell_type": "markdown",
      "metadata": {
        "cell_id": "38ff46e2005f47d491c90c1683d858fa",
        "deepnote_cell_type": "markdown"
      },
      "source": "## Choix du prior",
      "block_group": "cbfc369ae68547689a7cb58f0722a8be"
    },
    {
      "cell_type": "markdown",
      "metadata": {
        "cell_id": "bf7ac3104ac04e24a42cf2a72f89a099",
        "deepnote_cell_type": "markdown"
      },
      "source": "",
      "block_group": "f2582ce056624e2d8210823444a2e0f7"
    },
    {
      "cell_type": "markdown",
      "metadata": {
        "cell_id": "eac9a1c5af0b45f6a4bdc0e1a3ba246f",
        "deepnote_cell_type": "markdown"
      },
      "source": "## Implémentation en JAGS",
      "block_group": "acbc41a4b99348988f00d207fa2f2a44"
    },
    {
      "cell_type": "code",
      "metadata": {
        "deepnote_to_be_reexecuted": true,
        "cell_id": "fc978b3528dc4576a630cd2aa56be266",
        "deepnote_cell_type": "code"
      },
      "source": "",
      "block_group": "105d975901054b278f388934986f87bd",
      "execution_count": null,
      "outputs": [],
      "outputs_reference": null,
      "content_dependencies": null
    },
    {
      "cell_type": "markdown",
      "metadata": {
        "cell_id": "0cd45827e81b402f84493f91e2693bc3",
        "deepnote_cell_type": "markdown"
      },
      "source": "## MCMC",
      "block_group": "5c71b0d78fa243e58124b74306ed02da"
    },
    {
      "cell_type": "code",
      "metadata": {
        "deepnote_to_be_reexecuted": true,
        "cell_id": "c38b3e7a04984a9cab5000909f2e7db0",
        "deepnote_cell_type": "code"
      },
      "source": "",
      "block_group": "aa32d02093d04675bd23f213dd642a23",
      "execution_count": null,
      "outputs": [],
      "outputs_reference": null,
      "content_dependencies": null
    },
    {
      "cell_type": "markdown",
      "metadata": {
        "cell_id": "844ffca05280498a90a1bf94e9231523",
        "deepnote_cell_type": "markdown"
      },
      "source": "## Fake data check",
      "block_group": "e929328d14a649489b780f8594dd5813"
    },
    {
      "cell_type": "code",
      "metadata": {
        "deepnote_to_be_reexecuted": true,
        "cell_id": "37d896ac23c245cca691a3df5b1740e4",
        "deepnote_cell_type": "code"
      },
      "source": "",
      "block_group": "b38cc1d3d19044a4b5585b417c84f825",
      "execution_count": null,
      "outputs": [],
      "outputs_reference": null,
      "content_dependencies": null
    },
    {
      "cell_type": "markdown",
      "metadata": {
        "cell_id": "f8a55aad4ec84f8ab7e08f756ca5c5c2",
        "deepnote_cell_type": "markdown"
      },
      "source": "## Conclusion",
      "block_group": "555ae70a70134b0f91fda52074272b35"
    },
    {
      "cell_type": "markdown",
      "metadata": {
        "cell_id": "dbc5bb66bbc946df878b3d12374cb001",
        "deepnote_cell_type": "markdown"
      },
      "source": "",
      "block_group": "970649d7336840d29223e385cf5fb7c4"
    },
    {
      "cell_type": "markdown",
      "metadata": {
        "cell_id": "1da8b55b078d4e39845c253759befc94",
        "deepnote_cell_type": "markdown"
      },
      "source": "# Variable occupation",
      "block_group": "72c5aaab46b343578656fad8eedd045f"
    },
    {
      "cell_type": "markdown",
      "metadata": {
        "cell_id": "4696be50173f4ba59db8a49a049860ea",
        "deepnote_cell_type": "markdown"
      },
      "source": "",
      "block_group": "981fb710c81c479ca5ecaf280d608f04"
    },
    {
      "cell_type": "markdown",
      "metadata": {
        "deepnote_img_src": "image-20250330-170318.png",
        "cell_id": "34e7bc908bb342a7aabefefc257df5d3",
        "deepnote_cell_type": "image"
      },
      "source": "<img src=\"image-20250330-170318.png\" width=\"\" align=\"\" />",
      "block_group": "9dfa4066d02c42f092e3516884f60274"
    },
    {
      "cell_type": "markdown",
      "metadata": {
        "cell_id": "1ecd4537c6324e6bb2585c8c6a59eaee",
        "deepnote_cell_type": "markdown"
      },
      "source": "## Vraisemblance",
      "block_group": "fcff6df76c52413f9a03db980a9a3614"
    },
    {
      "cell_type": "markdown",
      "metadata": {
        "cell_id": "67e7f016abbf43e098faa15b9ff6aa28",
        "deepnote_cell_type": "markdown"
      },
      "source": "",
      "block_group": "8d07ac8b2ee442989d0a0c3f5104f062"
    },
    {
      "cell_type": "markdown",
      "metadata": {
        "cell_id": "7d6f04b636634951a14844d6a18aa8b6",
        "deepnote_cell_type": "markdown"
      },
      "source": "## Choix du prior",
      "block_group": "7da1daa6df764124b60feef84b405cb6"
    },
    {
      "cell_type": "markdown",
      "metadata": {
        "cell_id": "b7f701f797174def84da36d5ca3523d7",
        "deepnote_cell_type": "markdown"
      },
      "source": "",
      "block_group": "eeaf4e3615e146db865e2327f187910e"
    },
    {
      "cell_type": "markdown",
      "metadata": {
        "cell_id": "46cbca56495949a1a32ea9ca2d0a1024",
        "deepnote_cell_type": "markdown"
      },
      "source": "## Implémentation en JAGS",
      "block_group": "2cd4534d8aa549b990474effe1e116ec"
    },
    {
      "cell_type": "code",
      "metadata": {
        "deepnote_to_be_reexecuted": true,
        "cell_id": "3dfb507ddb1149cfb45a6b83efbed4a1",
        "deepnote_cell_type": "code"
      },
      "source": "",
      "block_group": "032b60c90dc8466288f6bd2052e55d3f",
      "execution_count": null,
      "outputs": [],
      "outputs_reference": null,
      "content_dependencies": null
    },
    {
      "cell_type": "markdown",
      "metadata": {
        "cell_id": "2789c4014a2e4e13b799943edc8e5e3f",
        "deepnote_cell_type": "markdown"
      },
      "source": "## MCMC",
      "block_group": "c92a91bcf6e249efbb6269ae72110015"
    },
    {
      "cell_type": "code",
      "metadata": {
        "deepnote_to_be_reexecuted": true,
        "cell_id": "d7488403408e4d1f8341ab6518914964",
        "deepnote_cell_type": "code"
      },
      "source": "",
      "block_group": "9cadb39e6dfd421080e89eacbebd9722",
      "execution_count": null,
      "outputs": [],
      "outputs_reference": null,
      "content_dependencies": null
    },
    {
      "cell_type": "markdown",
      "metadata": {
        "cell_id": "0575f038d54343368778bcf1b924191d",
        "deepnote_cell_type": "markdown"
      },
      "source": "## Fake data check",
      "block_group": "4532aa39a109423c8bb02a9c9f7845df"
    },
    {
      "cell_type": "code",
      "metadata": {
        "deepnote_to_be_reexecuted": true,
        "cell_id": "8690ca48f88a4f059e6a19117a568929",
        "deepnote_cell_type": "code"
      },
      "source": "",
      "block_group": "7bc90004b15445d382cbba7165f1e696",
      "execution_count": null,
      "outputs": [],
      "outputs_reference": null,
      "content_dependencies": null
    },
    {
      "cell_type": "markdown",
      "metadata": {
        "cell_id": "8b8cc839b54147bc8741863b380667b9",
        "deepnote_cell_type": "markdown"
      },
      "source": "## Conclusion",
      "block_group": "f986fd167e8545499405ba7ab06e198e"
    },
    {
      "cell_type": "markdown",
      "metadata": {
        "cell_id": "760103921ca84433a63b61638f43a1f2",
        "deepnote_cell_type": "markdown"
      },
      "source": "",
      "block_group": "ed4076ec8eb0473cb715e657cc6815fe"
    },
    {
      "cell_type": "markdown",
      "metadata": {
        "cell_id": "ca17b0de9a974a72a3f2fe6e45699794",
        "deepnote_cell_type": "markdown"
      },
      "source": "",
      "block_group": "c733f125c4c540a9a47f65ff9511e558"
    },
    {
      "cell_type": "markdown",
      "source": "<a style='text-decoration:none;line-height:16px;display:flex;color:#5B5B62;padding:10px;justify-content:end;' href='https://deepnote.com?utm_source=created-in-deepnote-cell&projectId=650b0311-43bb-4704-b320-0c62dbd2dedc' target=\"_blank\">\n<img alt='Created in deepnote.com' style='display:inline;max-height:16px;margin:0px;margin-right:7.5px;' src='data:image/svg+xml;base64,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' > </img>\nCreated in <span style='font-weight:600;margin-left:4px;'>Deepnote</span></a>",
      "metadata": {
        "created_in_deepnote_cell": true,
        "deepnote_cell_type": "markdown"
      }
    }
  ],
  "nbformat": 4,
  "nbformat_minor": 0,
  "metadata": {
    "deepnote_notebook_id": "ec0ce71408ee47eb88ba93cf7d0477e6"
  }
}