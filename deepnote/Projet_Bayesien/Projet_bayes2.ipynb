{
  "cells": [
    {
      "cell_type": "code",
      "metadata": {
        "source_hash": "f0cb7e6d",
        "is_code_hidden": true,
        "execution_start": 1743351357104,
        "execution_millis": 29759,
        "is_output_hidden": false,
        "execution_context_id": "b3f17c08-8bd4-4ad6-95c3-0d3455773ef6",
        "deepnote_app_block_order": 0,
        "deepnote_app_block_visible": false,
        "deepnote_app_block_group_id": null,
        "deepnote_app_is_code_hidden": true,
        "deepnote_app_is_output_hidden": true,
        "cell_id": "4088a60d917447a7b8e25711fe8e1e6e",
        "deepnote_cell_type": "code"
      },
      "source": "system(\"sudo apt-get update -y && sudo apt-get install -y jags && sudo apt-get install -y r-cran-rjags\")\ninstall.packages('runjags')\ninstall.packages('rjags')",
      "block_group": "26181a3dcabd4e70b72ee09e9e5f95e5",
      "execution_count": 1,
      "outputs": [],
      "outputs_reference": null,
      "content_dependencies": null
    },
    {
      "cell_type": "code",
      "metadata": {
        "source_hash": "d1c12e05",
        "is_code_hidden": true,
        "execution_start": 1743351386913,
        "execution_millis": 669,
        "is_output_hidden": true,
        "execution_context_id": "b3f17c08-8bd4-4ad6-95c3-0d3455773ef6",
        "deepnote_app_block_order": 1,
        "deepnote_app_block_visible": false,
        "deepnote_app_block_group_id": null,
        "deepnote_app_is_code_hidden": true,
        "deepnote_app_is_output_hidden": true,
        "cell_id": "b4dced4004e94c1f99066ba6da4e4607",
        "deepnote_cell_type": "code"
      },
      "source": "# Charger les bibliothèques nécessaires\nlibrary(dplyr)\nlibrary(ggplot2)\nlibrary(tidyverse)\nlibrary(runjags)\nlibrary(rjags)",
      "block_group": "488a1db03a3440548deb2a2ac457a495",
      "execution_count": 2,
      "outputs": [],
      "outputs_reference": null,
      "content_dependencies": null
    },
    {
      "cell_type": "markdown",
      "metadata": {
        "deepnote_app_block_order": 0,
        "deepnote_app_block_visible": true,
        "deepnote_app_block_group_id": null,
        "cell_id": "099536a2971341eba62ae7e8686d57cd",
        "deepnote_cell_type": "markdown"
      },
      "source": "# Introduction\nL’étude des disparités salariales est un sujet central en économie du travail et en sciences sociales. Malgré les avancées vers l’égalité des chances, des différences de salaires persistent entre divers groupes sociaux, notamment en fonction du genre, de l’ethnicité, du niveau d’éducation et de l’expérience professionnelle. Aux États-Unis, des études ont montré que les écarts salariaux sont significatifs : les femmes gagnent en moyenne moins que les hommes, et certaines minorités ethniques, comme les Afro-Américains et les Latino-Américains, perçoivent des salaires inférieurs à ceux des Américains blancs et asiatiques.\n\nNotre projet vise à identifier les principaux facteurs influençant les salaires horaires en utilisant des modèles bayésiens. Plus précisément, nous cherchons à quantifier l’impact de variables telles que le genre, l’expérience professionnelle, le niveau d’éducation, l’appartenance syndicale et la localisation géographique sur les salaires.\n\nPour ce faire, nous utiliserons des méthodes bayésiennes de régression mises en œuvre avec JAGS, permettant une estimation robuste et une meilleure quantification des incertitudes. Notre approche inclura l’exploration des données, la spécification des modèles avec des choix de lois a priori justifiées, ainsi que des évaluations rigoureuses des performances des modèles à travers des diagnostics de convergence et des simulations de données fictives (fake data check).\n\nCe rapport est structuré comme suit : après une présentation des données et de leur exploration, nous décrirons les modèles bayésiens retenus et justifierons les choix de lois a priori. Nous présenterons ensuite les résultats de l’ajustement des modèles, suivis des diagnostics de convergence et de l’évaluation de leur performance. Enfin, nous discuterons des conclusions et des implications de nos résultats dans le contexte des disparités salariales aux États-Unis.",
      "block_group": "d16faf61b4834075ac640501cb96544e"
    },
    {
      "cell_type": "markdown",
      "metadata": {
        "deepnote_app_block_order": 1,
        "deepnote_app_block_visible": true,
        "deepnote_app_block_group_id": null,
        "cell_id": "3af9d78359d9408d9e66f104249ee93f",
        "deepnote_cell_type": "markdown"
      },
      "source": "# Modèle génératif et espace des paramètres\n\nOn veut construire un modèle prédictif pour le salaire des individus pour lesquels on connait 10 variables explicatives (âge, éducation, experience professionnelle, etc.), 434 individus dans un jeu de données d'entraînement et 100 individus dans le jeu de données de test.\n\nOn note $Y_i \\in \\mathbb{R}$ le salaire de l'individu $i$ et $X_i \\in \\mathbb{R}^{10}$ les variables explicatives de l'individu $i$.\n\nRégression linéaire:\n$Y_i = \\beta_0 + \\beta_1 X_{1i} + \\beta_2 X_{2i} + \\cdots + \\beta_{10} X_{10i} + \\sigma \\epsilon_i$\n11 paramètres $\\beta = (\\beta_0, \\beta_1, \\beta_2, \\cdots, \\beta_{10})$  $\\epsilon_i \\sim \\mathcal{N}(0, 1)$ et $\\sigma \\in \\mathbb{R^+}$\n\nCertaines variables peuvent avoir peu ou pas d'effet sur le salaire, ie des $\\beta_i = 0$.\n\n## Distribution à postériori\n\nA partir de $y=(y_1, y_2, \\cdots, y_{434})$ et $ X=(X_1, X_2, \\cdots, X_{434})$, on peut calculer $P(\\beta | y, X)$ et regarder $P(\\beta_j \\neq 0 | y, X)$ pour chaque coefficient.\n\n## Performances prédictives\n\nUn manière d'évaluer la performance prédictive $\\hat{\\beta}_{bayes} = E(\\beta | y, X)$\n$X_{test}$ matrice 100x10\n$y_{test}$ les observations\n$y_{test,Bayes} = X_{test} \\hat{\\beta}_{bayes}$\n\n# Degrès de croyance\n\nQue croit-on sur l'effet de chaque variable explicative sur le salaire?\n\nNous pouvons formuler des hypothèse à priori sur l'impact des différentes variables :\n\n- Éducation : On s’attend à une relation positive entre le niveau d’éducation et le salaire.\n\n- Expérience professionnelle (workexp) : Plus d’expérience est généralement associée à un salaire plus élevé.\n\n- Sexe (female) : Il est bien documenté qu’un écart salarial entre hommes et femmes existe (gender pay gap).\n\n- Région (south) : Il peut y avoir des différences salariales régionales.\n\n- Appartenance syndicale (unionmember) : Être syndiqué peut influencer le salaire.\n\n- Âge (age) : En général, l’âge est corrélé à l’expérience professionnelle, mais il pourrait aussi capturer d’autres dynamiques comme la discrimination liée à l’âge.\n\n- Ethnicité (ethnicity) : Certaines inégalités salariales peuvent exister selon l’origine ethnique.\n\n- Occupation et secteur (occupation, sector) : Le type d’emploi et le secteur d’activité influencent fortement le salaire.\n\n- Statut matrimonial (married) : Certaines études suggèrent que les personnes mariées ont des salaires plus élevés, en particulier les hommes.\n\n\n### Estimation d'un paramètre $\\beta$ avec des données\n\nAyant obtenu {$Y=y$} , $P(\\beta | y,X) = \\frac{P(\\beta) P(y,X | \\beta)}{P(y,X)}$\n\nDonc $posterior \\propto prior \\times likelihood$\n\n$prior = P(\\beta)$ : Croyance des effets des variables sur le salaire avant d'avoir les données.\n$likelihood = P(y | \\beta)$ : Probabilité d'observer les données en fonction des paramètres du modèle\n$posterior = P(\\beta | y)$ : La Distribution à posteriori après avoir observé les données\n\nOn peut le voir ainsi :\n\n$P(Model | New Data)  = \\frac{P(Model) P(New Data | Model)}{P(New Data)}$\n\n",
      "block_group": "98471d7c6e304c45b6a6979c6e2489e3"
    },
    {
      "cell_type": "markdown",
      "metadata": {
        "deepnote_app_block_order": 2,
        "deepnote_app_block_visible": true,
        "deepnote_app_block_group_id": null,
        "cell_id": "9733bc9a734f44a78fe736b8178c914a",
        "deepnote_cell_type": "markdown"
      },
      "source": "# Nos données",
      "block_group": "b50b07a8cac94dd5bdebdc7182e841a7"
    },
    {
      "cell_type": "markdown",
      "metadata": {
        "deepnote_app_block_order": 3,
        "deepnote_app_block_visible": true,
        "deepnote_app_block_group_id": null,
        "cell_id": "f902c145183f4c3b9adfe86e9ada0cc2",
        "deepnote_cell_type": "markdown"
      },
      "source": "Notre jeu de données comprend 534 individus. Chaque individu a 10 variables : education, south, female, workexp, unionmember, wages, age, ethnicity, occupation, sector, married.\n\n- Variables quantitatives:\n    > **education**: Années d'études\n    >**workexp**: Années d'expêrience professionnelle\n    >**age**: âge\n\n- Variables qualitatives:\n    >**south**: Vit dans le sud ou non\n    >**female**: Indicateur de genre (0 = Homme, 1 = Femme)\n    >**unionmember**: Indicateur de membre du syndicat (0 = Non, 1 = Oui)\n    >**married**: Indicateur de statut marital. Marié(e) ou non.\n\n- Variables categorielles:\n    >**ethnicity**: Ethnicité (White, Hispanic, Other)\n    >**occupation**: Occupation (Management, Sales, Clerical, Professional, Service, Other)\n    >**sector**: Secteur d'activité (Manufactoring, Construction, Other)\n\n\n",
      "block_group": "5588fa021c6d4679ad4f4a6b80fc6de7"
    },
    {
      "cell_type": "markdown",
      "metadata": {
        "formattedRanges": [],
        "deepnote_app_block_order": 4,
        "deepnote_app_block_visible": true,
        "deepnote_app_block_group_id": null,
        "cell_id": "150cb3a8b74c495c9f29ac54f6fdca18",
        "deepnote_cell_type": "text-cell-h1"
      },
      "source": "# Modélisation Bayésienne",
      "block_group": "2c0273192d5c4256ac36a8c4486c1ee5"
    },
    {
      "cell_type": "markdown",
      "metadata": {
        "deepnote_app_block_order": 5,
        "deepnote_app_block_visible": true,
        "deepnote_app_block_group_id": null,
        "cell_id": "69e048aa8b694ae5b0108268accf11e7",
        "deepnote_cell_type": "markdown"
      },
      "source": "* L'analyse traditionnelle des déterminants salariaux repose souvent sur des modèles de régression visant à prédire le salaire horaire individuel comme variable continue. Cependant, cette approche présente une limite majeure : elle ne permet pas d'identifier clairement les facteurs qui influencent l'appartenance à une catégorie significative de salaire (par exemple, un revenu \"élevé\" versus \"bas\"). En effet, prédire une valeur exacte de salaire horaire (par exemple, 15,67 $/h) n’est pas toujours utile pour comprendre les dynamiques structurelles des inégalités ou pour élaborer des politiques ciblées.\n* Pour pallier cette limite, nous avons adopté une approche alternative : transformer la variable salariale continue en une variable binaire indiquant si un individu perçoit un salaire supérieur au salaire moyen (1) ou non (0). Cette \n* Pour ce faire, on ajoute une colonne pour calculer la moyenne de la variable wage avec 0 pour les salaires inférieurs à la moyenne et 1 pour les salaires supérieurs à la moyenne.",
      "block_group": "f177ad60311a41ab86532c451b867503"
    },
    {
      "cell_type": "code",
      "metadata": {
        "source_hash": "59886a6d",
        "is_code_hidden": false,
        "execution_start": 1743362975363,
        "execution_millis": 243,
        "execution_context_id": "b3f17c08-8bd4-4ad6-95c3-0d3455773ef6",
        "deepnote_app_block_order": 6,
        "deepnote_app_block_visible": true,
        "deepnote_app_block_group_id": null,
        "deepnote_app_is_code_hidden": true,
        "deepnote_app_is_output_hidden": false,
        "cell_id": "6a6a96da7db74c7e9602a4eb5601b44e",
        "deepnote_cell_type": "code"
      },
      "source": "# Charger les données\nwage_data <- read.csv(\"https://raw.githubusercontent.com/derghalmanal/Wage/refs/heads/main/wage_data.csv\", header=TRUE, sep=\",\")\n\n# Calculer la moyenne de la colonne wage\nmean_wage <- mean(wage_data$wage, na.rm=TRUE)\n\n# Ajouter la colonne wage_moyenne\nwage_data$wage_level <- ifelse(wage_data$wage < mean_wage, 0, 1)\n\n# Transformer la colonne wage_moyenne en facteur\nwage_data$wage_level <- as.factor(wage_data$wage_level)\n\n# Vérifier le résultat\nhead(wage_data)",
      "block_group": "85b789f622e14424b8e7b21333d27c41",
      "execution_count": 167,
      "outputs": [],
      "outputs_reference": null,
      "content_dependencies": null
    },
    {
      "cell_type": "code",
      "metadata": {
        "source_hash": "dda84e9",
        "is_code_hidden": true,
        "execution_start": 1743362979533,
        "execution_millis": 21,
        "execution_context_id": "b3f17c08-8bd4-4ad6-95c3-0d3455773ef6",
        "deepnote_app_block_order": 7,
        "deepnote_app_block_visible": true,
        "deepnote_app_block_group_id": null,
        "deepnote_app_is_code_hidden": true,
        "deepnote_app_is_output_hidden": false,
        "cell_id": "76bd208e1b0e473483bb1873cfe89b17",
        "deepnote_cell_type": "code"
      },
      "source": "str(wage_data)",
      "block_group": "802d824360ac47b3b5ff54592a55476a",
      "execution_count": 168,
      "outputs": [],
      "outputs_reference": null,
      "content_dependencies": null
    },
    {
      "cell_type": "markdown",
      "metadata": {
        "deepnote_app_block_order": 8,
        "deepnote_app_block_visible": true,
        "deepnote_app_block_group_id": null,
        "cell_id": "89fd447405f44084ac261927fae8cae8",
        "deepnote_cell_type": "markdown"
      },
      "source": "Analysons la contribution de chaque variable aux salaires\n\nDans toute la suite du rapport l = lower pour signifier que le salaire est inférieur à la moyenne et h = higher pour signifier que le salaire est supérieur à la moyenne.\n\nOn cherchera la loi de la vraisemblance $X_{i,s}|\\beta$ pour chaque individu $i$ et chaque variable $s \\in \\{l,h\\}$.",
      "block_group": "ee8ca6bbe25a40168b528cc61c0e42d9"
    },
    {
      "cell_type": "code",
      "metadata": {
        "source_hash": "d1a8fb5",
        "is_code_hidden": true,
        "execution_start": 1743362984459,
        "execution_millis": 11,
        "execution_context_id": "b3f17c08-8bd4-4ad6-95c3-0d3455773ef6",
        "deepnote_app_block_order": 11,
        "deepnote_app_block_visible": false,
        "deepnote_app_block_group_id": null,
        "deepnote_app_is_code_hidden": true,
        "deepnote_app_is_output_hidden": true,
        "cell_id": "73060e82a97a4f1b91dae36e26e8cb35",
        "deepnote_cell_type": "code"
      },
      "source": "plot_credible_intervals <- function(jags_samples) {\n  # Extract the MCMC samples and the names of the parameters\n  samples <- as.data.frame(jags_samples$mcmc %>% lapply(as_tibble) %>% bind_rows())\n  params <- names(samples)\n\n  # Calculate the 50% and 95% credible intervals for each parameter\n  intervals <- data.frame(param = character(), lower = numeric(), upper = numeric())\n  for (param in params) {\n    est_mean <- mean(samples[[param]])\n    est_median <- median(samples[[param]])\n    ci_50_infCI <- quantile(samples[[param]], probs = 0.25)\n    ci_50_supCI <- quantile(samples[[param]], probs = 0.75)\n    ci_95_infCI <- quantile(samples[[param]], probs = 0.025)\n    ci_95_supCI <- quantile(samples[[param]], probs = 0.975)\n    intervals <- rbind(intervals, data.frame(param = param, est_mean = est_mean, est_median = est_median, ci_50_infCI = ci_50_infCI, ci_50_supCI = ci_50_supCI, ci_95_infCI = ci_95_infCI, ci_95_supCI = ci_95_supCI))\n  }\n\n  # Create a ggplot object\n  p <- ggplot(intervals, aes(y = param)) +\n    theme_classic() +\n    geom_segment(aes(y = param, yend = param, x = ci_95_infCI, xend = ci_95_supCI),\n      color = \"red\", size = 0.5\n    ) +\n    geom_segment(aes(y = param, yend = param, x = ci_50_infCI, xend = ci_50_supCI),\n      color = \"red\", size = 1.5\n    ) +\n    geom_point(aes(x = est_mean), size = 3) +\n    labs(title = \"Posterior credible intervals\") +\n    xlab(\"\") +\n    ylab(\"\")\n\n  # Print the plot\n  print(p)\n}",
      "block_group": "d0e0588ccd11455d8f2dd3b9d3f1490f",
      "execution_count": 169,
      "outputs": [],
      "outputs_reference": null,
      "content_dependencies": null
    },
    {
      "cell_type": "markdown",
      "metadata": {
        "deepnote_app_block_order": 12,
        "deepnote_app_block_visible": false,
        "deepnote_app_block_group_id": null,
        "cell_id": "fc98de3e5d684324a37ac31c8042fc12",
        "deepnote_cell_type": "markdown"
      },
      "source": "# Histogramme des variables",
      "block_group": "5f7a9fbabf2a47f9a28bd664a58595a4"
    },
    {
      "cell_type": "code",
      "metadata": {
        "source_hash": "65e33c94",
        "is_code_hidden": true,
        "execution_start": 1743362986489,
        "execution_millis": 1482,
        "is_output_hidden": true,
        "execution_context_id": "b3f17c08-8bd4-4ad6-95c3-0d3455773ef6",
        "deepnote_app_block_order": 13,
        "deepnote_app_block_visible": false,
        "deepnote_app_block_group_id": null,
        "deepnote_app_is_code_hidden": true,
        "deepnote_app_is_output_hidden": true,
        "cell_id": "d9eedc50376c49babc3f7ece474c81c2",
        "deepnote_cell_type": "code"
      },
      "source": "numeric_vars <- c(\"education\", \"workexp\")\nwage_data[numeric_vars] <- lapply(wage_data[numeric_vars], function(x) as.numeric(as.character(x)))\n\nfor (var in numeric_vars){\n    print(ggplot(data = wage_data, aes_string(x = var, fill = \"wage_level\" )) +\n      geom_bar( position = \"identity\", alpha = 0.7) +\n      labs(title = paste0(\"Histogramme de la variable \", var , \" en fonction du salaire moyen\"),\n           x = var, y = \"Fréquence\") +\n      scale_fill_manual(values = c(\"blue\", \"red\")) +  # Couleurs des labels\n      theme_minimal())\n}\n\nwage_data$south        <- factor(wage_data$south, labels = c(\"Non-South\", \"South\"))\nwage_data$female       <- factor(wage_data$female, labels = c(\"Male\", \"Female\"))\nwage_data$unionmember  <- factor(wage_data$unionmember, labels = c(\"Non-Member\", \"Member\"))\nwage_data$married      <- factor(wage_data$married, labels = c(\"Single\", \"Married\"))\n\n# Now binary_vars are factors with clear labels\nbinary_vars <- c(\"south\", \"female\", \"unionmember\", \"married\")\n\n# Plot\nfor (var in binary_vars){\n  print(\n    ggplot(data = wage_data, aes_string(x = var, fill = \"wage_level\")) +\n      geom_bar(position = \"dodge\", alpha = 0.7) +\n      labs(title = paste(\"Histogramme de la variable\", var, \"en fonction du niveau de salaire\"),\n           x = var, y = \"Fréquence\") +\n      scale_fill_manual(values = c(\"blue\", \"red\"), \n                        labels = c(\"Salaire < Moyenne\", \"Salaire ≥ Moyenne\")) +\n      theme_minimal()\n  )\n}\ncategorial_vars <- c(\"ethnicity\", \"sector\",\"occupation\")\nwage_data[categorial_vars] <- lapply(wage_data[categorial_vars], function(x) as.factor(as.character(x)))\n\nfor (var in categorial_vars){\n    print(ggplot(data = wage_data, aes_string(x = var, fill = \"wage_level\" )) +\n      geom_bar( position = \"identity\", alpha = 0.7) +\n      labs(title = paste0(\"Histogramme de la variable \", var , \" en fonction du salaire moyen\"),\n           x = var, y = \"Fréquence\") +\n      scale_fill_manual(values = c(\"blue\", \"red\")) +  # Couleurs des labels\n      theme_minimal())\n}",
      "block_group": "3c1d804a23904e90a7e8a92784c9dee5",
      "execution_count": 170,
      "outputs": [],
      "outputs_reference": null,
      "content_dependencies": null
    },
    {
      "cell_type": "markdown",
      "metadata": {
        "deepnote_app_block_order": 24,
        "deepnote_app_block_visible": true,
        "deepnote_app_block_group_id": null,
        "cell_id": "9c7a32252c52462d9fc76b4541a0c55f",
        "deepnote_cell_type": "markdown"
      },
      "source": "# Variable Education",
      "block_group": "4e17fc5fe61a4add961717b0303a8260"
    },
    {
      "cell_type": "markdown",
      "metadata": {
        "deepnote_img_src": "image-20250330-163929.png",
        "deepnote_app_block_order": 25,
        "deepnote_app_block_visible": true,
        "deepnote_app_block_group_id": null,
        "cell_id": "0586001a47334f3aa8d3dd8c7f267b1b",
        "deepnote_cell_type": "image"
      },
      "source": "<img src=\"image-20250330-163929.png\" width=\"\" align=\"\" />",
      "block_group": "fd5ea1a01df74ccd8ec166d3b0114ff4"
    },
    {
      "cell_type": "markdown",
      "metadata": {
        "deepnote_app_block_order": 26,
        "deepnote_app_block_visible": true,
        "deepnote_app_block_group_id": null,
        "cell_id": "4d344219d4f347c1bab076c71e22acdb",
        "deepnote_cell_type": "markdown"
      },
      "source": "## Vraisemblance",
      "block_group": "c7897a8e8ac04f8b81affea3ee188a6c"
    },
    {
      "cell_type": "markdown",
      "metadata": {
        "deepnote_app_block_order": 27,
        "deepnote_app_block_visible": true,
        "deepnote_app_block_group_id": null,
        "cell_id": "baf542fc674f4dbe98b4f358a5c3368a",
        "deepnote_cell_type": "markdown"
      },
      "source": "Choix de la vraisemblance :\n\nÉtant donné la concentration des données à une valeur spécifique, nous avons choisi une distribution de Poisson pour modéliser le nombre d'années d'études. \n\n$X_{i,s} | \\beta_{education,s} \\sim \\mathcal{Poisson}(\\beta_{education,s} )$ et $s \\in \\{l,h\\}$",
      "block_group": "fa9d78ce2b60489a8c540ae3c9ad34a5"
    },
    {
      "cell_type": "markdown",
      "metadata": {
        "deepnote_app_block_order": 28,
        "deepnote_app_block_visible": true,
        "deepnote_app_block_group_id": null,
        "cell_id": "a8c6aa47642548e0af0b5221457ecc05",
        "deepnote_cell_type": "markdown"
      },
      "source": "## Prior\n\nL'histogramme montre une distribution avec un pic très prononcé à 12 années d'études, indiquant que la plupart des individus ont ce niveau d'éducation.\nIl y a quelques valeurs dispersées autour de ce pic, mais la majorité des données est concentrée à 12 ans.\n\n\n$\\beta_{education,s } \\sim \\mathcal{Gamma}(\\alpha, \\beta)$ avec $s \\in \\{l,h\\}$\n\nOn souhaite que $E(\\beta_{education,l}) = 12$ et $V(\\beta_{education,l}) = 20$\n\nOn souhaite que $E(\\beta_{education,h}) = 12$ et $V(\\beta_{education,h}) = 20$\n\nPour la loi gamma $E(\\beta) = \\frac{\\alpha}{\\beta}$ et $V(\\beta) = \\frac{\\alpha}{\\beta^2}$\n\ndonc $\\beta_{education,s} \\sim \\mathcal{Gamma}(7.2, 0.6)$",
      "block_group": "e84adc05f7e54261b2341f9e69b3f07c"
    },
    {
      "cell_type": "markdown",
      "metadata": {
        "deepnote_app_block_order": 31,
        "deepnote_app_block_visible": true,
        "deepnote_app_block_group_id": null,
        "cell_id": "cc1549a0ad62423ab94890f2d3024d58",
        "deepnote_cell_type": "markdown"
      },
      "source": "## Implementation en JAGS",
      "block_group": "a40397dd5be34125b0f0cb5131ace0a7"
    },
    {
      "cell_type": "code",
      "metadata": {
        "source_hash": "52abc5b4",
        "is_code_hidden": false,
        "execution_start": 1743364823142,
        "execution_millis": 629,
        "execution_context_id": "b3f17c08-8bd4-4ad6-95c3-0d3455773ef6",
        "deepnote_app_block_order": 32,
        "deepnote_app_block_visible": true,
        "deepnote_app_block_group_id": null,
        "deepnote_app_is_code_hidden": true,
        "deepnote_app_is_output_hidden": false,
        "cell_id": "69bc216c549846cca8014f2d6896c147",
        "deepnote_cell_type": "code"
      },
      "source": "model_string_education <- \"\nmodel {\n\n  # Priors\n  beta_education_l~ dgamma(7.2, 0.6)\n  beta_education_h ~ dgamma(7.2, 0.6)\n  \n  \n  for (i in 1:n1) {\n    y1_education[i] ~ dpois(beta_education_l)\n  }\n  \n  for (i in 1:n2) {\n    y2_education[i] ~ dpois(beta_education_h)\n  }\n}\n\"\neducation_l <- wage_data$education[wage_data$wage_level == 0]\neducation_h <- wage_data$education[wage_data$wage_level == 1]\n\n# Définition des données\ny1_education <- education_l\ny2_education <- education_h\ndata_list <- list(y1 = y1_education, y2 = y2_education, n1 = length(y1_education), n2 = length(y2_education))\n\n# Compiling and producing posterior samples from the model.\njags_samples_education <- run.jags(model = model_string_education, data = data_list, monitor = c(\"beta_education_l\", \"beta_education_h\"), n.chains = 3, adapt = 1000, burnin = 1000, thin = 1)\n\n# Plotting and summarizing the posterior distribution\njags_samples_education\nplot_credible_intervals(jags_samples_education)",
      "block_group": "35f23539978f4dbeaf5b186344fa4195",
      "execution_count": 185,
      "outputs": [],
      "outputs_reference": null,
      "content_dependencies": null
    },
    {
      "cell_type": "code",
      "metadata": {
        "source_hash": "4ce774a3",
        "execution_start": 1743363750893,
        "execution_millis": 60,
        "execution_context_id": "b3f17c08-8bd4-4ad6-95c3-0d3455773ef6",
        "deepnote_app_block_order": 14,
        "deepnote_app_block_visible": true,
        "deepnote_app_block_group_id": null,
        "deepnote_app_is_code_hidden": true,
        "deepnote_app_is_output_hidden": false,
        "cell_id": "5c3e9c2ad83946389201adebbd835096",
        "deepnote_cell_type": "code"
      },
      "source": "analyze_mcmc_difference <- function(jags_samples, param1, param2) {\n\n    # Conversion des échantillons en data frame\n  s <- as.data.frame(jags_samples$mcmc %>% lapply(as_tibble) %>% bind_rows())\n  \n  # Calcul de la différence\n  diff_samples <- s[[param1]] - s[[param2]]\n  \n  # Calcul de la probabilité\n  prob <- mean(diff_samples < 0)\n  \n  # Graphique\n  hist(diff_samples, \n       main = paste(\"Différence entre\", param1, \"et\", param2),\n       xlab = paste(param1, \"-\", param2),\n       col = \"skyblue\",\n       border = \"white\",\n       breaks = 30)\n  \n  # Légende\n  legend(\"topright\", \n         legend = paste0(\"mean(\", param1, \" < \", param2, \") = \", round(prob, 3)),\n         bty = \"n\")\n  \n  # Retour simple\n  return(prob)\n}\n\nanalyze_mcmc_difference(jags_samples_education, \"beta_education_l\", \"beta_education_h\")",
      "block_group": "c05b531d804d4278ab954e7096821916",
      "execution_count": 181,
      "outputs": [],
      "outputs_reference": null,
      "content_dependencies": null
    },
    {
      "cell_type": "markdown",
      "metadata": {
        "deepnote_app_block_order": 16,
        "deepnote_app_block_visible": true,
        "deepnote_app_block_group_id": null,
        "cell_id": "4e79fcd53c2c4b31801c277da2f8b972",
        "deepnote_cell_type": "markdown"
      },
      "source": "$ \\beta_{education,l} $  : L'effet de l'éducation pour les personnes dont le salaire est inférieur à la moyenne.\n\n$ \\beta_{education,h} $  : L'effet de l'éducation pour les personnes dont le salaire est supérieur à la moyenne.\n\nmean($ \\beta_{education,l} - \\beta_{education,h} < 0$) = 1 : Cela signifie que,l'effet de l'éducation sur la probabilité de se retrouver dans le groupe lower (salaire inférieur à la moyenne) est plus faible que l'effet de l'éducation sur la probabilité de se retrouver dans le groupe higher (salaire supérieur à la moyenne).",
      "block_group": "bb737f6e44c94f81bba7366da454a2d1"
    },
    {
      "cell_type": "markdown",
      "metadata": {
        "deepnote_app_block_order": 34,
        "deepnote_app_block_visible": true,
        "deepnote_app_block_group_id": null,
        "cell_id": "475e3cc6c547441987efc3ff1b8e6ec0",
        "deepnote_cell_type": "markdown"
      },
      "source": "## MCMC",
      "block_group": "f0cff02228d948448897f0c485c603e0"
    },
    {
      "cell_type": "code",
      "metadata": {
        "source_hash": "ed42b042",
        "is_code_hidden": false,
        "execution_start": 1743363763715,
        "execution_millis": 5847,
        "execution_context_id": "b3f17c08-8bd4-4ad6-95c3-0d3455773ef6",
        "deepnote_app_block_order": 36,
        "deepnote_app_block_visible": true,
        "deepnote_app_block_group_id": null,
        "deepnote_app_is_code_hidden": true,
        "deepnote_app_is_output_hidden": false,
        "cell_id": "a2042df85b404bdd996dc953b5135335",
        "deepnote_cell_type": "code"
      },
      "source": "# Fonction pour tracer traceplots et autocorrélogrammes\nplot_mcmc <- function(jags_samples) {\n  \n  # Convertir en objet mcmc\n  mcmc_samples <- as.mcmc.list(jags_samples)\n\n   # Traceplots (convergence)\n  plot(mcmc_samples, trace = TRUE, density = FALSE)\n  \n  # Tracer l'autocorrélation pour chaque chaîne\n  autocorr.plot(jags_samples)\n}\n\n# Utilisation de la fonction\nplot_mcmc(jags_samples_education)",
      "block_group": "96287c4a4aeb4ae8b17b730c77ab2adb",
      "execution_count": 182,
      "outputs": [],
      "outputs_reference": null,
      "content_dependencies": null
    },
    {
      "cell_type": "markdown",
      "metadata": {
        "deepnote_app_block_order": 37,
        "deepnote_app_block_visible": true,
        "deepnote_app_block_group_id": null,
        "cell_id": "81e9b8a4976d4b5da2f9d7f92e881990",
        "deepnote_cell_type": "markdown"
      },
      "source": "## Fake data check",
      "block_group": "440e81c10ccc4c7f98fa7f773476faa5"
    },
    {
      "cell_type": "code",
      "metadata": {
        "source_hash": "13809963",
        "execution_start": 1743363808033,
        "execution_millis": 603,
        "execution_context_id": "b3f17c08-8bd4-4ad6-95c3-0d3455773ef6",
        "deepnote_app_block_order": 39,
        "deepnote_app_block_visible": true,
        "deepnote_app_block_group_id": null,
        "deepnote_app_is_code_hidden": true,
        "deepnote_app_is_output_hidden": false,
        "cell_id": "6f78d0e8af22482891e6bfad825974a2",
        "deepnote_cell_type": "code"
      },
      "source": "generate_fake_data <- function(n1, n2) {\n  beta_education_l_fake <- 12  \n  beta_education_h_fake <- 14\n  \n  # Générer des données factices à partir de la distribution de Poisson\n  y1_fake <- rpois(n1, beta_education_l_fake)\n  y2_fake <- rpois(n2, beta_education_h_fake)\n  \n  return(list(y1_fake = y1_fake, y2_fake = y2_fake))\n}\n\n# Générer des données factices à partir des échantillons postérieurs\nfake_data <- generate_fake_data(length(education_l), length(education_h))\n\n\ndata_list <- list(y1 = fake_data$y1_fake, y2 = fake_data$y2_fake, n1 = length(fake_data$y1_fake), n2 = length(fake_data$y2_fake))\n\nsummary(fake_data$y1_fake)\nsummary(fake_data$y2_fake)\nsummary(y1_education)\nsummary(y2_education)\n\n\n# Compiling and producing posterior samples from the model.\njags_samples_education2 <- run.jags(model = model_string_education, data = data_list, monitor = c(\"beta_education_l\", \"beta_education_h\"))\n\n# Plotting and summarizing the posterior distribution\njags_samples_education2\nplot_credible_intervals(jags_samples_education2)",
      "block_group": "11628187da844c15acbfbc13e58e8cda",
      "execution_count": 183,
      "outputs": [],
      "outputs_reference": null,
      "content_dependencies": null
    },
    {
      "cell_type": "markdown",
      "metadata": {
        "deepnote_app_block_order": 42,
        "deepnote_app_block_visible": true,
        "deepnote_app_block_group_id": null,
        "cell_id": "efa8ce1275364ec1816e58cb378832a2",
        "deepnote_cell_type": "markdown"
      },
      "source": "## Conclusion",
      "block_group": "43358203f5dd41789fff4fc1aedb8fb5"
    },
    {
      "cell_type": "markdown",
      "metadata": {
        "deepnote_app_block_order": 22,
        "deepnote_app_block_visible": true,
        "deepnote_app_block_group_id": null,
        "cell_id": "911b2f5dcc1c478b8f23f1417d6452c6",
        "deepnote_cell_type": "markdown"
      },
      "source": "Les résultats montrent une bonne convergence et une estimation précise des paramètres.\n\nLes intervalles de crédibilité à 95% pour beta_education_l et beta_education_h sont bien définis, sans chevauchement avec zéro, ce qui suggère que les deux paramètres sont significatifs.\n\nLes valeurs de psrf proches de 1 et les petites erreurs MCMC indiquent que les chaînes MCMC ont bien convergé.\n\nL'écart-type est faible, ce qui montre que les estimations des paramètres sont relativement précises.",
      "block_group": "73d3ef1ef6ea4fa2a80e7222ad3c9d4b"
    },
    {
      "cell_type": "markdown",
      "metadata": {
        "deepnote_app_block_order": 9,
        "deepnote_app_block_visible": true,
        "deepnote_app_block_group_id": null,
        "cell_id": "1602f7ce1e2648a7985a3caf4b78136a",
        "deepnote_cell_type": "markdown"
      },
      "source": "# Variable South",
      "block_group": "d2b12815126a407cafb2d6635e8ffed6"
    },
    {
      "cell_type": "markdown",
      "metadata": {
        "deepnote_img_src": "image-20250330-164413.png",
        "deepnote_app_block_order": 10,
        "deepnote_app_block_visible": true,
        "deepnote_app_block_group_id": null,
        "cell_id": "058c3f08a40f4d7c859f2f4638f70eff",
        "deepnote_cell_type": "image"
      },
      "source": "<img src=\"image-20250330-164413.png\" width=\"\" align=\"\" />",
      "block_group": "39105e2b09824b09a0dd1d0f3cc72819"
    },
    {
      "cell_type": "markdown",
      "metadata": {
        "deepnote_app_block_order": 11,
        "deepnote_app_block_visible": true,
        "deepnote_app_block_group_id": null,
        "cell_id": "bdae9535b6cb4cf68c663fe03db24285",
        "deepnote_cell_type": "markdown"
      },
      "source": "## Vraisemblance",
      "block_group": "64c739e45228425cb19b43cb9f767bf3"
    },
    {
      "cell_type": "markdown",
      "metadata": {
        "deepnote_app_block_order": 12,
        "deepnote_app_block_visible": true,
        "deepnote_app_block_group_id": null,
        "cell_id": "545b2d7b9d794eb1a6465f6f8639a10a",
        "deepnote_cell_type": "markdown"
      },
      "source": "Étant donné que \"south\" est une variable binaire (Non-South, South), une distribution de Bernoulli est appropriée pour modéliser cette variable. La fonction de vraisemblance pour une variable de Bernoulli est donnée par : \n\n$X_{i,s} \\sim \\text{Bernoulli}(\\beta_{south,s})$ avec $s \\in \\{l,h\\}$",
      "block_group": "a1219de489334275b56a10ae8691d440"
    },
    {
      "cell_type": "markdown",
      "metadata": {
        "deepnote_app_block_order": 13,
        "deepnote_app_block_visible": true,
        "deepnote_app_block_group_id": null,
        "cell_id": "f3bd309584ed4a838dd1b1d94bc2e566",
        "deepnote_cell_type": "markdown"
      },
      "source": "## Choix du Prior",
      "block_group": "19e1dcf1915147c0a3cff1225751d6f3"
    },
    {
      "cell_type": "markdown",
      "metadata": {
        "deepnote_app_block_order": 15,
        "deepnote_app_block_visible": true,
        "deepnote_app_block_group_id": null,
        "cell_id": "f30b2bb530cc4e69805bb0867b4e8c25",
        "deepnote_cell_type": "markdown"
      },
      "source": "Pour le prior, une distribution Beta est souvent utilisée comme conjugate prior pour une distribution de Bernoulli. La distribution Beta est définie par :\n\n$\\beta_{south,s} \\sim \\mathcal{Beta}(1, 1)$ avec $s \\in \\{l,h\\}$\n\n",
      "block_group": "bfc0eba852db491fb58cfbcb042b4dda"
    },
    {
      "cell_type": "markdown",
      "metadata": {
        "deepnote_app_block_order": 17,
        "deepnote_app_block_visible": true,
        "deepnote_app_block_group_id": null,
        "cell_id": "99b03dc657d44fe2ab0accf63df2b8b0",
        "deepnote_cell_type": "markdown"
      },
      "source": "## Implémentation en Jags",
      "block_group": "581961c4cb7741afa1c7b1abe2e81859"
    },
    {
      "cell_type": "code",
      "metadata": {
        "source_hash": "89d391b7",
        "execution_start": 1743362991882,
        "execution_millis": 562,
        "execution_context_id": "b3f17c08-8bd4-4ad6-95c3-0d3455773ef6",
        "deepnote_app_block_order": 18,
        "deepnote_app_block_visible": true,
        "deepnote_app_block_group_id": null,
        "deepnote_app_is_code_hidden": true,
        "deepnote_app_is_output_hidden": false,
        "cell_id": "01e25038e620487a8188c55a910b72a3",
        "deepnote_cell_type": "code"
      },
      "source": "# Get data for each wage level \nsouth_l <- wage_data$south[wage_data$wage_level == 0]\nsouth_h <- wage_data$south[wage_data$wage_level == 1]\n\n# Convert to numeric vectors\ny1_south <- as.numeric(south_l)\ny2_south <- as.numeric(south_h)\n\n# Set up data list\ndata_list <- list(y1 = y1_south, y2 = y2_south, n1 = length(y1_south), n2 = length(y2_south))\n\n# Define model\nmodel_string_south <- \"\nmodel {\n  # Priors\n  beta_south_l ~ dbeta(1, 1)\n  beta_south_h ~ dbeta(1, 1)\n  \n  # Likelihood\n  for (i in 1:n1) {\n    y1_south[i] ~ dbern(beta_south_l)\n  }\n  \n  for (i in 1:n2) {\n    y2_south[i] ~ dbern(beta_south_h)\n  }\n}\n\"\n\n# Run JAGS model with more iterations and samples\njags_samples_south <- run.jags(\n  model = model_string_south,\n  data = data_list,\n  monitor = c(\"beta_south_l\", \"beta_south_h\"),\n  n.chains = 3,\n  adapt = 5000,\n  burnin = 5000,\n  sample = 10000,\n  thin = 10\n)\n\n# Print summary\nprint(jags_samples_south)\n# Plot credible intervals\nplot_credible_intervals(jags_samples_south)",
      "block_group": "941b0d356a8946c29000539ff1991645",
      "execution_count": 171,
      "outputs": [],
      "outputs_reference": null,
      "content_dependencies": null
    },
    {
      "cell_type": "code",
      "metadata": {
        "source_hash": "e861c74a",
        "execution_start": 1743363010553,
        "execution_millis": 39,
        "execution_context_id": "b3f17c08-8bd4-4ad6-95c3-0d3455773ef6",
        "deepnote_app_block_order": 29,
        "deepnote_app_block_visible": true,
        "deepnote_app_block_group_id": null,
        "deepnote_app_is_code_hidden": true,
        "deepnote_app_is_output_hidden": false,
        "cell_id": "ecfef5a688114d8b9a55669c84eba8cd",
        "deepnote_cell_type": "code"
      },
      "source": "analyze_mcmc_difference(jags_samples_south, \"beta_south_l\", \"beta_south_h\")",
      "block_group": "b2f9ffbef8de4f96b753b6b99a216fb2",
      "execution_count": 172,
      "outputs": [],
      "outputs_reference": null,
      "content_dependencies": null
    },
    {
      "cell_type": "markdown",
      "metadata": {
        "deepnote_app_block_order": 30,
        "deepnote_app_block_visible": true,
        "deepnote_app_block_group_id": null,
        "cell_id": "a84ac99015684af587823dec3131010e",
        "deepnote_cell_type": "markdown"
      },
      "source": "Il est difficile de démontrer que la localisation géographique dans le sud a un impact distinct et fort sur les salaires bas ou élevés, car les valeurs des betas sont proches de zéro, ce qui suggère une faible relation. Les intervalles de crédibilité incluant 0 confirment que l'effet de la région Sud sur le salaire n'est pas statistiquement significatif.",
      "block_group": "8e17014bd91b46f481aaf2c6a0a5c085"
    },
    {
      "cell_type": "markdown",
      "metadata": {
        "deepnote_app_block_order": 19,
        "deepnote_app_block_visible": true,
        "deepnote_app_block_group_id": null,
        "cell_id": "b97fac94fdbc40fe9b49eaeb4d88f0f4",
        "deepnote_cell_type": "markdown"
      },
      "source": "## MCMC ",
      "block_group": "07d11ba5c5634dee8e166155e2f53391"
    },
    {
      "cell_type": "code",
      "metadata": {
        "source_hash": "4218db3c",
        "execution_start": 1743363017363,
        "execution_millis": 14480,
        "execution_context_id": "b3f17c08-8bd4-4ad6-95c3-0d3455773ef6",
        "deepnote_app_block_order": 33,
        "deepnote_app_block_visible": true,
        "deepnote_app_block_group_id": null,
        "deepnote_app_is_code_hidden": true,
        "deepnote_app_is_output_hidden": false,
        "cell_id": "4bbce17d6ad34968a176b9aae28d1021",
        "deepnote_cell_type": "code"
      },
      "source": "plot_mcmc(jags_samples_south)",
      "block_group": "3be3c38c92a94592987b01a8a91fff22",
      "execution_count": 173,
      "outputs": [],
      "outputs_reference": null,
      "content_dependencies": null
    },
    {
      "cell_type": "markdown",
      "metadata": {
        "deepnote_app_block_order": 35,
        "deepnote_app_block_visible": true,
        "deepnote_app_block_group_id": null,
        "cell_id": "990b9352a5564711af76541935fc1443",
        "deepnote_cell_type": "markdown"
      },
      "source": "Les résultats des modèles sur les données réelles et les données fictives sont similaires. Les deux ensembles montrent une bonne convergence (avec des valeurs PSRF proches de 1)",
      "block_group": "63a6da32dfb84442bef9371e537942b0"
    },
    {
      "cell_type": "markdown",
      "metadata": {
        "deepnote_app_block_order": 20,
        "deepnote_app_block_visible": true,
        "deepnote_app_block_group_id": null,
        "cell_id": "8076222a787049349567a66a09c972dc",
        "deepnote_cell_type": "markdown"
      },
      "source": "## Fake data check",
      "block_group": "5996e5224f9e4e88b334a4897413a40f"
    },
    {
      "cell_type": "code",
      "metadata": {
        "source_hash": "19bd1f0b",
        "execution_start": 1743363049879,
        "execution_millis": 602,
        "execution_context_id": "b3f17c08-8bd4-4ad6-95c3-0d3455773ef6",
        "deepnote_app_block_order": 21,
        "deepnote_app_block_visible": true,
        "deepnote_app_block_group_id": null,
        "deepnote_app_is_code_hidden": true,
        "deepnote_app_is_output_hidden": false,
        "cell_id": "444867b1750d4dac81e5fc216c7ee576",
        "deepnote_cell_type": "code"
      },
      "source": "generate_fake_data <- function(n1, n2) {\n  beta_south_l_fake <- 0.5\n  beta_south_h_fake <- 0.5\n  \n  # Générer des données factices à partir de la distribution de bernouilli\n  # Convert logical to numeric (0/1) values\n  y1_fake <- as.numeric(rbernoulli(n1, beta_south_l_fake))\n  y2_fake <- as.numeric(rbernoulli(n2, beta_south_h_fake))\n  \n  return(list(y1_fake = y1_fake, y2_fake = y2_fake))\n}\n\n# Générer des données factices à partir des échantillons postérieurs\nfake_data <- generate_fake_data(length(south_l), length(south_h))\n\n# Comparer les données factices avec les données réelles\nsummary(fake_data$y1_fake)\nsummary(fake_data$y2_fake)\nsummary(y1_south)\nsummary(y2_south)\n\ndata_list <- list(y1 = fake_data$y1_fake, \n                 y2 = fake_data$y2_fake, \n                 n1 = length(fake_data$y1_fake), \n                 n2 = length(fake_data$y2_fake))\n\n# Compiling and producing posterior samples from the model.\njags_samples_south2 <- run.jags(model = model_string_south,  # Fixed model string name\n                              data = data_list, \n                              monitor = c(\"beta_south_l\", \"beta_south_h\"),\n                              n.chains = 3,\n                              adapt = 5000,\n                              burnin = 5000,\n                              sample = 10000,\n                              thin = 10)\n\n# Plotting and summarizing the posterior distribution\nprint(jags_samples_south2)\nplot_credible_intervals(jags_samples_south2)",
      "block_group": "f64bf4e547f14d22bd577689dbd17483",
      "execution_count": 174,
      "outputs": [],
      "outputs_reference": null,
      "content_dependencies": null
    },
    {
      "cell_type": "markdown",
      "metadata": {
        "deepnote_app_block_order": 23,
        "deepnote_app_block_visible": true,
        "deepnote_app_block_group_id": null,
        "cell_id": "3e455704ea544ad9a47da183161ac64a",
        "deepnote_cell_type": "markdown"
      },
      "source": "## Conclusion",
      "block_group": "7a0a115156114673be6b42e8a1f9fdaa"
    },
    {
      "cell_type": "markdown",
      "metadata": {
        "deepnote_app_block_order": 38,
        "deepnote_app_block_visible": true,
        "deepnote_app_block_group_id": null,
        "cell_id": "55647e48083340f8a7bc7c8fcbcdc2ad",
        "deepnote_cell_type": "markdown"
      },
      "source": "* Convergence MCMC : les chaînes semblent osciller autour d'une valeur centrale, ce qui est un bon signe de convergence. elles sont bien mélangées et ne montrent pas de tendance systématique, ce qui est un autre indcateur positif de convergence.\nCela suggère que les résultats du modèle peuvent être considérés comme fiables (les distributions postérieurs des coefficients beta_south_l et beta_south_h sont fiables)\n* Fake Data Check : Les médianes et moyennes des paramètres beta_south_1 et beta_south_h sont très proches entre les données réelles et fictives, autour de 0.5.Cela suggère que le modèle se comporte de manière similaire dans les deux cas. Les intervalles crédibles à 95% sont larges et se chevauchent largement, ce qui indique une incertitude importante dans l'estimation des paramètres.",
      "block_group": "a6e16c6c1b814d72a13e810d5d5f6b4c"
    },
    {
      "cell_type": "markdown",
      "metadata": {
        "formattedRanges": [],
        "deepnote_app_block_order": 40,
        "deepnote_app_block_visible": true,
        "deepnote_app_block_group_id": null,
        "cell_id": "a7ffe0bdbe5f4ce3b8ee5afc20bab0ef",
        "deepnote_cell_type": "text-cell-h1"
      },
      "source": "# Variable unionmember",
      "block_group": "41c899460df1480d832d133b9f5b40af"
    },
    {
      "cell_type": "markdown",
      "metadata": {
        "deepnote_img_src": "image-20250330-174853.png",
        "deepnote_app_block_order": 41,
        "deepnote_app_block_visible": true,
        "deepnote_app_block_group_id": null,
        "cell_id": "13c3d769a727468fa2e2cd6d546e96f2",
        "deepnote_cell_type": "image"
      },
      "source": "<img src=\"image-20250330-174853.png\" width=\"\" align=\"\" />",
      "block_group": "8a5592c234f446fe8d52cb392d4be680"
    },
    {
      "cell_type": "markdown",
      "metadata": {
        "formattedRanges": [],
        "deepnote_app_block_order": 43,
        "deepnote_app_block_visible": true,
        "deepnote_app_block_group_id": null,
        "cell_id": "59af414765764169bd2865b442e01472",
        "deepnote_cell_type": "text-cell-h2"
      },
      "source": "## Vraisemblance",
      "block_group": "2d6774eeb7a3414e884cecd63d487f81"
    },
    {
      "cell_type": "markdown",
      "metadata": {
        "deepnote_app_block_order": 44,
        "deepnote_app_block_visible": true,
        "deepnote_app_block_group_id": null,
        "cell_id": "9c7eb215f7b14e0da3c0cb32d197a83d",
        "deepnote_cell_type": "markdown"
      },
      "source": "Etant donné que \"unionmember\" est une variable binaire (Non-Member, Member), une distribution de Bernoulli est appropriée pour modéliser cette variable avec des priors de loi beta (1,1). \n$$\nX_{i,s} \\mid \\beta_{union,s}\\sim B(\\beta_{union,s}) \\\\ \n$$\navec $s \\in \\{l,h\\}$",
      "block_group": "f315b5cebef74517bfdb028c98250f11"
    },
    {
      "cell_type": "markdown",
      "metadata": {
        "deepnote_app_block_order": 46,
        "deepnote_app_block_visible": true,
        "deepnote_app_block_group_id": null,
        "cell_id": "2e8f95506fe64f9eb6b8694c018d4fea",
        "deepnote_cell_type": "markdown"
      },
      "source": "## Choix du prior",
      "block_group": "9101b1fd897b43e1b6e31721636b1ec9"
    },
    {
      "cell_type": "markdown",
      "metadata": {
        "deepnote_app_block_order": 47,
        "deepnote_app_block_visible": true,
        "deepnote_app_block_group_id": null,
        "cell_id": "781fbb2f49df41f9a7743f77261567a7",
        "deepnote_cell_type": "markdown"
      },
      "source": "priors :\n$$ \n\\beta_{union,s} ∼ Beta(1,1)\n$$\n\navec $s \\in \\{l,h\\}$",
      "block_group": "a2c32720f6ec436e8b281024adcc4547"
    },
    {
      "cell_type": "markdown",
      "metadata": {
        "formattedRanges": [],
        "deepnote_app_block_order": 49,
        "deepnote_app_block_visible": true,
        "deepnote_app_block_group_id": null,
        "cell_id": "47b7082f7b554992a0ee087e3c5321f0",
        "deepnote_cell_type": "text-cell-h2"
      },
      "source": "## Implémentation en Jags",
      "block_group": "dead7fce01244cf780aa0c232cd349e4"
    },
    {
      "cell_type": "code",
      "metadata": {
        "source_hash": "69f218c8",
        "execution_start": 1743363076353,
        "execution_millis": 635,
        "execution_context_id": "b3f17c08-8bd4-4ad6-95c3-0d3455773ef6",
        "deepnote_app_block_order": 50,
        "deepnote_app_block_visible": true,
        "deepnote_app_block_group_id": null,
        "deepnote_app_is_code_hidden": true,
        "deepnote_app_is_output_hidden": false,
        "cell_id": "83419e2a379b4135b9c87145515c659e",
        "deepnote_cell_type": "code"
      },
      "source": "# Get data for each wage level \nunion_l <- wage_data$unionmember[wage_data$wage_level == 0]\nunion_h <- wage_data$unionmember[wage_data$wage_level == 1]\n\n# Convert to numeric vectors\ny1_union <- as.numeric(union_l)\ny2_union <- as.numeric(union_h)\n\n# Set up data list\ndata_list <- list(y1 = y1_union, y2 = y2_union, n1 = length(y1_union), n2 = length(y2_union))\n\n# Define model\nmodel_string_union <- \"\nmodel {\n  # Priors\n  beta_union_l ~ dbeta(1, 1)\n  beta_union_h ~ dbeta(1, 1)\n  \n  # Likelihood\n  for (i in 1:n1) {\n    y1_union[i] ~ dbern(beta_union_l)\n  }\n  \n  for (i in 1:n2) {\n    y2_union[i] ~ dbern(beta_union_h)\n  }\n}\n\"\n\n# Run JAGS model with more iterations and samples\njags_samples_union <- run.jags(\n  model = model_string_union,\n  data = data_list,\n  monitor = c(\"beta_union_l\", \"beta_union_h\"),\n  n.chains = 3,\n  adapt = 5000,\n  burnin = 5000,\n  sample = 10000,\n  thin = 10\n)\n\n# Print summary\nprint(jags_samples_union)\n# Plot credible intervals\nplot_credible_intervals(jags_samples_union)\n",
      "block_group": "7a8ad515e7b444a28ee8999fdcc065ce",
      "execution_count": 175,
      "outputs": [],
      "outputs_reference": null,
      "content_dependencies": null
    },
    {
      "cell_type": "code",
      "metadata": {
        "source_hash": "566757f",
        "execution_start": 1743363129302,
        "execution_millis": 106,
        "execution_context_id": "b3f17c08-8bd4-4ad6-95c3-0d3455773ef6",
        "deepnote_app_block_order": 52,
        "deepnote_app_block_visible": true,
        "deepnote_app_block_group_id": null,
        "deepnote_app_is_code_hidden": true,
        "deepnote_app_is_output_hidden": false,
        "cell_id": "e4e63da23e9240d69d21831b708f1698",
        "deepnote_cell_type": "code"
      },
      "source": "analyze_mcmc_difference(jags_samples_union, \"beta_union_l\", \"beta_union_h\")",
      "block_group": "36a3f62939c7408f937e033f706c3d0f",
      "execution_count": 176,
      "outputs": [],
      "outputs_reference": null,
      "content_dependencies": null
    },
    {
      "cell_type": "markdown",
      "metadata": {
        "deepnote_app_block_order": 53,
        "deepnote_app_block_visible": true,
        "deepnote_app_block_group_id": null,
        "cell_id": "6448df721cc24802a8b12eaf13993762",
        "deepnote_cell_type": "markdown"
      },
      "source": "De même que pour la variable south, il est difficile de démontrer que l'appartenance à un syndicat a un impact distinct et fort sur les salaires bas ou élevés, car les valeurs des betas sont proches de zéro, ce qui suggère une faible relation. Les intervalles de crédibilité incluant 0 renforcent cette conclusion",
      "block_group": "537ef3ca5796482e863d98e6d7e089e9"
    },
    {
      "cell_type": "markdown",
      "metadata": {
        "formattedRanges": [],
        "deepnote_app_block_order": 55,
        "deepnote_app_block_visible": true,
        "deepnote_app_block_group_id": null,
        "cell_id": "ab8033282ac042d79be1b937c585b827",
        "deepnote_cell_type": "text-cell-h2"
      },
      "source": "## MCMC",
      "block_group": "b6fd32cf069f45679b2ed5a5d5ae9b48"
    },
    {
      "cell_type": "code",
      "metadata": {
        "source_hash": "a3ad4906",
        "execution_start": 1743364668133,
        "execution_millis": 14050,
        "execution_context_id": "b3f17c08-8bd4-4ad6-95c3-0d3455773ef6",
        "deepnote_app_block_order": 56,
        "deepnote_app_block_visible": true,
        "deepnote_app_block_group_id": null,
        "deepnote_app_is_code_hidden": true,
        "deepnote_app_is_output_hidden": false,
        "cell_id": "b1f141bbc39742b3b69378048aa8d79e",
        "deepnote_cell_type": "code"
      },
      "source": "plot_mcmc(jags_samples_union) ",
      "block_group": "533016b205c04604a5bfec71c2461e35",
      "execution_count": 184,
      "outputs": [],
      "outputs_reference": null,
      "content_dependencies": null
    },
    {
      "cell_type": "markdown",
      "metadata": {
        "formattedRanges": [],
        "cell_id": "7332b3c711974a9780b7dfe12a812a4d",
        "deepnote_cell_type": "text-cell-h2"
      },
      "source": "## Fake Check Data",
      "block_group": "d5a7bae9dca2407f98e44f8b051d3036"
    },
    {
      "cell_type": "code",
      "metadata": {
        "source_hash": "a9fd1757",
        "execution_start": 1743363346363,
        "execution_millis": 527,
        "execution_context_id": "b3f17c08-8bd4-4ad6-95c3-0d3455773ef6",
        "deepnote_app_block_order": 58,
        "deepnote_app_block_visible": true,
        "deepnote_app_block_group_id": null,
        "deepnote_app_is_code_hidden": true,
        "deepnote_app_is_output_hidden": false,
        "cell_id": "284a57954b4f4310bf50c63f52e493ba",
        "deepnote_cell_type": "code"
      },
      "source": "generate_fake_data <- function(n1, n2) {\n  beta_union_l_fake <- 0.5\n  beta_union_h_fake <- 0.5\n  \n  # Générer des données factices à partir de la distribution de bernouilli\n  # Convert logical to numeric (0/1) values\n  y1_fake <- as.numeric(rbernoulli(n1, beta_union_l_fake))\n  y2_fake <- as.numeric(rbernoulli(n2, beta_union_h_fake))\n  \n  return(list(y1_fake = y1_fake, y2_fake = y2_fake))\n}\n\n# Générer des données factices à partir des échantillons postérieurs\nfake_data <- generate_fake_data(length(union_l), length(union_h))\n\n# Comparer les données factices avec les données réelles\nsummary(fake_data$y1_fake)\nsummary(fake_data$y2_fake)\nsummary(y1_union)\nsummary(y2_union)\n\ndata_list <- list(y1 = fake_data$y1_fake, \n                 y2 = fake_data$y2_fake, \n                 n1 = length(fake_data$y1_fake), \n                 n2 = length(fake_data$y2_fake))\n\n# Compiling and producing posterior samples from the model.\njags_samples_union2 <- run.jags(model = model_string_union,  # Fixed model string name\n                              data = data_list, \n                              monitor = c(\"beta_union_l\", \"beta_union_h\"),\n                              n.chains = 3,\n                              adapt = 5000,\n                              burnin = 5000,\n                              sample = 10000,\n                              thin = 10)\n\n# Plotting and summarizing the posterior distribution\nprint(jags_samples_union2)\n# Plot credible_interval\nplot_credible_intervals(jags_samples_union2)",
      "block_group": "472fc95c44f0459caf876784a98c523f",
      "execution_count": 178,
      "outputs": [],
      "outputs_reference": null,
      "content_dependencies": null
    },
    {
      "cell_type": "markdown",
      "metadata": {
        "formattedRanges": [],
        "cell_id": "61c1ff3d5a8143d1aa24914589a1a0c7",
        "deepnote_cell_type": "text-cell-h1"
      },
      "source": "# Conclusion",
      "block_group": "3510ee78e86647a9b8554aa7cccedcfd"
    },
    {
      "cell_type": "markdown",
      "metadata": {
        "cell_id": "973907eada1046909821b93d79790bbc",
        "deepnote_cell_type": "markdown"
      },
      "source": "* Intervalle crédible :  les IC sont extrêmement larges, ce qui indique une incertitude importante sur l'estimation de l'effet.\n* Convergence MCMC : les trajectoires de chaines se chevauchent et restent stationnaires après un certain nombre d'itérations, cela suggère que l'espace des paramètres a été correctement exploré et que les estimations postérieures sont fiables.\n* Fake Check Data : Les médianes et moyennes des paramètres beta_union_l et beta_union_h sont très proches de 0.5 dans tous les cas, ce qui suggère que le modèle attribue un effet neutre (ni positif ni négatif) au facteur \"syndicat\".\n\n ",
      "block_group": "4a4b340b3e064f9bbd20d04e5b5f551d"
    },
    {
      "cell_type": "markdown",
      "metadata": {
        "deepnote_app_block_order": 45,
        "deepnote_app_block_visible": true,
        "deepnote_app_block_group_id": null,
        "cell_id": "20fee42704bc409e9f2d07d5a23bbeeb",
        "deepnote_cell_type": "markdown"
      },
      "source": "# Variable Age",
      "block_group": "ffcbd52d665d4dc1bf56744a346a2117"
    },
    {
      "cell_type": "markdown",
      "metadata": {
        "deepnote_app_block_order": 48,
        "deepnote_app_block_visible": true,
        "deepnote_app_block_group_id": null,
        "cell_id": "14e25db8d655400baf994d6410ee2a51",
        "deepnote_cell_type": "markdown"
      },
      "source": "On observe que l'age des individus est fortement correle avec l'experience professionnelle, ce qui fait sens puisque plus l'age est grand, plus l'experience professionnelle est longue. Pour éviter une instabilité des estimations, nous supprimons écartons la variable Age.",
      "block_group": "82cd7f65241949789bd0d902145b0891"
    },
    {
      "cell_type": "code",
      "metadata": {
        "source_hash": "5caee88d",
        "execution_start": 1743358845993,
        "execution_millis": 109,
        "execution_context_id": "b3f17c08-8bd4-4ad6-95c3-0d3455773ef6",
        "deepnote_app_block_order": 51,
        "deepnote_app_block_visible": true,
        "deepnote_app_block_group_id": null,
        "deepnote_app_is_code_hidden": true,
        "deepnote_app_is_output_hidden": false,
        "cell_id": "63659ae6cd594b859e89fa380eec3fad",
        "deepnote_cell_type": "code"
      },
      "source": "ggplot(wage_data, aes(x=age, y=workexp)) +\n  geom_point(alpha=0.5, color=\"purple\") +\n  labs(title=\"Relation entre Age et Expérience Professionnelle\", x=\"Age\", y=\"Expérieence Professionnelle\")",
      "block_group": "8f98c0bec7604b8a84ff3ad8d65d94e2",
      "execution_count": 116,
      "outputs": [],
      "outputs_reference": null,
      "content_dependencies": null
    },
    {
      "cell_type": "markdown",
      "metadata": {
        "deepnote_app_block_order": 54,
        "deepnote_app_block_visible": true,
        "deepnote_app_block_group_id": null,
        "cell_id": "40b6613553a44770b69ef3e6b684f7d1",
        "deepnote_cell_type": "markdown"
      },
      "source": "# Variable Work experience",
      "block_group": "ca4b47b76dfb408d8443ca9f6120195c"
    },
    {
      "cell_type": "markdown",
      "metadata": {
        "deepnote_img_src": "image-20250330-163826.png",
        "deepnote_app_block_order": 57,
        "deepnote_app_block_visible": true,
        "deepnote_app_block_group_id": null,
        "cell_id": "be48c8385fb64e67a37f670f29bc5a13",
        "deepnote_cell_type": "image"
      },
      "source": "<img src=\"image-20250330-163826.png\" width=\"\" align=\"\" />",
      "block_group": "30ee29688664497193f3e7b241b6a62e"
    },
    {
      "cell_type": "markdown",
      "metadata": {
        "deepnote_app_block_order": 59,
        "deepnote_app_block_visible": true,
        "deepnote_app_block_group_id": null,
        "cell_id": "deda6e32cb5a4b3ca5dc4e13164d2a32",
        "deepnote_cell_type": "markdown"
      },
      "source": "## Vraisemblance",
      "block_group": "560aa54f8732485694774246fe2e13d6"
    },
    {
      "cell_type": "markdown",
      "metadata": {
        "deepnote_app_block_order": 60,
        "deepnote_app_block_visible": true,
        "deepnote_app_block_group_id": null,
        "cell_id": "61ec1221aedf4a4fa094f818c81343f2",
        "deepnote_cell_type": "markdown"
      },
      "source": "Une distribution normale semble appropriée pour modéliser les années d'expérience au travail, car les données suivent une forme de cloche.\n\n$X_{i,s} | \\beta_{workexp,s} \\sim \\mathcal{Normal}(\\beta_{workexp,s})$\n\nAvec $\\beta_{workexp,s} = (\\mu_s, \\sigma_s)$ et $ s \\in \\{l,h\\}$",
      "block_group": "cd2eb6b98a8047668b8807ed8d945a9e"
    },
    {
      "cell_type": "markdown",
      "metadata": {
        "deepnote_app_block_order": 61,
        "deepnote_app_block_visible": true,
        "deepnote_app_block_group_id": null,
        "cell_id": "18f8ff1f4cc04b6c81a2bb0448701497",
        "deepnote_cell_type": "markdown"
      },
      "source": "## Choix du prior",
      "block_group": "e852aac4b257453eb9bb36c5161f1c6a"
    },
    {
      "cell_type": "markdown",
      "metadata": {
        "deepnote_app_block_order": 62,
        "deepnote_app_block_visible": true,
        "deepnote_app_block_group_id": null,
        "cell_id": "ee94c7cfbd5f4a43b8e732ea2e8b9a16",
        "deepnote_cell_type": "markdown"
      },
      "source": "$\\mu_s \\sim \\mathcal{Uniform}(0, 30)$ \n$\\sigma_s \\sim \\mathcal{Uniform}(0, 50)$",
      "block_group": "d4a5bd2ffa594acb8dd1503b08055bbd"
    },
    {
      "cell_type": "markdown",
      "metadata": {
        "deepnote_app_block_order": 63,
        "deepnote_app_block_visible": true,
        "deepnote_app_block_group_id": null,
        "cell_id": "ec8200d3ae2b46b2b4affc1641236965",
        "deepnote_cell_type": "markdown"
      },
      "source": "## Implémentation en JAGS",
      "block_group": "3dbc947e8f6d481eb063b547b22ff178"
    },
    {
      "cell_type": "code",
      "metadata": {
        "source_hash": "d74f1adf",
        "execution_start": 1743364884473,
        "execution_millis": 637,
        "execution_context_id": "b3f17c08-8bd4-4ad6-95c3-0d3455773ef6",
        "deepnote_app_block_order": 64,
        "deepnote_app_block_visible": true,
        "deepnote_app_block_group_id": null,
        "deepnote_app_is_code_hidden": true,
        "deepnote_app_is_output_hidden": false,
        "cell_id": "57beb57799c2430d87c6bc9a5096da36",
        "deepnote_cell_type": "code"
      },
      "source": "model_string_workexp <- \"\nmodel {\n\n  mu_l ~ dunif(0, 30)\n  sigma_l ~ dunif(0, 50)\n  precision_l <- 1/sigma_l^2\n\n  mu_h ~ dunif(0, 30)\n  sigma_h ~ dunif(0, 50)\n  precision_h <- 1/sigma_h^2\n  \n  for (i in 1:n1) {\n    y1_workexp[i] ~ dnorm(mu_l, precision_l)\n  }\n  \n  for (i in 1:n2) {\n    y2_workexp[i] ~ dnorm(mu_h, precision_h)\n  }\n\n  \n}\n\"\n\n# Définition des données\ny1_workexp <- wage_data$workexp[wage_data$wage_level == 0]\ny2_workexp <- wage_data$workexp[wage_data$wage_level == 1]\ndata_list <- list(y1 = y1_workexp, y2 = y2_workexp, n1 = length(y1_workexp), n2 = length(y2_workexp))\n\n\n\n# Compiling and producing posterior samples from the model.\njags_samples_workexp <- run.jags(model = model_string_workexp, data = data_list, monitor = c(\"mu_l\", \"sigma_l\", \"mu_h\", \"sigma_h\"), n.chains = 3, adapt = 1000, burnin = 1000, thin = 1)\n\n# Plotting and summarizing the posterior distribution\njags_samples_workexp\nplot_credible_intervals(jags_samples_workexp)",
      "block_group": "13ccf7d02c78449990ae291d5679468f",
      "execution_count": 186,
      "outputs": [],
      "outputs_reference": null,
      "content_dependencies": null
    },
    {
      "cell_type": "code",
      "metadata": {
        "source_hash": "f1e8b53a",
        "execution_start": 1743364897373,
        "execution_millis": 99,
        "execution_context_id": "b3f17c08-8bd4-4ad6-95c3-0d3455773ef6",
        "deepnote_app_block_visible": false,
        "cell_id": "f226057baefb4a3498784e7b8049aba0",
        "deepnote_cell_type": "code"
      },
      "source": "analyze_mcmc_difference(jags_samples_workexp, \"mu_l\", \"mu_h\")",
      "block_group": "e1a10b8cbc9b47e4a0458e2f17e48cd0",
      "execution_count": 187,
      "outputs": [],
      "outputs_reference": null,
      "content_dependencies": null
    },
    {
      "cell_type": "markdown",
      "metadata": {
        "cell_id": "7f934ba78c8e49fb99cdd4523304d6ec",
        "deepnote_cell_type": "markdown"
      },
      "source": "Les individus ayant un salaire inférieur à la moyenne ont en moyenne plus d'expérience professionnelle que ceux ayant un salaire supérieur à la moyenne.",
      "block_group": "3c4b1fa410b64c1586a8ca991dec6519"
    },
    {
      "cell_type": "markdown",
      "metadata": {
        "deepnote_app_block_order": 65,
        "deepnote_app_block_visible": true,
        "deepnote_app_block_group_id": null,
        "cell_id": "b080edda887a4c66abae60a0eb2fd017",
        "deepnote_cell_type": "markdown"
      },
      "source": "## MCMC",
      "block_group": "fdbeb741f08344e8ac5f45b897534aad"
    },
    {
      "cell_type": "code",
      "metadata": {
        "source_hash": "ada55597",
        "execution_start": 1743364906043,
        "execution_millis": 11310,
        "execution_context_id": "b3f17c08-8bd4-4ad6-95c3-0d3455773ef6",
        "deepnote_app_block_order": 66,
        "deepnote_app_block_visible": true,
        "deepnote_app_block_group_id": null,
        "deepnote_app_is_code_hidden": true,
        "deepnote_app_is_output_hidden": false,
        "cell_id": "9e7ec225d00d4aed9afee3a81d9194db",
        "deepnote_cell_type": "code"
      },
      "source": "plot_mcmc(jags_samples_workexp)",
      "block_group": "5344d376cc434386958e956ffad2e0bb",
      "execution_count": 188,
      "outputs": [],
      "outputs_reference": null,
      "content_dependencies": null
    },
    {
      "cell_type": "markdown",
      "metadata": {
        "deepnote_app_block_order": 67,
        "deepnote_app_block_visible": true,
        "deepnote_app_block_group_id": null,
        "cell_id": "0e76b31e203044f5a356c88878a237eb",
        "deepnote_cell_type": "markdown"
      },
      "source": "## Fake data check",
      "block_group": "3d0791e0c72d444ba5efe028d7940b40"
    },
    {
      "cell_type": "code",
      "metadata": {
        "source_hash": "8840a1e0",
        "execution_start": 1743365017083,
        "execution_millis": 777,
        "execution_context_id": "b3f17c08-8bd4-4ad6-95c3-0d3455773ef6",
        "deepnote_app_block_order": 68,
        "deepnote_app_block_visible": true,
        "deepnote_app_block_group_id": null,
        "deepnote_app_is_code_hidden": true,
        "deepnote_app_is_output_hidden": false,
        "cell_id": "75cb33a5a5e4444e813e194953f49fca",
        "deepnote_cell_type": "code"
      },
      "source": "generate_fake_data <- function(n1, n2) {\n    mu_l_fake <- 15\n    sigma_l_fake <- 25\n    mu_h_fake <- 15\n    sigma_h_fake <- 24\n  \n  # Générer des données factices à partir de la distribution de Poisson\n  y1_fake <- rnorm(n1, mu_l_fake, sigma_l_fake)\n  y2_fake <- rnorm(n2, mu_h_fake, sigma_h_fake)\n  \n  return(list(y1_fake = y1_fake, y2_fake = y2_fake))\n}\n\n# Générer des données factices à partir des échantillons postérieurs\nfake_data <- generate_fake_data(length(y1_workexp), length(y2_workexp))\n\n# Comparer les données factices avec les données réelles\nsummary(fake_data$y1_fake)\nsummary(fake_data$y2_fake)\nsummary(y1_workexp)\nsummary(y2_workexp)\n\ndata_list <- list(y1 = fake_data$y1_fake, y2 = fake_data$y2_fake, n1 = length(fake_data$y1_fake), n2 = length(fake_data$y2_fake))\n\n\n# Compiling and producing posterior samples from the model.\njags_samples_workexp2 <- run.jags(model = model_string_workexp, data = data_list, monitor = c(\"mu_l\", \"sigma_l\", \"mu_h\", \"sigma_h\"))\n\n# Plotting and summarizing the posterior distribution\njags_samples_workexp2\nplot_credible_intervals(jags_samples_workexp2)",
      "block_group": "7da8bd2a106a40158d8da7204932a493",
      "execution_count": 189,
      "outputs": [],
      "outputs_reference": null,
      "content_dependencies": null
    },
    {
      "cell_type": "markdown",
      "metadata": {
        "deepnote_app_block_order": 69,
        "deepnote_app_block_visible": true,
        "deepnote_app_block_group_id": null,
        "cell_id": "5920de3a1a8b4267a7c29288806d334b",
        "deepnote_cell_type": "markdown"
      },
      "source": "# Variable female",
      "block_group": "7eedf5db0b6f456aa4ffa78295fc9a71"
    },
    {
      "cell_type": "markdown",
      "metadata": {
        "deepnote_img_src": "image-20250330-165243.png",
        "deepnote_app_block_order": 70,
        "deepnote_app_block_visible": true,
        "deepnote_app_block_group_id": null,
        "cell_id": "4dd11d88421f4064a422ea55c138ba5b",
        "deepnote_cell_type": "image"
      },
      "source": "<img src=\"image-20250330-165243.png\" width=\"\" align=\"\" />",
      "block_group": "2ebd898c46f44477949ebe6a5ba78682"
    },
    {
      "cell_type": "markdown",
      "metadata": {
        "deepnote_app_block_order": 71,
        "deepnote_app_block_visible": true,
        "deepnote_app_block_group_id": null,
        "cell_id": "6efd66de7a8f4ae482c0a7f89fec7155",
        "deepnote_cell_type": "markdown"
      },
      "source": "## Vraisemblance",
      "block_group": "46a99abb74964869a2de647f8beec348"
    },
    {
      "cell_type": "markdown",
      "metadata": {
        "deepnote_app_block_order": 72,
        "deepnote_app_block_visible": true,
        "deepnote_app_block_group_id": null,
        "cell_id": "9402de2b28cc4f74ba72ed01066ac499",
        "deepnote_cell_type": "markdown"
      },
      "source": "Chaque observation suit une loi de Bernoulli :\n\n$X_{i,s} \\sim \\text{Bernoulli}(\\beta_{female,s})$\n\navec $ s \\in \\{l,h\\}$\n",
      "block_group": "9765e237f40342d5af88ada99478db68"
    },
    {
      "cell_type": "markdown",
      "metadata": {
        "formattedRanges": [],
        "deepnote_app_block_order": 73,
        "deepnote_app_block_visible": true,
        "deepnote_app_block_group_id": null,
        "cell_id": "375c8a6e9aaa429abba0c2e1d04001a8",
        "deepnote_cell_type": "text-cell-h2"
      },
      "source": "## Choix du Prior",
      "block_group": "e83d13132fb24b6489de2ffbe716dfc4"
    },
    {
      "cell_type": "markdown",
      "metadata": {
        "deepnote_app_block_order": 74,
        "deepnote_app_block_visible": true,
        "deepnote_app_block_group_id": null,
        "cell_id": "7f3c8884613b4c9fac4aa57639fc6233",
        "deepnote_cell_type": "markdown"
      },
      "source": "$\\beta_{female,l} \\sim \\mathcal{Beta}(173, 151)$\n$\\beta_{female,h} \\sim \\mathcal{Beta}(74, 134)$",
      "block_group": "d2bb9604da8a4f059c9813754b7d6b81"
    },
    {
      "cell_type": "markdown",
      "metadata": {
        "deepnote_app_block_order": 75,
        "deepnote_app_block_visible": true,
        "deepnote_app_block_group_id": null,
        "cell_id": "c22a55fa670142bf85da191178629e8c",
        "deepnote_cell_type": "markdown"
      },
      "source": "## Implémentation en JAGS",
      "block_group": "5b60456343b14746a574f24724cd41de"
    },
    {
      "cell_type": "code",
      "metadata": {
        "source_hash": "b345632b",
        "execution_start": 1743366072583,
        "execution_millis": 574,
        "execution_context_id": "b3f17c08-8bd4-4ad6-95c3-0d3455773ef6",
        "deepnote_app_block_order": 76,
        "deepnote_app_block_visible": true,
        "deepnote_app_block_group_id": null,
        "deepnote_app_is_code_hidden": true,
        "deepnote_app_is_output_hidden": false,
        "cell_id": "cb21dc9812a846828b2c4a2d97dd9a8d",
        "deepnote_cell_type": "code"
      },
      "source": "# Get data for each wage level \nfemale_l <- wage_data$female[wage_data$wage_level == 0]\nfemale_h <- wage_data$female[wage_data$wage_level == 1]\n\n# Convert to numeric vectors\ny1_female <- as.numeric(female_l)\ny2_female <- as.numeric(female_h)\n\n# Set up data list\ndata_list <- list(y1 = y1_female, y2 = y2_female, n1 = length(y1_female), n2 = length(y2_female))\n\n# Define model\nmodel_string_female <- \"\nmodel {\n  # Priors\n  beta_female_l ~ dbeta(173, 151)\n  beta_female_h ~ dbeta(74, 134)\n  \n  # Likelihood\n  for (i in 1:n1) {\n    y1_female[i] ~ dbern(beta_female_l)\n  }\n  \n  for (i in 1:n2) {\n    y2_female[i] ~ dbern(beta_female_h)\n  }\n}\n\"\n\n# Run JAGS model with more iterations and samples\njags_samples_female <- run.jags(\n  model = model_string_female,\n  data = data_list,\n  monitor = c(\"beta_female_l\", \"beta_female_h\"),\n  n.chains = 3,\n  adapt = 5000,\n  burnin = 5000,\n  sample = 10000,\n  thin = 10\n)\n\n# Print summary\nprint(jags_samples_female)\n# Plot credible intervals\nplot_credible_intervals(jags_samples_female)",
      "block_group": "02d2a9f36287440eac4b4795cb3a9e13",
      "execution_count": 197,
      "outputs": [],
      "outputs_reference": null,
      "content_dependencies": null
    },
    {
      "cell_type": "code",
      "metadata": {
        "source_hash": "ea8b0e16",
        "execution_start": 1743366103333,
        "execution_millis": 43,
        "execution_context_id": "b3f17c08-8bd4-4ad6-95c3-0d3455773ef6",
        "cell_id": "8d47779b79f243f5842333ef2b17775d",
        "deepnote_cell_type": "code"
      },
      "source": "analyze_mcmc_difference(jags_samples_female, \"beta_female_l\", \"beta_female_h\")",
      "block_group": "a82c31ee27244e1593792e97ecc706bb",
      "execution_count": 198,
      "outputs": [],
      "outputs_reference": null,
      "content_dependencies": null
    },
    {
      "cell_type": "markdown",
      "metadata": {
        "cell_id": "4f0b7eedf82b4b0481462880c8c6e286",
        "deepnote_cell_type": "markdown"
      },
      "source": "L'effet d'être une femme est plus fort pour les bas salaires que pour les hauts salaires.",
      "block_group": "e34478356a7146d49f9ad27146179aa6"
    },
    {
      "cell_type": "markdown",
      "metadata": {
        "deepnote_app_block_order": 77,
        "deepnote_app_block_visible": true,
        "deepnote_app_block_group_id": null,
        "cell_id": "0f2bcec3b2ac427687c7c9a2885596bc",
        "deepnote_cell_type": "markdown"
      },
      "source": "## MCMC",
      "block_group": "c51a920a3b0e484b88eeb8a68ac0da1b"
    },
    {
      "cell_type": "code",
      "metadata": {
        "source_hash": "137a6864",
        "execution_start": 1743366108319,
        "execution_millis": 5582,
        "execution_context_id": "b3f17c08-8bd4-4ad6-95c3-0d3455773ef6",
        "deepnote_app_block_order": 78,
        "deepnote_app_block_visible": true,
        "deepnote_app_block_group_id": null,
        "deepnote_app_is_code_hidden": true,
        "deepnote_app_is_output_hidden": false,
        "cell_id": "921cbcd24a28437cbcd69ee05b7c627a",
        "deepnote_cell_type": "code"
      },
      "source": "plot_mcmc(jags_samples_female)",
      "block_group": "17ac41069406484e8ac7924c174be450",
      "execution_count": 199,
      "outputs": [],
      "outputs_reference": null,
      "content_dependencies": null
    },
    {
      "cell_type": "markdown",
      "metadata": {
        "deepnote_app_block_order": 79,
        "deepnote_app_block_visible": true,
        "deepnote_app_block_group_id": null,
        "cell_id": "1b917895ebe34294b91e5f018f54f918",
        "deepnote_cell_type": "markdown"
      },
      "source": "## Fake data check",
      "block_group": "28fce22aa4ac40938744f9f9bd03a191"
    },
    {
      "cell_type": "code",
      "metadata": {
        "source_hash": "33053a5c",
        "execution_start": 1743366147243,
        "execution_millis": 528,
        "execution_context_id": "b3f17c08-8bd4-4ad6-95c3-0d3455773ef6",
        "deepnote_app_block_order": 80,
        "deepnote_app_block_visible": true,
        "deepnote_app_block_group_id": null,
        "deepnote_app_is_code_hidden": true,
        "deepnote_app_is_output_hidden": false,
        "cell_id": "2a4e926c4bdb4f30bdad1f91d14b01ac",
        "deepnote_cell_type": "code"
      },
      "source": "generate_fake_data <- function(n1, n2) {\n  beta_female_l_fake <- 0.5\n  beta_female_h_fake <- 0.5\n  \n  # Générer des données factices à partir de la distribution de bernouilli\n  # Convert logical to numeric (0/1) values\n  y1_fake <- as.numeric(rbernoulli(n1, beta_female_l_fake))\n  y2_fake <- as.numeric(rbernoulli(n2, beta_female_h_fake))\n  \n  return(list(y1_fake = y1_fake, y2_fake = y2_fake))\n}\n\n# Générer des données factices à partir des échantillons postérieurs\nfake_data <- generate_fake_data(length(female_l), length(female_h))\n\n# Comparer les données factices avec les données réelles\nsummary(fake_data$y1_fake)\nsummary(fake_data$y2_fake)\nsummary(y1_female)\nsummary(y2_female)\n\ndata_list <- list(y1 = fake_data$y1_fake, \n                 y2 = fake_data$y2_fake, \n                 n1 = length(fake_data$y1_fake), \n                 n2 = length(fake_data$y2_fake))\n\n# Compiling and producing posterior samples from the model.\njags_samples_female2 <- run.jags(model = model_string_female,  # Fixed model string name\n                              data = data_list, \n                              monitor = c(\"beta_female_l\", \"beta_female_h\"),\n                              n.chains = 3,\n                              adapt = 5000,\n                              burnin = 5000,\n                              sample = 10000,\n                              thin = 10)\n\n# Plotting and summarizing the posterior distribution\nprint(jags_samples_female2)\nplot_credible_intervals(jags_samples_female2)",
      "block_group": "982e2c1a399b49d4be48bd62916b6cff",
      "execution_count": 200,
      "outputs": [],
      "outputs_reference": null,
      "content_dependencies": null
    },
    {
      "cell_type": "markdown",
      "metadata": {
        "deepnote_app_block_order": 81,
        "deepnote_app_block_visible": true,
        "deepnote_app_block_group_id": null,
        "cell_id": "df6287b237d14728807a9e860c841994",
        "deepnote_cell_type": "markdown"
      },
      "source": "## Conclusion",
      "block_group": "57b68e4d4939499ea50bdd0e646c437e"
    },
    {
      "cell_type": "markdown",
      "metadata": {
        "deepnote_app_block_order": 82,
        "deepnote_app_block_visible": true,
        "deepnote_app_block_group_id": null,
        "cell_id": "b3984f06535c4f0db1ec916f5dbbb8af",
        "deepnote_cell_type": "markdown"
      },
      "source": "### Interprétation\n\n- 🔹 **`beta_female_l`** : Le modèle estime à **53.5 %** la probabilité que la femme classée comme ayant un **salaire faible** soit effectivement dans ce cas.\n- 🔹 **`beta_female_h`** : La probabilité estimée d’un **salaire élevé** pour la deuxième femme est de **35.9 %**, ce qui reflète une **plus grande incertitude**.\n\n### Convergence\n\n- Tous les diagnostics sont bons :\n  - MC%ofSD < 1 %\n  - PSRF proche de 1\n  - Taille effective > 14 000\n\nCela indique que les chaînes MCMC ont bien convergé.",
      "block_group": "d26533fcd645451c95fe7e9602d89bc0"
    },
    {
      "cell_type": "markdown",
      "metadata": {
        "formattedRanges": [],
        "deepnote_app_block_order": 83,
        "deepnote_app_block_visible": true,
        "deepnote_app_block_group_id": null,
        "cell_id": "c95e9f09f58e41cc908ae6e54e3f40e8",
        "deepnote_cell_type": "text-cell-h1"
      },
      "source": "# Variable Married",
      "block_group": "f2fce76877f8422f8f51776a8c9adc78"
    },
    {
      "cell_type": "markdown",
      "metadata": {
        "deepnote_app_block_order": 84,
        "deepnote_app_block_visible": true,
        "deepnote_app_block_group_id": null,
        "cell_id": "93b5c131574843488629269e7c0cd6ac",
        "deepnote_cell_type": "markdown"
      },
      "source": "",
      "block_group": "def391783cfb489684fc22a47e3e4753"
    },
    {
      "cell_type": "markdown",
      "metadata": {
        "deepnote_img_src": "image-20250330-164951.png",
        "deepnote_app_block_order": 85,
        "deepnote_app_block_visible": true,
        "deepnote_app_block_group_id": null,
        "cell_id": "ff67979dcc3045918ee35a93d681a68d",
        "deepnote_cell_type": "image"
      },
      "source": "<img src=\"image-20250330-164951.png\" width=\"\" align=\"\" />",
      "block_group": "7d292802d96947d1881f206219876f8d"
    },
    {
      "cell_type": "markdown",
      "metadata": {
        "deepnote_app_block_order": 86,
        "deepnote_app_block_visible": true,
        "deepnote_app_block_group_id": null,
        "cell_id": "73957cd33024454cbaa4174cc1cccd04",
        "deepnote_cell_type": "markdown"
      },
      "source": "## Vraisemblance",
      "block_group": "9132c09d1277450ebe0e48ade82bd6b8"
    },
    {
      "cell_type": "markdown",
      "metadata": {
        "deepnote_app_block_order": 87,
        "deepnote_app_block_visible": true,
        "deepnote_app_block_group_id": null,
        "cell_id": "0e6560e38fa04dc5bf68ddb84e669f14",
        "deepnote_cell_type": "markdown"
      },
      "source": "\nEtant donné que \"married\" est une variable binaire (Single, Married), une distribution de Bernoulli est appropriée pour modéliser cette variable. La fonction de vraisemblance pour une variable de Bernoulli est donnée par :\n\n$X_{i,s} \\sim \\text{Bernoulli}(\\beta_{married,s})$ avec $s \\in \\{l,h\\}$\n\n",
      "block_group": "8b00edb6060345eaae7aaccee8ddf8fc"
    },
    {
      "cell_type": "markdown",
      "metadata": {
        "formattedRanges": [],
        "deepnote_app_block_order": 88,
        "deepnote_app_block_visible": true,
        "deepnote_app_block_group_id": null,
        "cell_id": "1ab39a88398a442dbb2fd68858f970b4",
        "deepnote_cell_type": "text-cell-h2"
      },
      "source": "## Choix du Prior",
      "block_group": "78209463e1ab43c2988871faa6e9dc60"
    },
    {
      "cell_type": "markdown",
      "metadata": {
        "deepnote_app_block_order": 89,
        "deepnote_app_block_visible": true,
        "deepnote_app_block_group_id": null,
        "cell_id": "955b0b029db74b2d8e92df4b9acda3d7",
        "deepnote_cell_type": "markdown"
      },
      "source": "En ce qui concerne le choix du prior, la distribution Beta est couramment utilisée comme prior conjugué pour une distribution de Bernoulli.\n\nPour le choix des paramètres du prior et à partir de l’histogramme, on considère :\n\n$\\beta_{married,l} \\sim \\mathcal{Beta}(191, 131)$ \n$\\beta_{married,l} \\sim \\mathcal{Beta}(161, 61)$ ",
      "block_group": "5e15e30e1c374cd3a268d9a055349dfa"
    },
    {
      "cell_type": "markdown",
      "metadata": {
        "deepnote_app_block_order": 90,
        "deepnote_app_block_visible": true,
        "deepnote_app_block_group_id": null,
        "cell_id": "c856e0d636b641fb9271bc4375cedb43",
        "deepnote_cell_type": "markdown"
      },
      "source": "## Implémentation en JAGS",
      "block_group": "1f70ea72b83243309e7e378eb64a9992"
    },
    {
      "cell_type": "code",
      "metadata": {
        "source_hash": "2c60663d",
        "execution_start": 1743366733213,
        "execution_millis": 368,
        "execution_context_id": "b3f17c08-8bd4-4ad6-95c3-0d3455773ef6",
        "deepnote_app_block_order": 91,
        "deepnote_app_block_visible": true,
        "deepnote_app_block_group_id": null,
        "deepnote_app_is_code_hidden": true,
        "deepnote_app_is_output_hidden": false,
        "cell_id": "ace10d59c411467380d3d619dbf75ba7",
        "deepnote_cell_type": "code"
      },
      "source": "# ------------------------------\n# 1. Définir le modèle JAGS (avec priors informatifs)\n# ------------------------------\nmodel_string_married <- \"\nmodel {\n\n  # Priors inspirés des données observées\n  beta_married_l ~ dbeta(191, 131)  # pour salaire < moyenne\n  beta_married_h ~ dbeta(161, 61)   # pour salaire ≥ moyenne\n\n  # Vraisemblance\n  for (i in 1:n1) {\n    y1_married[i] ~ dbern(beta_married_l)\n  }\n\n  for (i in 1:n2) {\n    y2_married[i] ~ dbern(beta_married_h)\n  }\n} \n\"\n\n# ------------------------------\n# 2. Préparer les données\n# ------------------------------\n# Convertir la variable 'married' en binaire (1 = Married, 0 = Single)\nwage_data$married <- as.numeric(wage_data$married == \"Married\")\n\n# Séparer selon le niveau de salaire\nmarried_l <- wage_data$married[wage_data$wage_level == 0]  # faible salaire\nmarried_h <- wage_data$married[wage_data$wage_level == 1]  # haut salaire\n\n# Convertir en vecteur numérique\ny1_married <- as.numeric(married_l)\ny2_married <- as.numeric(married_h)\n\n# Créer la liste des données\ndata_list_married <- list(\n  y1 = y1_married,\n  y2 = y2_married,\n  n1 = length(married_l),\n  n2 = length(married_h)\n)\n\n# ------------------------------\n# 3. Exécuter le modèle\n# ------------------------------\n\njags_samples_married <- run.jags(\n  model = model_string_married,\n  data = data_list_married,\n  monitor = c(\"beta_married_l\", \"beta_married_h\"),\n  n.chains = 3,\n  adapt = 1000,\n  burnin = 1000,\n  sample = 5000,\n  thin = 1\n)\n\n\n# ------------------------------\n# 4. Résultats\n# ------------------------------\njags_samples_married\nplot_credible_intervals(jags_samples_married)\n\n",
      "block_group": "c2e46dae8d824f66bbd8f39441a1e452",
      "execution_count": 204,
      "outputs": [],
      "outputs_reference": null,
      "content_dependencies": null
    },
    {
      "cell_type": "code",
      "metadata": {
        "source_hash": "8bffadac",
        "execution_start": 1743366816461,
        "execution_millis": 77,
        "execution_context_id": "b3f17c08-8bd4-4ad6-95c3-0d3455773ef6",
        "deepnote_app_block_order": 92,
        "deepnote_app_block_visible": true,
        "deepnote_app_block_group_id": null,
        "deepnote_app_is_code_hidden": true,
        "deepnote_app_is_output_hidden": false,
        "cell_id": "e765e09fa86e4ca9a96f12dcf87f98c7",
        "deepnote_cell_type": "code"
      },
      "source": "analyze_mcmc_difference(jags_samples_married, \"beta_married_l\", \"beta_married_h\")",
      "block_group": "cb3914567c904fe4a6be115c6060a450",
      "execution_count": 206,
      "outputs": [],
      "outputs_reference": null,
      "content_dependencies": null
    },
    {
      "cell_type": "markdown",
      "metadata": {
        "cell_id": "ce34156d5b3e4956abd799343cc8303e",
        "deepnote_cell_type": "markdown"
      },
      "source": "être marié est fortement associé à un salaire plus élevé dans le modèle.",
      "block_group": "7c5ff92e7f8c4ee3bdd8c0a1b7d2d514"
    },
    {
      "cell_type": "markdown",
      "metadata": {
        "deepnote_app_block_order": 93,
        "deepnote_app_block_visible": true,
        "deepnote_app_block_group_id": null,
        "cell_id": "1af9f25cf1a94056beb3643e314f5365",
        "deepnote_cell_type": "markdown"
      },
      "source": "## MCMC",
      "block_group": "3c06fc87d2c34a318554528d9e8c3a0b"
    },
    {
      "cell_type": "code",
      "metadata": {
        "source_hash": "df4b3fb6",
        "execution_start": 1743366405680,
        "execution_millis": 2013,
        "execution_context_id": "b3f17c08-8bd4-4ad6-95c3-0d3455773ef6",
        "deepnote_app_block_order": 94,
        "deepnote_app_block_visible": true,
        "deepnote_app_block_group_id": null,
        "deepnote_app_is_code_hidden": true,
        "deepnote_app_is_output_hidden": false,
        "cell_id": "989250e8035f46f4b76b5097736d206b",
        "deepnote_cell_type": "code"
      },
      "source": "plot_mcmc(jags_samples_married)",
      "block_group": "21fcf31535ed41828bf72970f5b5f29b",
      "execution_count": 202,
      "outputs": [],
      "outputs_reference": null,
      "content_dependencies": null
    },
    {
      "cell_type": "markdown",
      "metadata": {
        "deepnote_app_block_order": 95,
        "deepnote_app_block_visible": true,
        "deepnote_app_block_group_id": null,
        "cell_id": "a5e95e5422e94f639023f0d3f8ad2ee3",
        "deepnote_cell_type": "markdown"
      },
      "source": "## Fake data check",
      "block_group": "64c6a05b80be4ad7a410455f66a92686"
    },
    {
      "cell_type": "code",
      "metadata": {
        "source_hash": "26b6eccf",
        "execution_start": 1743366756943,
        "execution_millis": 414,
        "execution_context_id": "b3f17c08-8bd4-4ad6-95c3-0d3455773ef6",
        "deepnote_app_block_order": 96,
        "deepnote_app_block_visible": true,
        "deepnote_app_block_group_id": null,
        "deepnote_app_is_code_hidden": true,
        "deepnote_app_is_output_hidden": false,
        "cell_id": "bd5e8fe70c3d46748e90ccd8af14422b",
        "deepnote_cell_type": "code"
      },
      "source": "# ------------------------------\n# 1. Générer des données factices de statut marital par niveau de salaire\n# ------------------------------\ngenerate_fake_married_data <- function(n_low, n_high, p_low = 0.59, p_high = 0.73) {\n  # Générer pour les faibles salaires\n  y1 <- rbinom(n_low, 1, p_low)\n\n  # Générer pour les hauts salaires\n  y2 <- rbinom(n_high, 1, p_high)\n\n  return(list(y1 = y1, y2 = y2))\n}\n\n\n# ------------------------------\n# 2. Generate fake data\n# ------------------------------\n\nn1 <- length(married_l)\nn2 <- length(married_h)\n\nset.seed(123)\nfake <- generate_fake_married_data(n1, n2)\n\ndata_list_fake_married <- list(\n  y1 = fake$y1,\n  y2 = fake$y2,\n  n1 = n1,\n  n2 = n2\n)\n\n# Comparer les données factices avec les données réelles\nsummary(fake$y1)\nsummary(fake$y2)\nsummary(y1_married)\nsummary(y2_married)\n\n# ------------------------------\n# 3. JAGS model (adjusted for married)\n# ------------------------------\nmodel_string_married <- \"\nmodel {\n  # Priors basés sur l'histogramme\n  beta_married_l ~ dbeta(191, 131)\n  beta_married_h ~ dbeta(161, 61)\n\n  # Vraisemblance Bernoulli pour chaque groupe\n  for (i in 1:n1) {\n    y1[i] ~ dbern(beta_married_l)\n  }\n\n  for (i in 1:n2) {\n    y2[i] ~ dbern(beta_married_h)\n  }\n}\n\"\n\n\n# ------------------------------\n# 4. Run the model\n# ------------------------------\n\njags_samples_married2 <- run.jags(\n  model = model_string_married,\n  data = data_list_fake_married,\n  monitor = c(\"beta_married_l\", \"beta_married_h\"),\n  n.chains = 3,\n  adapt = 1000,\n  burnin = 1000,\n  sample = 5000\n)\n\n\n# ------------------------------\n# 5. Examine results\n# ------------------------------\njags_samples_married2\nplot_credible_intervals(jags_samples_married2)\n",
      "block_group": "a7a48770d04a47248706ced17d27918b",
      "execution_count": 205,
      "outputs": [],
      "outputs_reference": null,
      "content_dependencies": null
    },
    {
      "cell_type": "markdown",
      "metadata": {
        "deepnote_app_block_order": 97,
        "deepnote_app_block_visible": true,
        "deepnote_app_block_group_id": null,
        "cell_id": "d992da9fcb3b40c092f59feeaac1ff24",
        "deepnote_cell_type": "markdown"
      },
      "source": "## Conclusion",
      "block_group": "25af353a04c74eee9c591c6266e7886d"
    },
    {
      "cell_type": "markdown",
      "metadata": {
        "deepnote_app_block_order": 98,
        "deepnote_app_block_visible": true,
        "deepnote_app_block_group_id": null,
        "cell_id": "895de4843743470ab5e525281b385c0a",
        "deepnote_cell_type": "markdown"
      },
      "source": "### Interprétation\n\n- Parmi les individus ayant un **salaire inférieur à la moyenne**, la probabilité d’être marié est estimée à **59,5 %**, avec un intervalle de crédibilité à 95 % entre **55,9 % et 63,4 %**.\n  \n- Pour les individus ayant un **salaire supérieur ou égal à la moyenne**, cette probabilité est plus élevée : **73,3 %**, avec un intervalle de crédibilité entre **69,3 % et 77,5 %**.\n\n---\n\n### Convergence MCMC\n\n- Tous les diagnostics sont bons :\n  - MC%ofSD < 1 %\n  - PSRF ≈ 1\n  - Taille effective > 14 000\n\nLes chaînes ont bien convergé : les résultats sont fiables et interprétables.",
      "block_group": "fb9d8e93fbde4cea8b2af1ae5924700d"
    },
    {
      "cell_type": "markdown",
      "metadata": {
        "deepnote_app_block_order": 99,
        "deepnote_app_block_visible": true,
        "deepnote_app_block_group_id": null,
        "cell_id": "e6a1529e8bba48ea82044401cdbe0309",
        "deepnote_cell_type": "markdown"
      },
      "source": "# Variable ethnicity",
      "block_group": "4cacd0711bfa497b87a7733b1616e371"
    },
    {
      "cell_type": "markdown",
      "metadata": {
        "deepnote_img_src": "image-20250330-170259.png",
        "deepnote_app_block_order": 100,
        "deepnote_app_block_visible": true,
        "deepnote_app_block_group_id": null,
        "cell_id": "b478e180de4648ea825bc89dba5c84cc",
        "deepnote_cell_type": "image"
      },
      "source": "<img src=\"image-20250330-170259.png\" width=\"\" align=\"\" />",
      "block_group": "dd5e40b226c244e1ad6aae42c37dc1fb"
    },
    {
      "cell_type": "markdown",
      "metadata": {
        "deepnote_app_block_order": 101,
        "deepnote_app_block_visible": true,
        "deepnote_app_block_group_id": null,
        "cell_id": "168b7c514f5d42a5ba4797cc46e2b62d",
        "deepnote_cell_type": "markdown"
      },
      "source": "## Vraisemblance",
      "block_group": "0532ffc5a6124742962654fac9144baa"
    },
    {
      "cell_type": "markdown",
      "metadata": {
        "deepnote_app_block_order": 102,
        "deepnote_app_block_visible": true,
        "deepnote_app_block_group_id": null,
        "cell_id": "7bb3c6ffcde54152b3de380b79e2a3bc",
        "deepnote_cell_type": "markdown"
      },
      "source": "$$\nX_{k,s}|\\beta_{k,s} \\sim \\text{Poisson}(\\beta_{k,s})\n$$\n\nAvec k représente la catégorie de ethnicity (individu White, individu Other, individu Hisp).",
      "block_group": "4fc0b67ca87d4d39884a0ebaf82bf508"
    },
    {
      "cell_type": "markdown",
      "metadata": {
        "deepnote_app_block_order": 103,
        "deepnote_app_block_visible": true,
        "deepnote_app_block_group_id": null,
        "cell_id": "da1d7bf7b8324cfab368e88c51163015",
        "deepnote_cell_type": "markdown"
      },
      "source": "## Choix du prior",
      "block_group": "b8f1a952eba741d1954e8c14e1752831"
    },
    {
      "cell_type": "markdown",
      "metadata": {
        "deepnote_app_block_order": 104,
        "deepnote_app_block_visible": true,
        "deepnote_app_block_group_id": null,
        "cell_id": "b48bedf3c9fe4f4882228dacd525489a",
        "deepnote_cell_type": "markdown"
      },
      "source": "\n$$\n\\begin{align*}\n\\beta_{\\text{White}, \\ell} &\\sim \\text{Gamma}(9, 0.1) \\\\\n\\beta_{\\text{White}, h} &\\sim \\text{Gamma}(18, 0.1) \\\\\n\\\\\n\\beta_{\\text{Other}, \\ell} &\\sim \\text{Gamma}(4.5, 0.1) \\\\\n\\beta_{\\text{Other}, h} &\\sim \\text{Gamma}(3, 0.1) \\\\\n\\\\\n\\beta_{\\text{Hispanic}, \\ell} &\\sim \\text{Gamma}(2.5, 0.1) \\\\\n\\beta_{\\text{Hispanic}, h} &\\sim \\text{Gamma}(1, 0.1)\n\\end{align*}\n$$\n\n",
      "block_group": "98b391384afd473fb98cc1e76f66f02e"
    },
    {
      "cell_type": "markdown",
      "metadata": {
        "deepnote_app_block_order": 105,
        "deepnote_app_block_visible": true,
        "deepnote_app_block_group_id": null,
        "cell_id": "776d889232414bd2aca514bb1fb26b1d",
        "deepnote_cell_type": "markdown"
      },
      "source": "## Implémentation en JAGS",
      "block_group": "f90d2fa9013847dabc4fc13cf2b0929e"
    },
    {
      "cell_type": "code",
      "metadata": {
        "source_hash": "81c8c3d1",
        "execution_start": 1743367919653,
        "execution_millis": 682,
        "execution_context_id": "b3f17c08-8bd4-4ad6-95c3-0d3455773ef6",
        "deepnote_app_block_order": 106,
        "deepnote_app_block_visible": true,
        "deepnote_app_block_group_id": null,
        "deepnote_app_is_code_hidden": true,
        "deepnote_app_is_output_hidden": false,
        "cell_id": "2c83b3693e1745bb9837e57cc505ee88",
        "deepnote_cell_type": "code"
      },
      "source": "# ------------------------------\n# 1. Préparer les données (agrégation par ethnie)\n# ------------------------------\n# Liste des groupes ethniques\neth_groups <- c(\"White\", \"Other\", \"Hispanic\")\n\n# Comptes par groupe ethnique et niveau de salaire\ncounts_l <- sapply(eth_groups, function(e) sum(wage_data$wage_level == 0 & wage_data$ethnicity == e))\ncounts_h <- sapply(eth_groups, function(e) sum(wage_data$wage_level == 1 & wage_data$ethnicity == e))\n\n# Liste des données à passer à JAGS\ndata_list_ethnicity <- list(\n  y_l = counts_l,\n  y_h = counts_h\n)\n# ------------------------------\n# 2. Définir le modèle JAGS avec noms explicites\n# ------------------------------\nmodel_string_ethnicity <- \"\nmodel {\n  # Vraisemblance\n  y_l_white    ~ dpois(beta_white_l)\n  y_h_white    ~ dpois(beta_white_h)\n\n  y_l_other    ~ dpois(beta_other_l)\n  y_h_other    ~ dpois(beta_other_h)\n\n  y_l_hispanic ~ dpois(beta_hispanic_l)\n  y_h_hispanic ~ dpois(beta_hispanic_h)\n\n  # Priors\n  beta_white_l    ~ dgamma(9, 0.1)\n  beta_white_h    ~ dgamma(18, 0.1)\n\n  beta_other_l    ~ dgamma(4.5, 0.1)\n  beta_other_h    ~ dgamma(3, 0.1)\n\n  beta_hispanic_l ~ dgamma(2.5, 0.1)\n  beta_hispanic_h ~ dgamma(1, 0.1)\n}\n\"\n\n# Adapter les noms pour coller à ceux du modèle\ndata_list_ethnicity_named <- list(\n  y_l_white    = counts_l[\"White\"],\n  y_h_white    = counts_h[\"White\"],\n  y_l_other    = counts_l[\"Other\"],\n  y_h_other    = counts_h[\"Other\"],\n  y_l_hispanic = counts_l[\"Hispanic\"],\n  y_h_hispanic = counts_h[\"Hispanic\"]\n)\n# ------------------------------\n# 3. Exécuter le modèle\n# ------------------------------\n\nlibrary(runjags)\n\njags_samples_ethnicity <- run.jags(\n  model = model_string_ethnicity,\n  data = data_list_ethnicity_named,\n  monitor = c(\n    \"beta_white_l\", \"beta_white_h\",\n    \"beta_other_l\", \"beta_other_h\",\n    \"beta_hispanic_l\", \"beta_hispanic_h\"\n  ),\n  n.chains = 3,\n  adapt = 1000,\n  burnin = 1000,\n  sample = 5000\n)\n\n# ------------------------------\n# 4. Résultats\n# ------------------------------\nprint(jags_samples_ethnicity)\nplot_credible_intervals(jags_samples_ethnicity)",
      "block_group": "c72ddaf5bc394897bc645d6d764be67f",
      "execution_count": 211,
      "outputs": [],
      "outputs_reference": null,
      "content_dependencies": null
    },
    {
      "cell_type": "code",
      "metadata": {
        "source_hash": "818d4cf1",
        "execution_start": 1743368118336,
        "execution_millis": 304,
        "execution_context_id": "b3f17c08-8bd4-4ad6-95c3-0d3455773ef6",
        "cell_id": "6c71a95215964954b6181a39ac6f9be5",
        "deepnote_cell_type": "code"
      },
      "source": "analyze_mcmc_difference(jags_samples_ethnicity,\"beta_white_l\",\"beta_white_h\")\nanalyze_mcmc_difference(jags_samples_ethnicity,\"beta_other_l\",\"beta_other_h\")\nanalyze_mcmc_difference(jags_samples_ethnicity,\"beta_hispanic_l\",\"beta_hispanic_h\")",
      "block_group": "5c6d835470394c2fae468280d9efbd23",
      "execution_count": 217,
      "outputs": [],
      "outputs_reference": null,
      "content_dependencies": null
    },
    {
      "cell_type": "markdown",
      "metadata": {
        "cell_id": "f43ac2f7a845435c870b9bf684b73ae8",
        "deepnote_cell_type": "markdown"
      },
      "source": "Les minorités ethniques sont significativement désavantagées en termes d'accès aux hauts salaires. Ce modèle met en évidence une forte inégalité salariale selon l’ethnicité, avec un effet particulièrement marqué pour les Hispaniques et autres minorités non blanches.",
      "block_group": "51192d6297a840169783a3cc49545d45"
    },
    {
      "cell_type": "markdown",
      "metadata": {
        "deepnote_app_block_order": 107,
        "deepnote_app_block_visible": true,
        "deepnote_app_block_group_id": null,
        "cell_id": "87f82944c473434bbe5e5898cd7b3c69",
        "deepnote_cell_type": "markdown"
      },
      "source": "## MCMC",
      "block_group": "24c1f5b0904b459895de40c0ef1eaf5c"
    },
    {
      "cell_type": "code",
      "metadata": {
        "source_hash": "7619e049",
        "execution_start": 1743367935822,
        "execution_millis": 1492,
        "execution_context_id": "b3f17c08-8bd4-4ad6-95c3-0d3455773ef6",
        "deepnote_app_block_order": 108,
        "deepnote_app_block_visible": true,
        "deepnote_app_block_group_id": null,
        "deepnote_app_is_code_hidden": true,
        "deepnote_app_is_output_hidden": false,
        "cell_id": "72e4ed179f434ed6a29a925a2b18eff7",
        "deepnote_cell_type": "code"
      },
      "source": "plot_mcmc(jags_samples_ethnicity)",
      "block_group": "3780ff47f3be486490860261786ad265",
      "execution_count": 212,
      "outputs": [],
      "outputs_reference": null,
      "content_dependencies": null
    },
    {
      "cell_type": "markdown",
      "metadata": {
        "deepnote_app_block_order": 109,
        "deepnote_app_block_visible": true,
        "deepnote_app_block_group_id": null,
        "cell_id": "a32dae4b9a804d649a5348ce03d679bc",
        "deepnote_cell_type": "markdown"
      },
      "source": "## Fake data check",
      "block_group": "36d6474439ac4e219362897a700eca29"
    },
    {
      "cell_type": "code",
      "metadata": {
        "source_hash": "f09268dc",
        "execution_start": 1743368027063,
        "execution_millis": 676,
        "execution_context_id": "b3f17c08-8bd4-4ad6-95c3-0d3455773ef6",
        "deepnote_app_block_order": 110,
        "deepnote_app_block_visible": true,
        "deepnote_app_block_group_id": null,
        "deepnote_app_is_code_hidden": true,
        "deepnote_app_is_output_hidden": false,
        "cell_id": "611812395ce84389b2439780b7921e75",
        "deepnote_cell_type": "code"
      },
      "source": "# ------------------------------\n# 1. Generate fake Poisson wage counts by ethnicity and wage level\n# ------------------------------\ngenerate_fake_poisson_data <- function() {\n  # Expected beta values (based on visual estimates)\n  beta_white_l <- 90\n  beta_white_h <- 180\n  beta_other_l <- 45\n  beta_other_h <- 30\n  beta_hispanic_l <- 25\n  beta_hispanic_h <- 10\n\n  # Simulate counts from Poisson\n  y_l_white    <- rpois(1, beta_white_l)\n  y_h_white    <- rpois(1, beta_white_h)\n  y_l_other    <- rpois(1, beta_other_l)\n  y_h_other    <- rpois(1, beta_other_h)\n  y_l_hispanic <- rpois(1, beta_hispanic_l)\n  y_h_hispanic <- rpois(1, beta_hispanic_h)\n\n  return(list(\n    y_l_white = y_l_white,\n    y_h_white = y_h_white,\n    y_l_other = y_l_other,\n    y_h_other = y_h_other,\n    y_l_hispanic = y_l_hispanic,\n    y_h_hispanic = y_h_hispanic\n  ))\n}\n\nset.seed(123)\nfake <- generate_fake_poisson_data()\n\ndata_list_fake <- list(\n  y_l_white    = fake$y_l_white,\n  y_h_white    = fake$y_h_white,\n  y_l_other    = fake$y_l_other,\n  y_h_other    = fake$y_h_other,\n  y_l_hispanic = fake$y_l_hispanic,\n  y_h_hispanic = fake$y_h_hispanic\n)\n\nmodel_string_ethnicity <- \"\nmodel {\n  # Likelihood\n  y_l_white    ~ dpois(beta_white_l)\n  y_h_white    ~ dpois(beta_white_h)\n\n  y_l_other    ~ dpois(beta_other_l)\n  y_h_other    ~ dpois(beta_other_h)\n\n  y_l_hispanic ~ dpois(beta_hispanic_l)\n  y_h_hispanic ~ dpois(beta_hispanic_h)\n\n  # Priors based on previous visual inspection\n  beta_white_l    ~ dgamma(9, 0.1)\n  beta_white_h    ~ dgamma(18, 0.1)\n  \n  beta_other_l    ~ dgamma(4.5, 0.1)\n  beta_other_h    ~ dgamma(3, 0.1)\n\n  beta_hispanic_l ~ dgamma(2.5, 0.1)\n  beta_hispanic_h ~ dgamma(1, 0.1)\n}\n\"\n\njags_samples_ethnicity_fake <- run.jags(\n  model = model_string_ethnicity,\n  data = data_list_fake,\n  monitor = c(\n    \"beta_white_l\", \"beta_white_h\",\n    \"beta_other_l\", \"beta_other_h\",\n    \"beta_hispanic_l\", \"beta_hispanic_h\"\n  ),\n  n.chains = 3,\n  adapt = 1000,\n  burnin = 1000,\n  sample = 5000\n)\n\nprint(jags_samples_ethnicity_fake)\nplot_credible_intervals(jags_samples_ethnicity_fake)\nsummary(jags_samples_ethnicity_fake)",
      "block_group": "f396a6fdfeef4361bd8449caf4547d41",
      "execution_count": 214,
      "outputs": [],
      "outputs_reference": null,
      "content_dependencies": null
    },
    {
      "cell_type": "markdown",
      "metadata": {
        "deepnote_app_block_order": 111,
        "deepnote_app_block_visible": true,
        "deepnote_app_block_group_id": null,
        "cell_id": "cd0df4b3f16e49eab39910d36a4fa5c6",
        "deepnote_cell_type": "markdown"
      },
      "source": "## Conclusion",
      "block_group": "6bdd9a9c25ec40379e7b00f28c4782dc"
    },
    {
      "cell_type": "markdown",
      "metadata": {
        "deepnote_app_block_order": 112,
        "deepnote_app_block_visible": true,
        "deepnote_app_block_group_id": null,
        "cell_id": "4e43419c990a4430a3a7048a008b2f29",
        "deepnote_cell_type": "markdown"
      },
      "source": "Ce tableau compare la valeur moyenne estimée de \\( \\beta \\), c’est-à-dire **le nombre moyen d’individus par groupe ethnique** selon le niveau de salaire.\n\n| Groupe ethnique | Niveau salaire | \\( \\beta\\) réel | \\( \\beta \\) simulé | Écart absolu |\n|----------------|---------------|----------------|----------------|--------------|\n| White         | < Moyenne     | 239.14         | 84.52          |   154.62     |\n| White         | ≥ Moyenne     | 185.35         | 193.52         |   8.17       |\n| Other         | < Moyenne     | 46.80          | 34.08          |   12.72      |\n| Other         | ≥ Moyenne     | 20.95          | 30.00          |   9.05       |\n| Hispanic      | < Moyenne     | 22.33          | 32.19          |   9.86       |\n| Hispanic      | ≥ Moyenne     | 5.44           | 10.87          |   5.43       |\n\n---\n\n### Interprétation\n\n- **beta_white_h** (White, salaire élevé) est **bien capturé** par les données simulées : la moyenne simulée (193.52) est proche de la valeur réelle (185.35).\n\n- **beta_white_l** (White, salaire faible) est **largement sous-estimé** dans les données factices (~84 vs 239 réels). Cela montre que les données simulées **ne reflètent pas bien la distribution réelle** des salaires faibles chez les individus blancs.\n\n- **beta_hispanic_h** et **beta_other_h** sont\n",
      "block_group": "bfce3925b27e48dab931a729ee2daa4a"
    },
    {
      "cell_type": "markdown",
      "metadata": {
        "deepnote_app_block_order": 113,
        "deepnote_app_block_visible": true,
        "deepnote_app_block_group_id": null,
        "cell_id": "a7d1e3e479f24d67bfc39035cb998fcd",
        "deepnote_cell_type": "markdown"
      },
      "source": "# Variable sector",
      "block_group": "9821e2aba1724f8ab2d6c38ca2a3d297"
    },
    {
      "cell_type": "markdown",
      "metadata": {
        "deepnote_img_src": "image-20250330-170309.png",
        "deepnote_app_block_order": 114,
        "deepnote_app_block_visible": true,
        "deepnote_app_block_group_id": null,
        "cell_id": "83ad43a2751545f584023e8119b5b357",
        "deepnote_cell_type": "image"
      },
      "source": "<img src=\"image-20250330-170309.png\" width=\"\" align=\"\" />",
      "block_group": "1dea89630f5a4dc0bfea5017c8f166c7"
    },
    {
      "cell_type": "markdown",
      "metadata": {
        "deepnote_app_block_order": 115,
        "deepnote_app_block_visible": true,
        "deepnote_app_block_group_id": null,
        "cell_id": "9f169bddb50140778df3bfd2c3a163f3",
        "deepnote_cell_type": "markdown"
      },
      "source": "## Vraisemblance",
      "block_group": "b8dd026e9b474aef909ec286fa2f4a36"
    },
    {
      "cell_type": "markdown",
      "metadata": {
        "deepnote_app_block_order": 116,
        "deepnote_app_block_visible": true,
        "deepnote_app_block_group_id": null,
        "cell_id": "187cbab4969f4eb8878dada48d24c0b8",
        "deepnote_cell_type": "markdown"
      },
      "source": "$$\nX_{k, s} | \\beta_{k, s} \\sim \\text{Poisson}(\\beta_{k, s})\n$$\n\navec $ s \\in \\{ \\ell, h \\} $",
      "block_group": "8456c728f8c14edda800232469fbee49"
    },
    {
      "cell_type": "markdown",
      "metadata": {
        "deepnote_app_block_order": 117,
        "deepnote_app_block_visible": true,
        "deepnote_app_block_group_id": null,
        "cell_id": "38ff46e2005f47d491c90c1683d858fa",
        "deepnote_cell_type": "markdown"
      },
      "source": "## Choix du prior",
      "block_group": "cbfc369ae68547689a7cb58f0722a8be"
    },
    {
      "cell_type": "markdown",
      "metadata": {
        "deepnote_app_block_order": 118,
        "deepnote_app_block_visible": true,
        "deepnote_app_block_group_id": null,
        "cell_id": "bf7ac3104ac04e24a42cf2a72f89a099",
        "deepnote_cell_type": "markdown"
      },
      "source": "$$\n\\begin{aligned}\n\\beta_{\\text{Construction}, \\ell} &\\sim \\text{Gamma}(1, 0.1) & \\quad \\beta_{\\text{Construction}, h} &\\sim \\text{Gamma}(1, 0.1) \\\\\n\\beta_{\\text{Manufacturing}, \\ell} &\\sim \\text{Gamma}(3, 0.1) & \\quad \\beta_{\\text{Manufacturing}, h} &\\sim \\text{Gamma}(3, 0.1) \\\\\n\\beta_{\\text{Other}, \\ell} &\\sim \\text{Gamma}(13, 0.1) & \\quad \\beta_{\\text{Other}, h} &\\sim \\text{Gamma}(15, 0.1)\n\\end{aligned}\n$$",
      "block_group": "f2582ce056624e2d8210823444a2e0f7"
    },
    {
      "cell_type": "markdown",
      "metadata": {
        "deepnote_app_block_order": 119,
        "deepnote_app_block_visible": true,
        "deepnote_app_block_group_id": null,
        "cell_id": "eac9a1c5af0b45f6a4bdc0e1a3ba246f",
        "deepnote_cell_type": "markdown"
      },
      "source": "## Implémentation en JAGS",
      "block_group": "acbc41a4b99348988f00d207fa2f2a44"
    },
    {
      "cell_type": "code",
      "metadata": {
        "source_hash": "a2aee708",
        "execution_start": 1743368632003,
        "execution_millis": 527,
        "execution_context_id": "b3f17c08-8bd4-4ad6-95c3-0d3455773ef6",
        "deepnote_app_block_order": 120,
        "deepnote_app_block_visible": true,
        "deepnote_app_block_group_id": null,
        "deepnote_app_is_code_hidden": true,
        "deepnote_app_is_output_hidden": false,
        "cell_id": "fc978b3528dc4576a630cd2aa56be266",
        "deepnote_cell_type": "code"
      },
      "source": "# Compter les individus par secteur et niveau de salaire\ncounts_l <- table(wage_data$sector[wage_data$wage_level == 0])\ncounts_h <- table(wage_data$sector[wage_data$wage_level == 1])\n\n# Préparer les données pour JAGS\ndata_list_sector <- list(\n  y_l_Construction   = as.numeric(counts_l[\"Construction\"]),\n  y_h_Construction   = as.numeric(counts_h[\"Construction\"]),\n  y_l_Manufacturing  = as.numeric(counts_l[\"Manufacturing\"]),\n  y_h_Manufacturing  = as.numeric(counts_h[\"Manufacturing\"]),\n  y_l_Other          = as.numeric(counts_l[\"Other\"]),\n  y_h_Other          = as.numeric(counts_h[\"Other\"])\n)\nmodel_string_sector <- \"\nmodel {\n  # Likelihood\n  y_l_Construction   ~ dpois(beta_l_Construction)\n  y_h_Construction   ~ dpois(beta_h_Construction)\n\n  y_l_Manufacturing  ~ dpois(beta_l_Manufacturing)\n  y_h_Manufacturing  ~ dpois(beta_h_Manufacturing)\n\n  y_l_Other          ~ dpois(beta_l_Other)\n  y_h_Other          ~ dpois(beta_h_Other)\n\n  # Priors (adjusted from histogram)\n  beta_l_Construction   ~ dgamma(1, 0.1)\n  beta_h_Construction   ~ dgamma(1, 0.1)\n\n  beta_l_Manufacturing  ~ dgamma(3, 0.1)\n  beta_h_Manufacturing  ~ dgamma(3, 0.1)\n\n  beta_l_Other          ~ dgamma(13, 0.1)\n  beta_h_Other          ~ dgamma(15, 0.1)\n}\n\"\nlibrary(runjags)\n\njags_samples_sector <- run.jags(\n  model = model_string_sector,\n  data = data_list_sector,\n  monitor = c(\n    \"beta_l_Construction\", \"beta_h_Construction\",\n    \"beta_l_Manufacturing\", \"beta_h_Manufacturing\",\n    \"beta_l_Other\", \"beta_h_Other\"\n  ),\n  n.chains = 3,\n  adapt = 1000,\n  burnin = 1000,\n  sample = 5000\n)\nprint(jags_samples_sector)\nplot_credible_intervals(jags_samples_sector)\nsummary(jags_samples_sector)\n",
      "block_group": "105d975901054b278f388934986f87bd",
      "execution_count": 221,
      "outputs": [],
      "outputs_reference": null,
      "content_dependencies": null
    },
    {
      "cell_type": "code",
      "metadata": {
        "source_hash": "ac8023f9",
        "execution_start": 1743368653106,
        "execution_millis": 300,
        "execution_context_id": "b3f17c08-8bd4-4ad6-95c3-0d3455773ef6",
        "deepnote_app_block_order": 121,
        "deepnote_app_block_visible": true,
        "deepnote_app_block_group_id": null,
        "deepnote_app_is_code_hidden": true,
        "deepnote_app_is_output_hidden": false,
        "cell_id": "fecd6a73266b438ba3ce00a751cd590f",
        "deepnote_cell_type": "code"
      },
      "source": "analyze_mcmc_difference(jags_samples_sector,'beta_l_Construction','beta_h_Construction')\n\nanalyze_mcmc_difference(jags_samples_sector,'beta_l_Manufacturing','beta_h_Manufacturing')\n\nanalyze_mcmc_difference(jags_samples_sector,'beta_l_Other','beta_h_Other')",
      "block_group": "123813a05a8443a993e6d1694a1c142f",
      "execution_count": 223,
      "outputs": [],
      "outputs_reference": null,
      "content_dependencies": null
    },
    {
      "cell_type": "markdown",
      "metadata": {
        "deepnote_app_block_order": 122,
        "deepnote_app_block_visible": true,
        "deepnote_app_block_group_id": null,
        "cell_id": "c43a9acd3bf54bea809ae46968c8c4b5",
        "deepnote_cell_type": "markdown"
      },
      "source": "Le secteur de la construction offre une meilleure répartition des salaires, avec une proportion notable de hauts salaires.\n\nLe secteur manufacturier semble relativement équilibré.\n\nLes autres secteurs (services, agriculture, etc.) présentent une forte concentration de bas salaires, ce qui suggère une précarité plus importante.",
      "block_group": "2f421b1706934c56941880bec3e779ad"
    },
    {
      "cell_type": "markdown",
      "metadata": {
        "deepnote_app_block_order": 123,
        "deepnote_app_block_visible": true,
        "deepnote_app_block_group_id": null,
        "cell_id": "0cd45827e81b402f84493f91e2693bc3",
        "deepnote_cell_type": "markdown"
      },
      "source": "## MCMC",
      "block_group": "5c71b0d78fa243e58124b74306ed02da"
    },
    {
      "cell_type": "code",
      "metadata": {
        "source_hash": "2141d57",
        "execution_start": 1743368773683,
        "execution_millis": 1492,
        "execution_context_id": "b3f17c08-8bd4-4ad6-95c3-0d3455773ef6",
        "deepnote_app_block_order": 124,
        "deepnote_app_block_visible": true,
        "deepnote_app_block_group_id": null,
        "deepnote_app_is_code_hidden": true,
        "deepnote_app_is_output_hidden": false,
        "cell_id": "c38b3e7a04984a9cab5000909f2e7db0",
        "deepnote_cell_type": "code"
      },
      "source": "plot_mcmc(jags_samples_sector)",
      "block_group": "aa32d02093d04675bd23f213dd642a23",
      "execution_count": 224,
      "outputs": [],
      "outputs_reference": null,
      "content_dependencies": null
    },
    {
      "cell_type": "markdown",
      "metadata": {
        "deepnote_app_block_order": 125,
        "deepnote_app_block_visible": true,
        "deepnote_app_block_group_id": null,
        "cell_id": "844ffca05280498a90a1bf94e9231523",
        "deepnote_cell_type": "markdown"
      },
      "source": "## Fake data check",
      "block_group": "e929328d14a649489b780f8594dd5813"
    },
    {
      "cell_type": "code",
      "metadata": {
        "source_hash": "63f6377",
        "execution_start": 1743368861383,
        "execution_millis": 857,
        "execution_context_id": "b3f17c08-8bd4-4ad6-95c3-0d3455773ef6",
        "deepnote_app_block_order": 126,
        "deepnote_app_block_visible": true,
        "deepnote_app_block_group_id": null,
        "deepnote_app_is_code_hidden": true,
        "deepnote_app_is_output_hidden": false,
        "cell_id": "37d896ac23c245cca691a3df5b1740e4",
        "deepnote_cell_type": "code"
      },
      "source": "generate_fake_sector_data <- function() {\n  list(\n    y_l_Construction   = rpois(1, 10),\n    y_h_Construction   = rpois(1, 10),\n    y_l_Manufacturing  = rpois(1, 30),\n    y_h_Manufacturing  = rpois(1, 30),\n    y_l_Other          = rpois(1, 130),\n    y_h_Other          = rpois(1, 150)\n  )\n}\n\n\nset.seed(123)\nfake_sector <- generate_fake_sector_data()\n\ndata_list_sector_fake <- fake_sector\njags_samples_sector_fake <- run.jags(\n  model = model_string_sector,\n  data = data_list_sector_fake,\n  monitor = c(\n    \"beta_l_Construction\", \"beta_h_Construction\",\n    \"beta_l_Manufacturing\", \"beta_h_Manufacturing\",\n    \"beta_l_Other\", \"beta_h_Other\"\n  ),\n  n.chains = 3,\n  adapt = 1000,\n  burnin = 1000,\n  sample = 5000\n)\nprint(jags_samples_sector_fake)\nplot_credible_intervals(jags_samples_sector_fake)\nsummary(jags_samples_sector_fake)\n",
      "block_group": "b38cc1d3d19044a4b5585b417c84f825",
      "execution_count": 226,
      "outputs": [],
      "outputs_reference": null,
      "content_dependencies": null
    },
    {
      "cell_type": "markdown",
      "metadata": {
        "deepnote_app_block_order": 127,
        "deepnote_app_block_visible": true,
        "deepnote_app_block_group_id": null,
        "cell_id": "f8a55aad4ec84f8ab7e08f756ca5c5c2",
        "deepnote_cell_type": "markdown"
      },
      "source": "## Conclusion",
      "block_group": "555ae70a70134b0f91fda52074272b35"
    },
    {
      "cell_type": "markdown",
      "metadata": {
        "deepnote_app_block_order": 128,
        "deepnote_app_block_visible": true,
        "deepnote_app_block_group_id": null,
        "cell_id": "dbc5bb66bbc946df878b3d12374cb001",
        "deepnote_cell_type": "markdown"
      },
      "source": "Ce tableau compare les valeurs moyennes estimées de \\( \\lambda \\) obtenues avec les données réelles et les données simulées.\n\n| Secteur        | Salaire       | \\( \\lambda \\) réel | \\( \\lambda \\) simulé | Écart absolu |\n|---------------|--------------|--------------------|----------------------|--------------|\n| Construction   | < Moyenne     | 10.91              | 8.20                 | 2.71         |\n| Construction   | ≥ Moyenne     | 12.76              | 9.08                 | 3.68         |\n| Manufacturing  | < Moyenne     | 48.18              | 37.17                | 11.01        |\n| Manufacturing  | ≥ Moyenne     | 47.27              | 29.98                | 17.29        |\n| Other         | < Moyenne     | 250.01             | 131.07               |   118.94     |\n| Other         | ≥ Moyenne     | 148.97             | 169.02               |   20.05      |\n\n---\n\n### Analyse\n\n- Les valeurs simulées sont **cohérentes** pour le secteur **Construction**, bien qu'un léger écart subsiste.\n- Pour **Manufacturing**, les données simulées **sous-estiment** de manière notable les comptes réels, surtout pour les hauts salaires.\n- Dans le cas du secteur **Other**, les \\( \\lambda \\) simulés **sous-estiment fortement** les bas salaires (131 vs 250), mais surestiment légèrement les hauts salaires.\n- Toutefois, le modèle reproduit **globalement bien les tendances** observées.\n\n---\n\n### Conclusion\n\nLes **priors utilisés sont raisonnables**, mais pour améliorer la précision :\n- On peut **ajuster les hyperparamètres Gamma** pour mieux capturer les distributions réelles, notamment dans le secteur \"Other\".\n- Une **meilleure prise en compte de l'hétérogénéité** des secteurs améliorerait encore la modélisation.\n",
      "block_group": "970649d7336840d29223e385cf5fb7c4"
    },
    {
      "cell_type": "markdown",
      "metadata": {
        "deepnote_app_block_order": 129,
        "deepnote_app_block_visible": true,
        "deepnote_app_block_group_id": null,
        "cell_id": "1da8b55b078d4e39845c253759befc94",
        "deepnote_cell_type": "markdown"
      },
      "source": "# Variable occupation",
      "block_group": "72c5aaab46b343578656fad8eedd045f"
    },
    {
      "cell_type": "markdown",
      "metadata": {
        "deepnote_img_src": "image-20250330-170318.png",
        "deepnote_app_block_order": 130,
        "deepnote_app_block_visible": true,
        "deepnote_app_block_group_id": null,
        "cell_id": "34e7bc908bb342a7aabefefc257df5d3",
        "deepnote_cell_type": "image"
      },
      "source": "<img src=\"image-20250330-170318.png\" width=\"\" align=\"\" />",
      "block_group": "9dfa4066d02c42f092e3516884f60274"
    },
    {
      "cell_type": "markdown",
      "metadata": {
        "deepnote_app_block_order": 131,
        "deepnote_app_block_visible": true,
        "deepnote_app_block_group_id": null,
        "cell_id": "1ecd4537c6324e6bb2585c8c6a59eaee",
        "deepnote_cell_type": "markdown"
      },
      "source": "## Vraisemblance",
      "block_group": "fcff6df76c52413f9a03db980a9a3614"
    },
    {
      "cell_type": "markdown",
      "metadata": {
        "deepnote_app_block_order": 132,
        "deepnote_app_block_visible": true,
        "deepnote_app_block_group_id": null,
        "cell_id": "67e7f016abbf43e098faa15b9ff6aa28",
        "deepnote_cell_type": "markdown"
      },
      "source": "$$\nX_{k, \\ell} | \\beta_{k, s} \\sim \\text{Poisson}(\\beta_{k, s})\n$$\n\nAvec $ s \\in \\{ \\ell, h \\}$",
      "block_group": "8d07ac8b2ee442989d0a0c3f5104f062"
    },
    {
      "cell_type": "markdown",
      "metadata": {
        "deepnote_app_block_order": 133,
        "deepnote_app_block_visible": true,
        "deepnote_app_block_group_id": null,
        "cell_id": "7d6f04b636634951a14844d6a18aa8b6",
        "deepnote_cell_type": "markdown"
      },
      "source": "## Choix du prior",
      "block_group": "7da1daa6df764124b60feef84b405cb6"
    },
    {
      "cell_type": "markdown",
      "metadata": {
        "deepnote_app_block_order": 134,
        "deepnote_app_block_visible": true,
        "deepnote_app_block_group_id": null,
        "cell_id": "b7f701f797174def84da36d5ca3523d7",
        "deepnote_cell_type": "markdown"
      },
      "source": "$$\n\\begin{aligned}\n\\beta_{\\text{Clerical}, \\ell} &\\sim \\text{Gamma}(4, 0.1) & \\quad \\beta_{\\text{Clerical}, h} &\\sim \\text{Gamma}(3, 0.1) \\\\\n\\beta_{\\text{Management}, \\ell} &\\sim \\text{Gamma}(2, 0.1) & \\quad \\beta_{\\text{Management}, h} &\\sim \\text{Gamma}(3, 0.1) \\\\\n\\beta_{\\text{Other}, \\ell} &\\sim \\text{Gamma}(4, 0.1) & \\quad \\beta_{\\text{Other}, h} &\\sim \\text{Gamma}(6, 0.1) \\\\\n\\beta_{\\text{Professional}, \\ell} &\\sim \\text{Gamma}(3.5, 0.1) & \\quad \\beta_{\\text{Professional}, h} &\\sim \\text{Gamma}(3.5, 0.1) \\\\\n\\beta_{\\text{Sales}, \\ell} &\\sim \\text{Gamma}(1.5, 0.1) & \\quad \\beta_{\\text{Sales}, h} &\\sim \\text{Gamma}(1, 0.1) \\\\\n\\beta_{\\text{Service}, \\ell} &\\sim \\text{Gamma}(3.5, 0.1) & \\quad \\beta_{\\text{Service}, h} &\\sim \\text{Gamma}(1.5, 0.1)\n\\end{aligned}\n$$",
      "block_group": "eeaf4e3615e146db865e2327f187910e"
    },
    {
      "cell_type": "markdown",
      "metadata": {
        "deepnote_app_block_order": 135,
        "deepnote_app_block_visible": true,
        "deepnote_app_block_group_id": null,
        "cell_id": "46cbca56495949a1a32ea9ca2d0a1024",
        "deepnote_cell_type": "markdown"
      },
      "source": "## Implémentation en JAGS",
      "block_group": "2cd4534d8aa549b990474effe1e116ec"
    },
    {
      "cell_type": "code",
      "metadata": {
        "source_hash": "7e955dde",
        "execution_start": 1743369092213,
        "execution_millis": 889,
        "execution_context_id": "b3f17c08-8bd4-4ad6-95c3-0d3455773ef6",
        "deepnote_app_block_order": 136,
        "deepnote_app_block_visible": true,
        "deepnote_app_block_group_id": null,
        "deepnote_app_is_code_hidden": true,
        "deepnote_app_is_output_hidden": false,
        "cell_id": "3dfb507ddb1149cfb45a6b83efbed4a1",
        "deepnote_cell_type": "code"
      },
      "source": "# Liste des groupes occupation\noccupation_groups <- unique(wage_data$occupation)\n\n# Comptes par groupe et niveau de salaire\ncounts_l <- sapply(occupation_groups, function(g) sum(wage_data$wage_level == 0 & wage_data$occupation == g))\ncounts_h <- sapply(occupation_groups, function(g) sum(wage_data$wage_level == 1 & wage_data$occupation == g))\n\n# Créer la liste des données nommées\ndata_list_occupation <- list(\n  y_l_Clerical     = counts_l[\"Clerical\"],\n  y_h_Clerical     = counts_h[\"Clerical\"],\n  y_l_Management   = counts_l[\"Management\"],\n  y_h_Management   = counts_h[\"Management\"],\n  y_l_Other        = counts_l[\"Other\"],\n  y_h_Other        = counts_h[\"Other\"],\n  y_l_Professional = counts_l[\"Professional\"],\n  y_h_Professional = counts_h[\"Professional\"],\n  y_l_Sales        = counts_l[\"Sales\"],\n  y_h_Sales        = counts_h[\"Sales\"],\n  y_l_Service      = counts_l[\"Service\"],\n  y_h_Service      = counts_h[\"Service\"]\n)\n\nmodel_string_occupation <- \"\nmodel {\n  # Likelihoods\n  y_l_Clerical     ~ dpois(beta_l_Clerical)\n  y_h_Clerical     ~ dpois(beta_h_Clerical)\n\n  y_l_Management   ~ dpois(beta_l_Management)\n  y_h_Management   ~ dpois(beta_h_Management)\n\n  y_l_Other        ~ dpois(beta_l_Other)\n  y_h_Other        ~ dpois(beta_h_Other)\n\n  y_l_Professional ~ dpois(beta_l_Professional)\n  y_h_Professional ~ dpois(beta_h_Professional)\n\n  y_l_Sales        ~ dpois(beta_l_Sales)\n  y_h_Sales        ~ dpois(beta_h_Sales)\n\n  y_l_Service      ~ dpois(beta_l_Service)\n  y_h_Service      ~ dpois(beta_h_Service)\n\n  # Priors (vagues, à adapter si tu veux en fonction des counts observés)\n  beta_l_Clerical     ~ dgamma(4, 0.1)\n  beta_h_Clerical     ~ dgamma(3, 0.1)\n\n  beta_l_Management   ~ dgamma(2, 0.1)\n  beta_h_Management   ~ dgamma(3, 0.1)\n\n  beta_l_Other        ~ dgamma(4, 0.1)\n  beta_h_Other        ~ dgamma(6, 0.1)\n\n  beta_l_Professional ~ dgamma(3.5, 0.1)\n  beta_h_Professional ~ dgamma(3.5, 0.1)\n\n  beta_l_Sales        ~ dgamma(1.5, 0.1)\n  beta_h_Sales        ~ dgamma(1, 0.1)\n\n  beta_l_Service      ~ dgamma(3.5, 0.1)\n  beta_h_Service      ~ dgamma(1.5, 0.1)\n\n}\n\"\nlibrary(runjags)\n\njags_samples_occupation <- run.jags(\n  model = model_string_occupation,\n  data = data_list_occupation,\n  monitor = c(\n    \"beta_l_Clerical\", \"beta_h_Clerical\",\n    \"beta_l_Management\", \"beta_h_Management\",\n    \"beta_l_Other\", \"beta_h_Other\",\n    \"beta_l_Professional\", \"beta_h_Professional\",\n    \"beta_l_Sales\", \"beta_h_Sales\",\n    \"beta_l_Service\", \"beta_h_Service\"\n  ),\n  n.chains = 3,\n  adapt = 1000,\n  burnin = 1000,\n  sample = 5000\n)\nprint(jags_samples_occupation)\nplot_credible_intervals(jags_samples_occupation)\n\n",
      "block_group": "032b60c90dc8466288f6bd2052e55d3f",
      "execution_count": 227,
      "outputs": [],
      "outputs_reference": null,
      "content_dependencies": null
    },
    {
      "cell_type": "code",
      "metadata": {
        "source_hash": "8d363d8a",
        "execution_start": 1743369154103,
        "execution_millis": 1050,
        "execution_context_id": "b3f17c08-8bd4-4ad6-95c3-0d3455773ef6",
        "deepnote_app_block_order": 137,
        "deepnote_app_block_visible": true,
        "deepnote_app_block_group_id": null,
        "deepnote_app_is_code_hidden": true,
        "deepnote_app_is_output_hidden": false,
        "cell_id": "4488ded33a8c4b999a0b319b582c9b40",
        "deepnote_cell_type": "code"
      },
      "source": "analyze_mcmc_difference(jags_samples_occupation, \"beta_l_Service\", \"beta_h_Service\")\nanalyze_mcmc_difference(jags_samples_occupation, \"beta_l_Sales\", \"beta_h_Sales\")\nanalyze_mcmc_difference(jags_samples_occupation, \"beta_l_Professional\", \"beta_h_Professional\")\nanalyze_mcmc_difference(jags_samples_occupation, \"beta_l_Other\", \"beta_h_Other\")\nanalyze_mcmc_difference(jags_samples_occupation, \"beta_l_Management\", \"beta_h_Management\")\nanalyze_mcmc_difference(jags_samples_occupation, \"beta_l_Clerical\", \"beta_h_Clerical\")\n",
      "block_group": "32d527b29a694d6285aacb3e5290e98b",
      "execution_count": 228,
      "outputs": [],
      "outputs_reference": null,
      "content_dependencies": null
    },
    {
      "cell_type": "markdown",
      "metadata": {
        "deepnote_app_block_order": 138,
        "deepnote_app_block_visible": true,
        "deepnote_app_block_group_id": null,
        "cell_id": "9c8d106bee0b4da9be7b19ac45efa4f5",
        "deepnote_cell_type": "markdown"
      },
      "source": "Les écarts sont plus prononcés dans les professions Management et Other, où les hauts salaires sont significativement plus élevés que les bas salaires. En revanche, Professional et Clerical montrent moins de différence. L'occupation semble donc jouer un rôle différencié selon le secteur en matière d’inégalité salariale.",
      "block_group": "dcc3cbd84822473c84c403214e14b29f"
    },
    {
      "cell_type": "markdown",
      "metadata": {
        "deepnote_app_block_order": 139,
        "deepnote_app_block_visible": true,
        "deepnote_app_block_group_id": null,
        "cell_id": "2789c4014a2e4e13b799943edc8e5e3f",
        "deepnote_cell_type": "markdown"
      },
      "source": "## MCMC",
      "block_group": "c92a91bcf6e249efbb6269ae72110015"
    },
    {
      "cell_type": "code",
      "metadata": {
        "source_hash": "cd7fb76f",
        "execution_start": 1743369241153,
        "execution_millis": 3103,
        "execution_context_id": "b3f17c08-8bd4-4ad6-95c3-0d3455773ef6",
        "deepnote_app_block_order": 140,
        "deepnote_app_block_visible": true,
        "deepnote_app_block_group_id": null,
        "deepnote_app_is_code_hidden": true,
        "deepnote_app_is_output_hidden": false,
        "cell_id": "d7488403408e4d1f8341ab6518914964",
        "deepnote_cell_type": "code"
      },
      "source": "plot_mcmc(jags_samples_occupation)",
      "block_group": "9cadb39e6dfd421080e89eacbebd9722",
      "execution_count": 229,
      "outputs": [],
      "outputs_reference": null,
      "content_dependencies": null
    },
    {
      "cell_type": "markdown",
      "metadata": {
        "deepnote_app_block_order": 141,
        "deepnote_app_block_visible": true,
        "deepnote_app_block_group_id": null,
        "cell_id": "0575f038d54343368778bcf1b924191d",
        "deepnote_cell_type": "markdown"
      },
      "source": "## Fake data check",
      "block_group": "4532aa39a109423c8bb02a9c9f7845df"
    },
    {
      "cell_type": "code",
      "metadata": {
        "source_hash": "b181cc77",
        "execution_start": 1743369263791,
        "execution_millis": 1034,
        "execution_context_id": "b3f17c08-8bd4-4ad6-95c3-0d3455773ef6",
        "deepnote_app_block_order": 142,
        "deepnote_app_block_visible": true,
        "deepnote_app_block_group_id": null,
        "deepnote_app_is_code_hidden": true,
        "deepnote_app_is_output_hidden": false,
        "cell_id": "8690ca48f88a4f059e6a19117a568929",
        "deepnote_cell_type": "code"
      },
      "source": "# ------------------------------\n# 1. Generate fake Poisson wage counts by occupation and wage level\n# ------------------------------\ngenerate_fake_poisson_occupation <- function() {\n  # Expected beta values based on the occupation graph\n  beta_clerical_l     <- 40\n  beta_clerical_h     <- 30\n  beta_management_l   <- 20\n  beta_management_h   <- 30\n  beta_other_l        <- 40\n  beta_other_h        <- 60\n  beta_professional_l <- 35\n  beta_professional_h <- 35\n  beta_sales_l        <- 15\n  beta_sales_h        <- 10\n  beta_service_l      <- 35\n  beta_service_h      <- 15\n\n  # Simulate Poisson counts\n  list(\n    y_l_Clerical     = rpois(1, beta_clerical_l),\n    y_h_Clerical     = rpois(1, beta_clerical_h),\n    y_l_Management   = rpois(1, beta_management_l),\n    y_h_Management   = rpois(1, beta_management_h),\n    y_l_Other        = rpois(1, beta_other_l),\n    y_h_Other        = rpois(1, beta_other_h),\n    y_l_Professional = rpois(1, beta_professional_l),\n    y_h_Professional = rpois(1, beta_professional_h),\n    y_l_Sales        = rpois(1, beta_sales_l),\n    y_h_Sales        = rpois(1, beta_sales_h),\n    y_l_Service      = rpois(1, beta_service_l),\n    y_h_Service      = rpois(1, beta_service_h)\n  )\n}\n\nset.seed(123)\nfake_occ <- generate_fake_poisson_occupation()\n\ndata_list_fake_occupation <- fake_occ\nmodel_string_occupation <- \"\nmodel {\n  # Likelihoods\n  y_l_Clerical     ~ dpois(beta_l_Clerical)\n  y_h_Clerical     ~ dpois(beta_h_Clerical)\n\n  y_l_Management   ~ dpois(beta_l_Management)\n  y_h_Management   ~ dpois(beta_h_Management)\n\n  y_l_Other        ~ dpois(beta_l_Other)\n  y_h_Other        ~ dpois(beta_h_Other)\n\n  y_l_Professional ~ dpois(beta_l_Professional)\n  y_h_Professional ~ dpois(beta_h_Professional)\n\n  y_l_Sales        ~ dpois(beta_l_Sales)\n  y_h_Sales        ~ dpois(beta_h_Sales)\n\n  y_l_Service      ~ dpois(beta_l_Service)\n  y_h_Service      ~ dpois(beta_h_Service)\n\n  # Priors (based on the graph)\n  beta_l_Clerical     ~ dgamma(4, 0.1)\n  beta_h_Clerical     ~ dgamma(3, 0.1)\n\n  beta_l_Management   ~ dgamma(2, 0.1)\n  beta_h_Management   ~ dgamma(3, 0.1)\n\n  beta_l_Other        ~ dgamma(4, 0.1)\n  beta_h_Other        ~ dgamma(6, 0.1)\n\n  beta_l_Professional ~ dgamma(3.5, 0.1)\n  beta_h_Professional ~ dgamma(3.5, 0.1)\n\n  beta_l_Sales        ~ dgamma(1.5, 0.1)\n  beta_h_Sales        ~ dgamma(1, 0.1)\n\n  beta_l_Service      ~ dgamma(3.5, 0.1)\n  beta_h_Service      ~ dgamma(1.5, 0.1)\n}\n\"\nlibrary(runjags)\n\njags_samples_occupation_fake <- run.jags(\n  model = model_string_occupation,\n  data = data_list_fake_occupation,\n  monitor = c(\n    \"beta_l_Clerical\", \"beta_h_Clerical\",\n    \"beta_l_Management\", \"beta_h_Management\",\n    \"beta_l_Other\", \"beta_h_Other\",\n    \"beta_l_Professional\", \"beta_h_Professional\",\n    \"beta_l_Sales\", \"beta_h_Sales\",\n    \"beta_l_Service\", \"beta_h_Service\"\n  ),\n  n.chains = 3,\n  adapt = 1000,\n  burnin = 1000,\n  sample = 5000\n)\nprint(jags_samples_occupation_fake)\nplot_credible_intervals(jags_samples_occupation_fake)\nsummary(jags_samples_occupation_fake)\n",
      "block_group": "7bc90004b15445d382cbba7165f1e696",
      "execution_count": 231,
      "outputs": [],
      "outputs_reference": null,
      "content_dependencies": null
    },
    {
      "cell_type": "markdown",
      "metadata": {
        "deepnote_app_block_order": 143,
        "deepnote_app_block_visible": true,
        "deepnote_app_block_group_id": null,
        "cell_id": "8b8cc839b54147bc8741863b380667b9",
        "deepnote_cell_type": "markdown"
      },
      "source": "## Conclusion",
      "block_group": "f986fd167e8545499405ba7ab06e198e"
    },
    {
      "cell_type": "markdown",
      "metadata": {
        "deepnote_app_block_order": 144,
        "deepnote_app_block_visible": true,
        "deepnote_app_block_group_id": null,
        "cell_id": "760103921ca84433a63b61638f43a1f2",
        "deepnote_cell_type": "markdown"
      },
      "source": "Ce tableau compare la valeur moyenne estimée de \\( \\beta \\), c’est-à-dire **le nombre moyen d’individus par catégorie d’occupation** selon le niveau de salaire.\n\n| Occupation     | Salaire       | \\( \\beta\\) réel | \\( \\beta \\) simulé | Écart absolu |\n|---------------|--------------|----------------|----------------|--------------|\n| Clerical      | < Moyenne    | 40.03          | 36.37          | 3.66         |\n| Clerical      | ≥ Moyenne    | 30.17          | 35.39          | 5.22         |\n| Management    | < Moyenne    | 19.73          | 12.75          | 6.98         |\n| Management    | ≥ Moyenne    | 29.97          | 30.06          |   0.09       |\n| Other         | < Moyenne    | 40.04          | 48.99          | 8.95         |\n| Other         | ≥ Moyenne    | 60.01          | 62.67          | 2.66         |\n| Professional  | < Moyenne    | 34.85          | 27.75          | 7.10         |\n| Professional  | ≥ Moyenne    | 35.19          | 24.99          | 10.20        |\n| Sales         | < Moyenne    | 14.94          | 18.67          | 3.73         |\n| Sales         | ≥ Moyenne    | 9.96           | 10.89          | 0.93         |\n| Service       | < Moyenne    | 34.88          | 36.82          | 1.94         |\n| Service       | ≥ Moyenne    | 15.12          | 15.00          |   0.12       |\n\n---\n\n### Observations\n\n- **Très bonne cohérence** pour `Service` et `Management` : les données factices reproduisent presque parfaitement les valeurs réelles.\n- **Bonne approximation** pour `Sales`, `Clerical`, `Other`, avec de faibles écarts.\n- **Sous-estimation marquée** pour `Professional`, particulièrement dans la tranche des hauts salaires.\n- **Légère sous-estimation** pour `Management` dans la tranche basse.\n\n---\n\n### Conclusion\n\nLes données simulées **reproduisent bien la structure réelle**, avec des écarts modérés pour certaines catégories.  \nLe modèle et les **priors Gamma ajustés à partir des fréquences visuelles** montrent une **bonne performance générale**,  \nbien qu’un ajustement des paramètres pour `Professional` pourrait améliorer la précision.\n",
      "block_group": "ed4076ec8eb0473cb715e657cc6815fe"
    },
    {
      "cell_type": "markdown",
      "metadata": {
        "cell_id": "1b73bff9504d46919827d687f8390e5e",
        "deepnote_cell_type": "markdown"
      },
      "source": "# Références",
      "block_group": "708c6cd742cb471d9b4b43d6539341d1"
    },
    {
      "cell_type": "markdown",
      "metadata": {
        "cell_id": "b8a089b5067b465aba7484d00e8ee0cc",
        "deepnote_cell_type": "markdown"
      },
      "source": "## Références sur les statistiques bayésiennes  \n\n1. Stats with R. *The Basics of Bayesian Statistics*. Disponible à : [https://statswithr.github.io/book/the-basics-of-bayesian-statistics.html](https://statswithr.github.io/book/the-basics-of-bayesian-statistics.html)  \n\n2. Kruschke, J. *Bayesian Analysis in R*. Disponible à : [https://nyu-cdsc.github.io/learningr/assets/kruschke_bayesian_in_R.pdf](https://nyu-cdsc.github.io/learningr/assets/kruschke_bayesian_in_R.pdf)  \n\n3. Vehtari, A. *Regression and Other Stories — Examples*. Disponible à : [https://avehtari.github.io/ROS-Examples/index.html](https://avehtari.github.io/ROS-Examples/index.html)  \n\n4. Barlaz, M. *Bayesian Portfolio*. Disponible à : [https://marissabarlaz.github.io/portfolio/bayesian/](https://marissabarlaz.github.io/portfolio/bayesian/)  \n\n5. Davis-Ross, K. *Bayesian Reasoning and Methods*. Disponible à : [https://bookdown.org/kevin_davisross/bayesian-reasoning-and-methods/mean.html](https://bookdown.org/kevin_davisross/bayesian-reasoning-and-methods/mean.html)  \n\n\n6. BayesBall. *Bayesian Multiple Regression and Logistic Models*. Disponible à : [https://bayesball.github.io/BOOK/bayesian-multiple-regression-and-logistic-models.html](https://bayesball.github.io/BOOK/bayesian-multiple-regression-and-logistic-models.html)  \n",
      "block_group": "6a67794b8e4b4decbb006295963f49d1"
    },
    {
      "cell_type": "markdown",
      "metadata": {
        "cell_id": "22709fbefa994fa983cb54693781f9a0",
        "deepnote_cell_type": "markdown"
      },
      "source": "",
      "block_group": "e131222b22c941d68b239535c25f5c78"
    },
    {
      "cell_type": "markdown",
      "source": "<a style='text-decoration:none;line-height:16px;display:flex;color:#5B5B62;padding:10px;justify-content:end;' href='https://deepnote.com?utm_source=created-in-deepnote-cell&projectId=650b0311-43bb-4704-b320-0c62dbd2dedc' target=\"_blank\">\n<img alt='Created in deepnote.com' style='display:inline;max-height:16px;margin:0px;margin-right:7.5px;' src='data:image/svg+xml;base64,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' > </img>\nCreated in <span style='font-weight:600;margin-left:4px;'>Deepnote</span></a>",
      "metadata": {
        "created_in_deepnote_cell": true,
        "deepnote_cell_type": "markdown"
      }
    }
  ],
  "nbformat": 4,
  "nbformat_minor": 0,
  "metadata": {
    "deepnote_app_layout": "powerful-article",
    "deepnote_app_hide_all_code_blocks_enabled": false,
    "deepnote_app_reactivity_enabled": true,
    "deepnote_notebook_id": "ec0ce71408ee47eb88ba93cf7d0477e6"
  }
}