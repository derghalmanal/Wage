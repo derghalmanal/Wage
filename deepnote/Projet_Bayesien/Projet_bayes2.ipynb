{
  "cells": [
    {
      "cell_type": "code",
      "metadata": {
        "source_hash": "d0c73f31",
        "is_code_hidden": false,
        "execution_start": 1743305553380,
        "execution_millis": 30629,
        "is_output_hidden": false,
        "execution_context_id": "bd1085a3-c139-4c2f-a3a7-1de3a4c3d169",
        "deepnote_app_is_code_hidden": true,
        "deepnote_app_is_output_hidden": true,
        "cell_id": "4088a60d917447a7b8e25711fe8e1e6e",
        "deepnote_cell_type": "code"
      },
      "source": "system(\"sudo apt-get update -y && sudo apt-get install -y jags && sudo apt-get install -y r-cran-rjags\")\ninstall.packages('runjags')\ninstall.packages('rjags')",
      "block_group": "26181a3dcabd4e70b72ee09e9e5f95e5",
      "execution_count": 12,
      "outputs": [],
      "outputs_reference": null,
      "content_dependencies": null
    },
    {
      "cell_type": "code",
      "metadata": {
        "source_hash": "2df41e30",
        "execution_start": 1743305593129,
        "execution_millis": 7577,
        "execution_context_id": "bd1085a3-c139-4c2f-a3a7-1de3a4c3d169",
        "cell_id": "b4dced4004e94c1f99066ba6da4e4607",
        "deepnote_cell_type": "code"
      },
      "source": "# Charger les bibliothèques nécessaires\nlibrary(dplyr)\nlibrary(ggplot2)\nlibrary(tidyverse)\nlibrary(runjags)\nlibrary(rjags)",
      "block_group": "488a1db03a3440548deb2a2ac457a495",
      "execution_count": 13,
      "outputs": [],
      "outputs_reference": null,
      "content_dependencies": null
    },
    {
      "cell_type": "markdown",
      "metadata": {
        "cell_id": "099536a2971341eba62ae7e8686d57cd",
        "deepnote_cell_type": "markdown"
      },
      "source": "# Introduction\nL’étude des disparités salariales est un sujet central en économie du travail et en sciences sociales. Malgré les avancées vers l’égalité des chances, des différences de salaires persistent entre divers groupes sociaux, notamment en fonction du genre, de l’ethnicité, du niveau d’éducation et de l’expérience professionnelle. Aux États-Unis, des études ont montré que les écarts salariaux sont significatifs : les femmes gagnent en moyenne moins que les hommes, et certaines minorités ethniques, comme les Afro-Américains et les Latino-Américains, perçoivent des salaires inférieurs à ceux des Américains blancs et asiatiques.\n\nNotre projet vise à identifier les principaux facteurs influençant les salaires horaires en utilisant des modèles bayésiens. Plus précisément, nous cherchons à quantifier l’impact de variables telles que le genre, l’expérience professionnelle, le niveau d’éducation, l’appartenance syndicale et la localisation géographique sur les salaires.\n\nPour ce faire, nous utiliserons des méthodes bayésiennes de régression mises en œuvre avec JAGS, permettant une estimation robuste et une meilleure quantification des incertitudes. Notre approche inclura l’exploration des données, la spécification des modèles avec des choix de lois a priori justifiées, ainsi que des évaluations rigoureuses des performances des modèles à travers des diagnostics de convergence et des simulations de données fictives (fake data check).\n\nCe rapport est structuré comme suit : après une présentation des données et de leur exploration, nous décrirons les modèles bayésiens retenus et justifierons les choix de lois a priori. Nous présenterons ensuite les résultats de l’ajustement des modèles, suivis des diagnostics de convergence et de l’évaluation de leur performance. Enfin, nous discuterons des conclusions et des implications de nos résultats dans le contexte des disparités salariales aux États-Unis.",
      "block_group": "d16faf61b4834075ac640501cb96544e"
    },
    {
      "cell_type": "markdown",
      "metadata": {
        "cell_id": "3af9d78359d9408d9e66f104249ee93f",
        "deepnote_cell_type": "markdown"
      },
      "source": "# Modèle génératif et espace des paramètres\n\nOn veut construire un modèle prédictif pour le salaire des individus pour lesquels on connait 10 variables explicatives (âge, éducation, experience professionnelle, etc.), 434 individus dans un jeu de données d'entraînement et 100 individus dans le jeu de données de test.\n\nOn note $Y_i \\in \\mathbb{R}$ le salaire de l'individu $i$ et $X_i \\in \\mathbb{R}^{10}$ les variables explicatives de l'individu $i$.\n\nRégression linéaire:\n$Y_i = \\beta_0 + \\beta_1 X_{1i} + \\beta_2 X_{2i} + \\cdots + \\beta_{10} X_{10i} + \\sigma \\epsilon_i$\n11 paramètres $\\beta = (\\beta_0, \\beta_1, \\beta_2, \\cdots, \\beta_{10})$  $\\epsilon_i \\sim \\mathcal{N}(0, 1)$ et $\\sigma \\in \\mathbb{R^+}$\n\nCertaines variables peuvent avoir peu ou pas d'effet sur le salaire, ie des $\\beta_i = 0$.\n\n## Distribution à postériori\n\nA partir de $y=(y_1, y_2, \\cdots, y_{434})$ et $ X=(X_1, X_2, \\cdots, X_{434})$, on peut calculer $P(\\beta | y, X)$ et regarder $P(\\beta_j \\neq 0 | y, X)$ pour chaque coefficient.\n\n## Performances prédictives\n\nUn manière d'évaluer la performance prédictive $\\hat{\\beta}_{bayes} = E(\\beta | y, X)$\n$X_{test}$ matrice 100x10\n$y_{test}$ les observations\n$y_{test,Bayes} = X_{test} \\hat{\\beta}_{bayes}$\n\n# Degrès de croyance\n\nQue croit-on sur l'effet de chaque variable explicative sur le salaire?\n\nNous pouvons formuler des hypothèse à priori sur l'impact des différentes variables :\n\n- Éducation : On s’attend à une relation positive entre le niveau d’éducation et le salaire.\n\n- Expérience professionnelle (workexp) : Plus d’expérience est généralement associée à un salaire plus élevé.\n\n- Sexe (female) : Il est bien documenté qu’un écart salarial entre hommes et femmes existe (gender pay gap).\n\n- Région (south) : Il peut y avoir des différences salariales régionales.\n\n- Appartenance syndicale (unionmember) : Être syndiqué peut influencer le salaire.\n\n- Âge (age) : En général, l’âge est corrélé à l’expérience professionnelle, mais il pourrait aussi capturer d’autres dynamiques comme la discrimination liée à l’âge.\n\n- Ethnicité (ethnicity) : Certaines inégalités salariales peuvent exister selon l’origine ethnique.\n\n- Occupation et secteur (occupation, sector) : Le type d’emploi et le secteur d’activité influencent fortement le salaire.\n\n- Statut matrimonial (married) : Certaines études suggèrent que les personnes mariées ont des salaires plus élevés, en particulier les hommes.\n\n\n### Estimation d'un paramètre $\\beta$ avec des données\n\nAyant obtenu {$Y=y$} , $P(\\beta | y,X) = \\frac{P(\\beta) P(y,X | \\beta)}{P(y,X)}$\n\nDonc $posterior \\propto prior \\times likelihood$\n\n$prior = P(\\beta)$ : Croyance des effets des variables sur le salaire avant d'avoir les données.\n$likelihood = P(y | \\beta)$ : Probabilité d'observer les données en fonction des paramètres du modèle\n$posterior = P(\\beta | y)$ : La Distribution à posteriori après avoir observé les données*\n\nOn peut le voir ainsi :\n\n$P(Model | New Data)  = \\frac{P(Model) P(New Data | Model)}{P(New Data)}$\n\n",
      "block_group": "98471d7c6e304c45b6a6979c6e2489e3"
    },
    {
      "cell_type": "markdown",
      "metadata": {
        "cell_id": "9733bc9a734f44a78fe736b8178c914a",
        "deepnote_cell_type": "markdown"
      },
      "source": "# Nos données",
      "block_group": "b50b07a8cac94dd5bdebdc7182e841a7"
    },
    {
      "cell_type": "markdown",
      "metadata": {
        "cell_id": "f902c145183f4c3b9adfe86e9ada0cc2",
        "deepnote_cell_type": "markdown"
      },
      "source": "Notre jeu de données comprend 534 individus. Chaque individu a 10 variables : education, south, female, workexp, unionmember, wages, age, ethnicity, occupation, sector, married.\n\n- Variables quantitatives:\n    > **education**: Années d'études\n    >**workexp**: Années d'expêrience professionnelle\n    >**age**: âge\n\n- Variables qualitatives:\n    >**south**: Vit dans le sud ou non\n    >**female**: Indicateur de genre (0 = Homme, 1 = Femme)\n    >**unionmember**: Indicateur de membre du syndicat (0 = Non, 1 = Oui)\n    >**married**: Indicateur de statut marital. Marié(e) ou non.\n\n- Variables categorielles:\n    >**ethnicity**: Ethnicité (White, Hispanic, Other)\n    >**occupation**: Occupation (Management, Sales, Clerical, Professional, Service, Other)\n    >**sector**: Secteur d'activité (Manufactoring, Construction, Other)\n\n\n",
      "block_group": "5588fa021c6d4679ad4f4a6b80fc6de7"
    },
    {
      "cell_type": "code",
      "metadata": {
        "source_hash": "de5aec69",
        "is_code_hidden": true,
        "execution_start": 1743305388359,
        "execution_millis": 253,
        "execution_context_id": "bd1085a3-c139-4c2f-a3a7-1de3a4c3d169",
        "deepnote_app_is_code_hidden": true,
        "cell_id": "6a6a96da7db74c7e9602a4eb5601b44e",
        "deepnote_cell_type": "code"
      },
      "source": "wage_data = read.csv(\"https://raw.githubusercontent.com/derghalmanal/Wage/refs/heads/main/wage_data.csv\", header=TRUE, sep=\",\")\nhead(wage_data, 5)",
      "block_group": "85b789f622e14424b8e7b21333d27c41",
      "execution_count": 3,
      "outputs": [],
      "outputs_reference": null,
      "content_dependencies": null
    },
    {
      "cell_type": "code",
      "metadata": {
        "source_hash": "dda84e9",
        "is_code_hidden": true,
        "execution_start": 1743305388660,
        "execution_millis": 0,
        "execution_context_id": "bd1085a3-c139-4c2f-a3a7-1de3a4c3d169",
        "deepnote_app_is_code_hidden": true,
        "cell_id": "76bd208e1b0e473483bb1873cfe89b17",
        "deepnote_cell_type": "code"
      },
      "source": "str(wage_data)",
      "block_group": "802d824360ac47b3b5ff54592a55476a",
      "execution_count": 4,
      "outputs": [],
      "outputs_reference": null,
      "content_dependencies": null
    },
    {
      "cell_type": "markdown",
      "metadata": {
        "cell_id": "3c5cca272ba7426493c1afe08d926a60",
        "deepnote_cell_type": "markdown"
      },
      "source": "",
      "block_group": "3c8156a9e13747cd8fe835425752725f"
    },
    {
      "cell_type": "markdown",
      "metadata": {
        "cell_id": "89fd447405f44084ac261927fae8cae8",
        "deepnote_cell_type": "markdown"
      },
      "source": "Analysons la contribution de chaque variable aux salaires",
      "block_group": "ee8ca6bbe25a40168b528cc61c0e42d9"
    },
    {
      "cell_type": "code",
      "metadata": {
        "source_hash": "e1badca2",
        "is_code_hidden": true,
        "execution_start": 1743305878159,
        "execution_millis": 1,
        "execution_context_id": "bd1085a3-c139-4c2f-a3a7-1de3a4c3d169",
        "deepnote_app_is_code_hidden": true,
        "cell_id": "73060e82a97a4f1b91dae36e26e8cb35",
        "deepnote_cell_type": "code"
      },
      "source": "plot_credible_intervals <- function(fit) {\n  # Extract the MCMC samples and the names of the parameters\n  samples <- as.data.frame(jags_samples$mcmc %>% lapply(as_tibble) %>% bind_rows())\n  params <- names(samples)\n\n  # Calculate the 50% and 95% credible intervals for each parameter\n  intervals <- data.frame(param = character(), lower = numeric(), upper = numeric())\n  for (param in params) {\n    est_mean <- mean(samples[[param]])\n    est_median <- median(samples[[param]])\n    ci_50_infCI <- quantile(samples[[param]], probs = 0.25)\n    ci_50_supCI <- quantile(samples[[param]], probs = 0.75)\n    ci_95_infCI <- quantile(samples[[param]], probs = 0.025)\n    ci_95_supCI <- quantile(samples[[param]], probs = 0.975)\n    intervals <- rbind(intervals, data.frame(param = param, est_mean = est_mean, est_median = est_median, ci_50_infCI = ci_50_infCI, ci_50_supCI = ci_50_supCI, ci_95_infCI = ci_95_infCI, ci_95_supCI = ci_95_supCI))\n  }\n\n  # Create a ggplot object\n  p <- ggplot(intervals, aes(y = param)) +\n    theme_classic() +\n    geom_segment(aes(y = param, yend = param, x = ci_95_infCI, xend = ci_95_supCI),\n      color = \"red\", size = 0.5\n    ) +\n    geom_segment(aes(y = param, yend = param, x = ci_50_infCI, xend = ci_50_supCI),\n      color = \"red\", size = 1.5\n    ) +\n    geom_point(aes(x = est_mean), size = 3) +\n    labs(title = \"Posterior credible intervals\") +\n    xlab(\"\") +\n    ylab(\"\")\n\n  # Print the plot\n  print(p)\n}",
      "block_group": "d0e0588ccd11455d8f2dd3b9d3f1490f",
      "execution_count": 15,
      "outputs": [],
      "outputs_reference": null,
      "content_dependencies": null
    },
    {
      "cell_type": "markdown",
      "metadata": {
        "cell_id": "9c7a32252c52462d9fc76b4541a0c55f",
        "deepnote_cell_type": "markdown"
      },
      "source": "# Variable Education",
      "block_group": "4e17fc5fe61a4add961717b0303a8260"
    },
    {
      "cell_type": "markdown",
      "metadata": {
        "cell_id": "0917d845b2f74838b2382f51c97093e2",
        "deepnote_cell_type": "markdown"
      },
      "source": "La variable Education représente le nombre d'années d'études.",
      "block_group": "df43372a515e4e50a4b97b8a2f78acbd"
    },
    {
      "cell_type": "code",
      "metadata": {
        "source_hash": "2d6ed269",
        "is_code_hidden": false,
        "execution_start": 1743305388732,
        "execution_millis": 355,
        "execution_context_id": "bd1085a3-c139-4c2f-a3a7-1de3a4c3d169",
        "deepnote_app_is_code_hidden": true,
        "cell_id": "829a16b3ec2c42e4bc85c56f8ae17597",
        "deepnote_cell_type": "code"
      },
      "source": "# Charger les bibliothèques nécessaires\nlibrary(ggplot2)\n\n# Tracer l'histogramme avec la densité empirique\nggplot(wage_data, aes(x = education)) +\n  geom_histogram(aes(y = ..density..), bins = 30, fill = \"skyblue\", color = \"black\", alpha = 0.7) +\n  labs(title = \"Distribution de la variable 'education' avec densité Gamma(25,2)\",\n       x = \"Niveau d'éducation\", y = \"Densité\") +\n  theme_minimal()\n",
      "block_group": "f58afa6e669e42339373f504da28d743",
      "execution_count": 5,
      "outputs": [],
      "outputs_reference": null,
      "content_dependencies": null
    },
    {
      "cell_type": "markdown",
      "metadata": {
        "cell_id": "a8c6aa47642548e0af0b5221457ecc05",
        "deepnote_cell_type": "markdown"
      },
      "source": "L'histogramme montre une distribution avec un pic très prononcé à 12 années d'études, indiquant que la plupart des individus ont ce niveau d'éducation.\nIl y a quelques valeurs dispersées autour de ce pic, mais la majorité des données est concentrée à 12 ans.\nChoix de la vraisemblance :\n\nÉtant donné la concentration des données à une valeur spécifique, nous avons choisi une distribution de Poisson pour modéliser le nombre d'années d'études. \n\n$y,X | \\beta_{education} \\sim \\mathcal{Poisson}(\\beta_{education} )$\n\n## Prior\n\n$\\beta_{education} \\sim \\mathcal{Gamma}(\\alpha, \\beta)$\n\nOn souhaite que $E(\\beta_{education}) = 12$ et $V(\\beta_{education}) = 20$\nPour la loi gamma $E(\\beta) = \\frac{\\alpha}{\\beta}$ et $V(\\beta) = \\frac{\\alpha}{\\beta^2}$\n\ndonc $\\beta_{education} \\sim \\mathcal{Gamma}(7.2, 0.6)$",
      "block_group": "e84adc05f7e54261b2341f9e69b3f07c"
    },
    {
      "cell_type": "markdown",
      "metadata": {
        "cell_id": "cc1549a0ad62423ab94890f2d3024d58",
        "deepnote_cell_type": "markdown"
      },
      "source": "## Implementation en JAGS",
      "block_group": "a40397dd5be34125b0f0cb5131ace0a7"
    },
    {
      "cell_type": "code",
      "metadata": {
        "source_hash": "dbbbfd19",
        "is_code_hidden": false,
        "execution_start": 1743307753779,
        "execution_millis": 435,
        "execution_context_id": "bd1085a3-c139-4c2f-a3a7-1de3a4c3d169",
        "deepnote_app_is_code_hidden": true,
        "cell_id": "69bc216c549846cca8014f2d6896c147",
        "deepnote_cell_type": "code"
      },
      "source": "model_education_string <- \"\nmodel {\n  beta_education ~ dgamma(7.2, 0.6)\n  \n  \n  for (i in 1:n) {\n    y[i] ~ dpois(beta_education)\n  }\n  \n}\n\"\n\n\n# Définition des données\ny <- wage_data$wages\ndata_list <- list(y = y, n = length(y))\n\n\n# Compiling and producing posterior samples from the model.\njags_samples <- run.jags(model = model_education_string, data = data_list, monitor = c(\"beta_education\"))\n\n# Plotting and summarizing the posterior distribution\njags_samples\nplot_credible_intervals(jags_samples)",
      "block_group": "35f23539978f4dbeaf5b186344fa4195",
      "execution_count": 24,
      "outputs": [],
      "outputs_reference": null,
      "content_dependencies": null
    },
    {
      "cell_type": "markdown",
      "metadata": {
        "cell_id": "475e3cc6c547441987efc3ff1b8e6ec0",
        "deepnote_cell_type": "markdown"
      },
      "source": "## MCMC",
      "block_group": "f0cff02228d948448897f0c485c603e0"
    },
    {
      "cell_type": "code",
      "metadata": {
        "source_hash": "54108214",
        "is_code_hidden": false,
        "execution_start": 1743309580669,
        "execution_millis": 1753,
        "execution_context_id": "bd1085a3-c139-4c2f-a3a7-1de3a4c3d169",
        "deepnote_app_is_code_hidden": true,
        "cell_id": "a2042df85b404bdd996dc953b5135335",
        "deepnote_cell_type": "code"
      },
      "source": "# Fonction pour tracer traceplots et autocorrélogrammes\nplot_mcmc <- function(jags_samples) {\n  \n  # Convertir en objet mcmc\n  mcmc_samples <- as.mcmc.list(jags_samples)\n  \n  # Traceplots (convergence)\n  plot(mcmc_samples, trace = TRUE, density = TRUE)\n  \n  # Tracer l'autocorrélation pour chaque chaîne\n  autocorr.plot(jags_samples)\n}\n\n# Utilisation de la fonction\nplot_mcmc(jags_samples)\n\n",
      "block_group": "96287c4a4aeb4ae8b17b730c77ab2adb",
      "execution_count": 40,
      "outputs": [],
      "outputs_reference": null,
      "content_dependencies": null
    },
    {
      "cell_type": "markdown",
      "metadata": {
        "cell_id": "81e9b8a4976d4b5da2f9d7f92e881990",
        "deepnote_cell_type": "markdown"
      },
      "source": "## Fake data check",
      "block_group": "440e81c10ccc4c7f98fa7f773476faa5"
    },
    {
      "cell_type": "code",
      "metadata": {
        "source_hash": "261b907c",
        "execution_start": 1743309143999,
        "execution_millis": 548,
        "execution_context_id": "bd1085a3-c139-4c2f-a3a7-1de3a4c3d169",
        "deepnote_app_block_visible": false,
        "cell_id": "6f78d0e8af22482891e6bfad825974a2",
        "deepnote_cell_type": "code"
      },
      "source": "generate_fake_data <- function(n) {\n    beta_education_fake <- 9\n  \n  # Générer des données factices à partir de la distribution de Poisson\n  y_fake <- rpois(n, beta_education_fake)\n  \n  return(list(y_fake = y_fake))\n}\n\n# Générer des données factices à partir des échantillons postérieurs\nfake_data <- generate_fake_data(length(y))\n\n# Comparer les données factices avec les données réelles\nsummary(fake_data$y_fake)\nsummary(y)\n\ndata_list <- list(y = fake_data$y_fake, n = length(y))\n\n\n# Compiling and producing posterior samples from the model.\njags_samples <- run.jags(model = model_education_string, data = data_list, monitor = c(\"beta_education\"))\n\n# Plotting and summarizing the posterior distribution\njags_samples\nplot_credible_intervals(jags_samples)",
      "block_group": "11628187da844c15acbfbc13e58e8cda",
      "execution_count": 29,
      "outputs": [],
      "outputs_reference": null,
      "content_dependencies": null
    },
    {
      "cell_type": "markdown",
      "metadata": {
        "cell_id": "efa8ce1275364ec1816e58cb378832a2",
        "deepnote_cell_type": "markdown"
      },
      "source": "## Conclusion",
      "block_group": "43358203f5dd41789fff4fc1aedb8fb5"
    },
    {
      "cell_type": "markdown",
      "metadata": {
        "cell_id": "20fee42704bc409e9f2d07d5a23bbeeb",
        "deepnote_cell_type": "markdown"
      },
      "source": "# Variable Age",
      "block_group": "ffcbd52d665d4dc1bf56744a346a2117"
    },
    {
      "cell_type": "markdown",
      "metadata": {
        "cell_id": "14e25db8d655400baf994d6410ee2a51",
        "deepnote_cell_type": "markdown"
      },
      "source": "On observe que l'age des individus est fortement correle avec l'experience professionnelle, ce qui fait sens puisque plus l'age est grand, plus l'experience professionnelle est longue. Pour éviter une instabilité des estimations, nous supprimons écartons la variable Age.",
      "block_group": "82cd7f65241949789bd0d902145b0891"
    },
    {
      "cell_type": "code",
      "metadata": {
        "source_hash": "cd494c11",
        "execution_start": 1743310021460,
        "execution_millis": 116,
        "execution_context_id": "bd1085a3-c139-4c2f-a3a7-1de3a4c3d169",
        "cell_id": "63659ae6cd594b859e89fa380eec3fad",
        "deepnote_cell_type": "code"
      },
      "source": "ggplot(wage_data, aes(x=age, y=workexp)) +\n  geom_point(alpha=0.5, color=\"purple\") +\n  labs(title=\"Relation entre Age et Expérience Professionnelle\", x=\"Age\", y=\"Expérieence Professionnelle\")",
      "block_group": "8f98c0bec7604b8a84ff3ad8d65d94e2",
      "execution_count": 42,
      "outputs": [],
      "outputs_reference": null,
      "content_dependencies": null
    },
    {
      "cell_type": "markdown",
      "metadata": {
        "cell_id": "40b6613553a44770b69ef3e6b684f7d1",
        "deepnote_cell_type": "markdown"
      },
      "source": "# Variable Work experience",
      "block_group": "ca4b47b76dfb408d8443ca9f6120195c"
    },
    {
      "cell_type": "code",
      "metadata": {
        "source_hash": "8bcc6d50",
        "execution_start": 1743313231879,
        "execution_millis": 107,
        "execution_context_id": "bd1085a3-c139-4c2f-a3a7-1de3a4c3d169",
        "cell_id": "5fc3be912b83427d8589691b0cc5c1a5",
        "deepnote_cell_type": "code"
      },
      "source": "# Tracer l'histogramme avec la densité empirique\nggplot(wage_data, aes(x = workexp)) +\n  geom_histogram(aes(y = ..density..), bins = 20, fill = \"skyblue\", color = \"black\", alpha = 0.7) +\n  labs(title = \"Distribution de la variable 'workexp'\",\n       x = \"Experience professionnelle\", y = \"Densité\") +\n  theme_minimal()",
      "block_group": "3326b2c47cb74f8786454590291486db",
      "execution_count": 56,
      "outputs": [],
      "outputs_reference": null,
      "content_dependencies": null
    },
    {
      "cell_type": "markdown",
      "metadata": {
        "cell_id": "18f8ff1f4cc04b6c81a2bb0448701497",
        "deepnote_cell_type": "markdown"
      },
      "source": "## Choix du prior",
      "block_group": "e852aac4b257453eb9bb36c5161f1c6a"
    },
    {
      "cell_type": "markdown",
      "metadata": {
        "cell_id": "ee94c7cfbd5f4a43b8e732ea2e8b9a16",
        "deepnote_cell_type": "markdown"
      },
      "source": "Choix de la vraisemblance :\n\nUne distribution normale semble appropriée pour modéliser les années d'expérience au travail, car les données suivent une forme de cloche.\n\n$y,X | \\beta_{workexp} \\sim \\mathcal{Normal}(\\mu, \\sigma)$\n\nChoix du prior :\n\n$\\mu \\sim \\mathcal{Uniform}(0, 100)$ Si on ne sait pas précisément où se trouve la moyenne d'âge\n\n$\\sigma \\sim \\mathcal{Uniform}(0, 100)$ Si on ne sait pas preciser la variance",
      "block_group": "d4a5bd2ffa594acb8dd1503b08055bbd"
    },
    {
      "cell_type": "markdown",
      "metadata": {
        "cell_id": "ec8200d3ae2b46b2b4affc1641236965",
        "deepnote_cell_type": "markdown"
      },
      "source": "## Implémentation en JAGS",
      "block_group": "3dbc947e8f6d481eb063b547b22ff178"
    },
    {
      "cell_type": "code",
      "metadata": {
        "source_hash": "7d25862c",
        "execution_start": 1743313635394,
        "execution_millis": 7119,
        "execution_context_id": "bd1085a3-c139-4c2f-a3a7-1de3a4c3d169",
        "cell_id": "57beb57799c2430d87c6bc9a5096da36",
        "deepnote_cell_type": "code"
      },
      "source": "model_workexp_string <- \"\nmodel {\n\n  mu ~ dunif(0, 30)\n  sigma ~ dunif(0, 50)\n  precision <- 1/sigma^2\n  \n  for (i in 1:n) {\n    y[i] ~ dnorm(mu, precision)\n  }\n  \n}\n\"\n\n\n# Définition des données\ny <- wage_data$workexp\ndata_list <- list(y = y, n = length(y))\n\n\n# Compiling and producing posterior samples from the model.\njags_samples <- run.jags(model = model_workexp_string, data = data_list, monitor = c(\"mu\", \"sigma\"))\n\n# Plotting and summarizing the posterior distribution\njags_samples\nplot_credible_intervals(jags_samples)",
      "block_group": "13ccf7d02c78449990ae291d5679468f",
      "execution_count": 61,
      "outputs": [],
      "outputs_reference": null,
      "content_dependencies": null
    },
    {
      "cell_type": "markdown",
      "metadata": {
        "cell_id": "b080edda887a4c66abae60a0eb2fd017",
        "deepnote_cell_type": "markdown"
      },
      "source": "## MCMC",
      "block_group": "fdbeb741f08344e8ac5f45b897534aad"
    },
    {
      "cell_type": "code",
      "metadata": {
        "source_hash": "778705d5",
        "execution_start": 1743313673769,
        "execution_millis": 1150,
        "execution_context_id": "bd1085a3-c139-4c2f-a3a7-1de3a4c3d169",
        "cell_id": "9e7ec225d00d4aed9afee3a81d9194db",
        "deepnote_cell_type": "code"
      },
      "source": "plot_mcmc(jags_samples)",
      "block_group": "5344d376cc434386958e956ffad2e0bb",
      "execution_count": 62,
      "outputs": [],
      "outputs_reference": null,
      "content_dependencies": null
    },
    {
      "cell_type": "markdown",
      "metadata": {
        "cell_id": "c33643304f1c496c84717a6abeda8e88",
        "deepnote_cell_type": "markdown"
      },
      "source": "",
      "block_group": "f2f0c30a98424054b04a3c868f4e2df9"
    },
    {
      "cell_type": "markdown",
      "metadata": {
        "cell_id": "0e76b31e203044f5a356c88878a237eb",
        "deepnote_cell_type": "markdown"
      },
      "source": "## Fake data check",
      "block_group": "3d0791e0c72d444ba5efe028d7940b40"
    },
    {
      "cell_type": "code",
      "metadata": {
        "source_hash": "6bb5fc3e",
        "execution_start": 1743313892599,
        "execution_millis": 21,
        "execution_context_id": "bd1085a3-c139-4c2f-a3a7-1de3a4c3d169",
        "cell_id": "75cb33a5a5e4444e813e194953f49fca",
        "deepnote_cell_type": "code"
      },
      "source": "generate_fake_data <- function(n) {\n    mu_fake <- 17\n    sigma_fake <- 11\n  \n  # Générer des données factices à partir de la distribution de Poisson\n  y_fake <- dnorm(n, mu_fake, sigma_fake)\n  \n  return(list(y_fake = y_fake))\n}\n\n# Générer des données factices à partir des échantillons postérieurs\nfake_data <- generate_fake_data(length(y))\n\n# Comparer les données factices avec les données réelles\nsummary(fake_data$y_fake)\nsummary(y)\n\ndata_list <- list(y = fake_data$y_fake, n = length(y))\n\n\n# Compiling and producing posterior samples from the model.\njags_samples <- run.jags(model = model_education_string, data = data_list, monitor = c(\"mu_fake\", \"sigma_fake\"))\n\n# Plotting and summarizing the posterior distribution\njags_samples\nplot_credible_intervals(jags_samples)",
      "block_group": "7da8bd2a106a40158d8da7204932a493",
      "execution_count": 65,
      "outputs": [],
      "outputs_reference": null,
      "content_dependencies": null
    },
    {
      "cell_type": "code",
      "metadata": {
        "cell_id": "d1a7704df2f943efaf2619d6f534dd3d",
        "deepnote_cell_type": "code"
      },
      "source": "",
      "block_group": "5992f0a50f96436f964d95cac402f26c",
      "execution_count": null,
      "outputs": [],
      "outputs_reference": null,
      "content_dependencies": null
    },
    {
      "cell_type": "markdown",
      "source": "<a style='text-decoration:none;line-height:16px;display:flex;color:#5B5B62;padding:10px;justify-content:end;' href='https://deepnote.com?utm_source=created-in-deepnote-cell&projectId=650b0311-43bb-4704-b320-0c62dbd2dedc' target=\"_blank\">\n<img alt='Created in deepnote.com' style='display:inline;max-height:16px;margin:0px;margin-right:7.5px;' src='data:image/svg+xml;base64,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' > </img>\nCreated in <span style='font-weight:600;margin-left:4px;'>Deepnote</span></a>",
      "metadata": {
        "created_in_deepnote_cell": true,
        "deepnote_cell_type": "markdown"
      }
    }
  ],
  "nbformat": 4,
  "nbformat_minor": 0,
  "metadata": {
    "deepnote_notebook_id": "ec0ce71408ee47eb88ba93cf7d0477e6"
  }
}